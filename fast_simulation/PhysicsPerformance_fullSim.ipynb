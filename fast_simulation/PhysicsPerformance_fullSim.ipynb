{
 "cells": [
  {
   "cell_type": "markdown",
   "id": "2f02d474",
   "metadata": {},
   "source": [
    "## Physics Performance Notebook \n",
    "Notebook to evaluate the perfomance of full sim training. <br>\n",
    "Need as imput: the training model (best_valid_model.pt) and the input graph (stored PF properties) <br>\n",
    "uses pyjet to recluster the jets after we apply puppi and GNN weights\n"
   ]
  },
  {
   "cell_type": "markdown",
   "id": "47529c4d",
   "metadata": {},
   "source": [
    "Load all needed environments"
   ]
  },
  {
   "cell_type": "code",
   "execution_count": 1,
   "id": "aac307fe",
   "metadata": {},
   "outputs": [
    {
     "name": "stderr",
     "output_type": "stream",
     "text": [
      "/depot/cms/private/users/gpaspala/miniconda3/envs/DeepPuppi/lib/python3.8/site-packages/xgboost/compat.py:36: FutureWarning: pandas.Int64Index is deprecated and will be removed from pandas in a future version. Use pandas.Index with the appropriate dtype instead.\n",
      "  from pandas import MultiIndex, Int64Index\n"
     ]
    },
    {
     "name": "stdout",
     "output_type": "stream",
     "text": [
      "True\n"
     ]
    },
    {
     "name": "stderr",
     "output_type": "stream",
     "text": [
      "/tmp/ipykernel_3776493/3901455568.py:30: FutureWarning: ``set_style`` is deprecated: Naming convention is changing to match mpl. Use ``mplhep.style.use()``.\n",
      "  hep.set_style(hep.style.CMS)\n"
     ]
    }
   ],
   "source": [
    "import argparse\n",
    "import torch\n",
    "from torch_geometric.data import DataLoader\n",
    "#import models_ggnn_oldpipe as models\n",
    "import models_fastsim as models\n",
    "import utils\n",
    "import matplotlib\n",
    "from copy import deepcopy\n",
    "import os\n",
    "import copy\n",
    "import uproot\n",
    "import awkward as ak\n",
    "import xgboost as xgb\n",
    "\n",
    "#matplotlib.use(\"pdf\")\n",
    "import numpy as np\n",
    "import random\n",
    "import pickle\n",
    "import joblib\n",
    "from timeit import default_timer as timer\n",
    "from tqdm import tqdm\n",
    "\n",
    "import matplotlib as mpl\n",
    "import imageio\n",
    "\n",
    "#mpl.use(\"pdf\")\n",
    "import matplotlib.pyplot as plt\n",
    "import mplhep as hep\n",
    "\n",
    "hep.set_style(hep.style.CMS)\n",
    "\n",
    "device = torch.device('cuda' if torch.cuda.is_available() else 'cpu')\n",
    "print(torch.cuda.is_available())\n",
    "\n",
    "from pyjet import cluster, DTYPE_PTEPM\n",
    "from collections import OrderedDict\n",
    "import scipy.stats"
   ]
  },
  {
   "cell_type": "code",
   "execution_count": 2,
   "id": "bc5bebd9",
   "metadata": {},
   "outputs": [],
   "source": [
    "#open with uproot to get the gen info:\n",
    "# read the ttree\n",
    "tree = uproot.open(\"/depot/cms/private/users/gpaspala/output_1.root\")[\"Events\"]\n",
    "# read the pf candidates and gen particle information into akward arrays\n",
    "pfcands = tree.arrays(tree.keys('PF_*') + ['nPF'], entry_start=0, entry_stop=2000)\n",
    "genparts = tree.arrays(tree.keys('packedGenPart_*') + ['npackedGenPart'], entry_start=0, entry_stop=2000)\n"
   ]
  },
  {
   "cell_type": "code",
   "execution_count": 3,
   "id": "5c0d47c3",
   "metadata": {},
   "outputs": [],
   "source": [
    "isGenChg = genparts['packedGenPart_charge']!=0"
   ]
  },
  {
   "cell_type": "markdown",
   "id": "91a88a9a",
   "metadata": {},
   "source": [
    "define the deltaPhi and deltaR functions"
   ]
  },
  {
   "cell_type": "code",
   "execution_count": 4,
   "id": "82383178",
   "metadata": {},
   "outputs": [],
   "source": [
    "def deltaPhiNew(dphis):\n",
    "    dphis = np.where(dphis > np.pi, dphis - 2*np.pi, dphis)\n",
    "    dphis = np.where(dphis <-np.pi, dphis + 2*np.pi, dphis)\n",
    "    return dphis\n",
    "\n",
    "def deltaRNew(detas, dphis):\n",
    "    \"\"\"\n",
    "    calculate the deltaR based on the input deta and phi\n",
    "    \"\"\"\n",
    "    dphis = deltaPhiNew(dphis)\n",
    "    dR = np.sqrt(detas**2 + dphis**2)\n",
    "    return dR"
   ]
  },
  {
   "cell_type": "markdown",
   "id": "12287ed7",
   "metadata": {},
   "source": [
    "Do some preprocessings of data, needed for the model <br>\n",
    "@YB: Why do we need to add the masking ??"
   ]
  },
  {
   "cell_type": "code",
   "execution_count": 5,
   "id": "3ce79741",
   "metadata": {},
   "outputs": [],
   "source": [
    "def generate_mask(dataset):\n",
    "    # how many LV and PU to sample\n",
    "    # dataset = deepcopy(dataset_org)\n",
    "    for graph in dataset:\n",
    "        LV_index = graph.LV_index\n",
    "        PU_index = graph.PU_index\n",
    "        original_feature = graph.x[:, 0:graph.num_feature_actual]\n",
    "\n",
    "        num_select_LV = 10\n",
    "        num_select_PU = 160\n",
    "\n",
    "        if LV_index.shape[0] < num_select_LV or PU_index.shape[0] < num_select_PU:\n",
    "            num_select_LV = min(LV_index.shape[0], num_select_LV)\n",
    "            num_select_PU = min(PU_index.shape[0], num_select_PU)\n",
    "\n",
    "        # generate the index for LV and PU samples for training mask\n",
    "        gen_index_LV = random.sample(range(LV_index.shape[0]), num_select_LV)\n",
    "        selected_LV_train = LV_index[gen_index_LV]\n",
    "\n",
    "        gen_index_PU = random.sample(range(PU_index.shape[0]), num_select_PU)\n",
    "        selected_PU_train = PU_index[gen_index_PU]\n",
    "\n",
    "        training_mask = np.concatenate((selected_LV_train, selected_PU_train), axis=None)\n",
    "        #print(training_mask)\n",
    "\n",
    "        # construct mask vector for training and testing\n",
    "        mask_training = torch.zeros(graph.num_nodes, 1)\n",
    "        mask_training[[training_mask.tolist()]] = 1\n",
    "\n",
    "        x_concat = torch.cat((original_feature, mask_training), 1)\n",
    "        graph.x = x_concat\n",
    "\n",
    "        \n",
    "        # mask the puppiWeight as default Neutral(here puppiweight is actually fromLV in ggnn dataset)\n",
    "        puppiWeight_default_one_hot_training = torch.cat((torch.zeros(graph.num_nodes, 1),\n",
    "                                                          torch.zeros(graph.num_nodes, 1),\n",
    "                                                          torch.ones(graph.num_nodes, 1)), 1)\n",
    "        puppiWeight_default_one_hot_training = puppiWeight_default_one_hot_training.type(torch.float32)\n",
    "        \n",
    "        #mask the pdgID for charge particles\n",
    "        pdgId_one_hot_training = torch.cat((torch.zeros(graph.num_nodes, 1),\n",
    "                                                          torch.zeros(graph.num_nodes, 1),\n",
    "                                                          torch.ones(graph.num_nodes, 1)), 1)       \n",
    "        pdgId_one_hot_training = pdgId_one_hot_training.type(torch.float32)\n",
    "\n",
    "        pf_dz_training_test=torch.clone(original_feature[:,6:7])\n",
    "        pf_dz_training_test = torch.zeros(graph.num_nodes, 1)    \n",
    "        \n",
    "\n",
    "        # -4 is for one hot encoding of fromLV and one mask; -1 is for final puppiweight\n",
    "        #default_data_training = torch.cat(\n",
    "         #   (original_feature[:, 0:(graph.num_features - 4 - 1)], puppiWeight_default_one_hot_training,\n",
    "         #    original_feature[:, -1].view(-1, 1)), 1)\n",
    "        default_data_training = torch.cat(\n",
    "             (original_feature[:, 0:(graph.num_feature_actual - 7)],pdgId_one_hot_training, pf_dz_training_test ,puppiWeight_default_one_hot_training), 1)\n",
    "        \n",
    "\n",
    "        concat_default = torch.cat((graph.x, default_data_training), 1)\n",
    "        graph.x = concat_default"
   ]
  },
  {
   "cell_type": "code",
   "execution_count": 6,
   "id": "96c0881f",
   "metadata": {},
   "outputs": [],
   "source": [
    "def generate_neu_mask(dataset):\n",
    "    # all neutrals with pt cuts are masked for evaluation\n",
    "    for graph in dataset:\n",
    "        nparticles = graph.num_nodes\n",
    "        graph.num_feature_actual = graph.num_features\n",
    "        Neutral_index = graph.Neutral_index\n",
    "        Neutral_feature = graph.x[Neutral_index]\n",
    "        Neutral_index = Neutral_index[torch.where(Neutral_feature[:, 2] > 0.5)[0]]\n",
    "\n",
    "        mask_neu = torch.zeros(nparticles, 1)\n",
    "        mask_neu[Neutral_index, 0] = 1\n",
    "        graph.mask_neu = mask_neu\n",
    "\n",
    "    return dataset"
   ]
  },
  {
   "cell_type": "markdown",
   "id": "47a27abe",
   "metadata": {},
   "source": [
    "Load the model"
   ]
  },
  {
   "cell_type": "code",
   "execution_count": 7,
   "id": "08ad25f2",
   "metadata": {},
   "outputs": [],
   "source": [
    "class Args(object):\n",
    "    def __init__(self, model_type = 'Gated', do_boost=False, extralayers=False):\n",
    "        self.model_type = model_type\n",
    "        self.num_layers = 2\n",
    "        self.batch_size = 1\n",
    "        self.hidden_dim = 20\n",
    "        self.dropout = 0\n",
    "        self.opt = 'adam'\n",
    "        self.weight_decay = 0\n",
    "        self.lr = 0.01\n",
    "        self.do_boost = do_boost\n",
    "        self.extralayers = extralayers"
   ]
  },
  {
   "cell_type": "code",
   "execution_count": 8,
   "id": "93f59825",
   "metadata": {},
   "outputs": [],
   "source": [
    "args = Args()"
   ]
  },
  {
   "cell_type": "code",
   "execution_count": 9,
   "id": "df19919b",
   "metadata": {},
   "outputs": [],
   "source": [
    "class PerformanceMetrics(object):\n",
    "    def __init__(self):\n",
    "        pt = 0.\n",
    "        pt_diff = 0.\n",
    "        mass_diff = 0.\n",
    "        dR_diff = 0."
   ]
  },
  {
   "cell_type": "markdown",
   "id": "95289f3e",
   "metadata": {},
   "source": [
    "cluster the jets based on the array of pt, eta, phi,\n",
    "of all particles (masses are assumed to be zero),\n",
    " with pyjet clustering algo"
   ]
  },
  {
   "cell_type": "code",
   "execution_count": 10,
   "id": "28ccbe32",
   "metadata": {},
   "outputs": [],
   "source": [
    "def clusterJets(pt, eta, phi, ptcut=0., deltaR=0.7):\n",
    "    \"\"\"\n",
    "    cluster the jets based on the array of pt, eta, phi,\n",
    "    of all particles (masses are assumed to be zero),\n",
    "    with pyjet clustering algo\n",
    "    \"\"\"\n",
    "    # cleaning zero pt-ed objects\n",
    "    pt_wptcut   = pt[pt > ptcut]\n",
    "    eta_wptcut  = eta[pt > ptcut]\n",
    "    phi_wptcut  = phi[pt > ptcut]\n",
    "    mass_wptcut = np.zeros(pt_wptcut.shape[0])\n",
    "    \n",
    "    event = np.column_stack((pt_wptcut, eta_wptcut, phi_wptcut, mass_wptcut))\n",
    "    event.dtype = DTYPE_PTEPM\n",
    "    sequence = cluster(event, R=deltaR, p=-1)\n",
    "    jets = sequence.inclusive_jets(ptmin=30)\n",
    "    \n",
    "    return jets\n",
    "\n",
    "def deltaPhi(phi1, phi2):\n",
    "    dphi = phi1 - phi2\n",
    "    while dphi > np.pi:\n",
    "        dphi -= 2 * np.pi\n",
    "    while dphi < -np.pi:\n",
    "        dphi += 2 * np.pi\n",
    "    return dphi\n",
    "\n",
    "def deltaR(eta1, phi1, eta2, phi2):\n",
    "    \"\"\"\n",
    "    calculate the deltaR between two jets/particles\n",
    "    \"\"\"\n",
    "    deta = eta1 - eta2\n",
    "    dphi = phi1 - phi2\n",
    "    while dphi > np.pi:\n",
    "        dphi -= 2 * np.pi\n",
    "    while dphi < -np.pi:\n",
    "        dphi += 2 * np.pi\n",
    "    return np.hypot(deta, dphi)\n",
    "\n",
    "def deltaRJet(jet1, jet2):\n",
    "    \"\"\"\n",
    "    calculate the deltaR of the two PseudoJet\n",
    "    \"\"\"\n",
    "    return deltaR(jet1.eta, jet1.phi, jet2.eta, jet2.phi)\n",
    "\n",
    "def matchJets(jets_truth, jets_reco, dRcut=0.1):\n",
    "    \"\"\"\n",
    "    match the jets in jets_reco to jets_truth,\n",
    "    based on the deltaR\n",
    "    \"\"\"\n",
    "    matched_indices = []\n",
    "    \n",
    "    jets_truth_indices = list(range(len(jets_truth)))\n",
    "    jets_reco_indices  = list(range(len(jets_reco)))\n",
    "    \n",
    "    for ijet_reco in jets_reco_indices:\n",
    "        for ijet_truth in jets_truth_indices:\n",
    "            #print(\"deltR between {} and {} is {}\".format(ijet_truth, ijet_reco, deltaRJet(jets_truth[ijet_truth], jets_reco[ijet_reco])))\n",
    "            if deltaRJet(jets_truth[ijet_truth], jets_reco[ijet_reco]) < dRcut:\n",
    "                matched_indices.append((ijet_truth, ijet_reco))\n",
    "                jets_truth_indices.remove(ijet_truth)\n",
    "                break\n",
    "    \n",
    "    return matched_indices\n",
    "\n",
    "def compareJets(jets_truth, jets_reco, dRcut=0.1):\n",
    "    \"\"\"\n",
    "    match jets between truth and reco using matchJets,\n",
    "    and then compared the matched deltaR, pt, and mass\n",
    "    \"\"\"\n",
    "    performances = []\n",
    "    \n",
    "    matched_indices = matchJets(jets_truth, jets_reco, dRcut=dRcut)\n",
    "    for ijet_truth, ijet_reco in matched_indices:\n",
    "        perf = PerformanceMetrics()\n",
    "        perf.pt_truth = jets_truth[ijet_truth].pt\n",
    "        perf.mass_diff =  (jets_reco[ijet_reco].mass - jets_truth[ijet_truth].mass)/(jets_truth[ijet_truth].mass+1e-6)\n",
    "        perf.pt_diff   =  (jets_reco[ijet_reco].pt   - jets_truth[ijet_truth].pt)/(jets_truth[ijet_truth].pt+1e-6)\n",
    "        perf.dR_diff   =  deltaRJet(jets_truth[ijet_truth], jets_reco[ijet_reco])\n",
    "        performances.append(perf)\n",
    "    return performances\n",
    "\n",
    "def calculateMET(pt, phi):\n",
    "    \"\"\"\n",
    "    calculate the MET based on all particles pt and phi\n",
    "    \"\"\"\n",
    "    met_x = np.sum(pt * np.cos(phi), axis=0)\n",
    "    met_y = np.sum(pt * np.sin(phi), axis=0)\n",
    "    return np.hypot(met_x, met_y)\n",
    "        "
   ]
  },
  {
   "cell_type": "code",
   "execution_count": 11,
   "id": "94bd7726",
   "metadata": {},
   "outputs": [],
   "source": [
    "def postProcessing(data, preds):\n",
    "    \"\"\"\n",
    "    reconstruct jet and MET,\n",
    "    compare the reco-ed jet and MET with truth ones,\n",
    "    using the input data and ML weights (pred)\n",
    "    \"\"\"\n",
    "    pt  = np.array(data.x[:,2].cpu().detach())\n",
    "    eta = np.array(data.x[:,0].cpu().detach())\n",
    "    phi = np.array(data.x[:,1].cpu().detach())\n",
    "    puppi = np.array(data.x[:,data.num_feature_actual[0].item()-1].cpu().detach())\n",
    "    truth = np.array(data.y.cpu().detach())\n",
    "    \n",
    "    #print (pt)\n",
    "       \n",
    "    #print(truth)\n",
    "    #pred = np.array(pred[:,0].cpu().detach())\n",
    "    #pred2 = np.array(pred2[:, 0].cpu().detach())\n",
    "    # set all particle masses to zero\n",
    "    mass = np.zeros(pt.shape[0])\n",
    "    \n",
    "    # remove pt < 0.5 particles\n",
    "    pt[pt<0.5]=0\n",
    "        \n",
    "    # apply CHS to puppi weights\n",
    "    charge_index = data.Charge_index[0]\n",
    "    puppi[charge_index] = truth[charge_index]\n",
    "    # apply CHS to predicted weights\n",
    "    #pred[charge_index] = truth[charge_index]\n",
    "    #pred2[charge_index] = truth[charge_index]\n",
    "    \n",
    "    # truth information\n",
    "    pt_truth   = pt * truth\n",
    "     \n",
    "    \n",
    "    # puppi information\n",
    "    pt_puppi = pt * puppi\n",
    "    # apply some weight cuts on puppi\n",
    "    #cut = 0.41 #GeV\n",
    "    wcut = 0.17\n",
    "    cut = 0.99 #GeV\n",
    "    #cut = 0.99 #GeV\n",
    "    #wcut = 0.15\n",
    "    #cut = 1.242 #GeV\n",
    "    #wcut = 0.115\n",
    "    pt_puppi_wcut = np.array(pt_puppi, copy=True)\n",
    "    pt_puppi_wcut[(puppi<wcut) | (pt_puppi<cut)] = 0.\n",
    "    \n",
    "    # prediction information\n",
    "    #pt_pred = pt * pred\n",
    "    #pt_pred2 = pt * pred2\n",
    "\n",
    "    # cluster jets with truth particles\n",
    "    jets_truth = clusterJets(pt_truth, eta, phi)\n",
    "    print (jets_truth)\n",
    "    #jets_truth = clusterJets(pt_truth, eta_truth, phi_truth)\n",
    "    \n",
    "    jets_puppi = clusterJets(pt_puppi, eta, phi)\n",
    "    performances_jet_puppi = compareJets(jets_truth, jets_puppi)\n",
    "    \n",
    "    jets_puppi_wcut = clusterJets(pt_puppi_wcut, eta, phi)\n",
    "    performances_jet_puppi_wcut = compareJets(jets_truth, jets_puppi_wcut)\n",
    "    \n",
    "    #jets_pred  = clusterJets(pt_pred,  eta, phi)\n",
    "    #print(\"pt_pred: \", jets_pred)\n",
    "    #performances_jet_pred = compareJets(jets_truth, jets_pred)\n",
    "    \n",
    "    #jets_pred2 = clusterJets(pt_pred2, eta, phi)\n",
    "    #print(\"pt_pred2\", jets_pred2)\n",
    "    #performances_jet_pred2 = compareJets(jets_truth, jets_pred2)\n",
    "    \n",
    "    # calculate MET and compare\n",
    "    met_truth = calculateMET(pt_truth, phi)\n",
    "    met_puppi = calculateMET(pt_puppi, phi)\n",
    "    met_puppi_wcut = calculateMET(pt_puppi_wcut, phi)\n",
    "    #met_pred  = calculateMET(pt_pred,  phi)\n",
    "    #met_pred2 = calculateMET(pt_pred2, phi)\n",
    "    #print(\"***** one event ********\")\n",
    "    #print(\"met truth\", met_truth)\n",
    "    #print(\"met puppi\", met_puppi)\n",
    "    #print(\"met puppi wcut\", met_puppi_wcut)\n",
    "    #print(\"met pred\", met_pred)\n",
    "    #print(\"met pred2\", met_pred2)\n",
    "    \n",
    "    # evaluate the performances for the predictions\n",
    "    performances_jet_pred = []\n",
    "    mets_pred = []\n",
    "    \n",
    "    for pred in preds:\n",
    "        #print(\"preds: \", pred)\n",
    "        pred = np.array(pred[0][:,0].cpu().detach())\n",
    "        \n",
    "        # apply CHS to predictions\n",
    "        charge_index = data.Charge_index[0]\n",
    "        pred[charge_index] = truth[charge_index]\n",
    "        pt_pred = pt * pred\n",
    "        jets_pred  = clusterJets(pt_pred,  eta, phi)\n",
    "        performance_jet_pred = compareJets(jets_truth, jets_pred)\n",
    "        \n",
    "        # MET\n",
    "        met_pred  = calculateMET(pt_pred,  phi)\n",
    "        \n",
    "        performances_jet_pred.append( performance_jet_pred )\n",
    "        mets_pred.append( met_pred )\n",
    "\n",
    "    return met_truth, performances_jet_puppi, met_puppi, performances_jet_puppi_wcut, met_puppi_wcut, performances_jet_pred, mets_pred \n",
    "    "
   ]
  },
  {
   "cell_type": "code",
   "execution_count": 12,
   "id": "6d7e6774",
   "metadata": {},
   "outputs": [],
   "source": [
    "def test(filelists, models={}):\n",
    "    \n",
    "    for model in models.values():\n",
    "        model.to('cuda:0')\n",
    "        model.eval()\n",
    "    \n",
    "    performances_jet_puppi = []\n",
    "    performances_jet_puppi_wcut = []\n",
    "    \n",
    "    mets_truth = []\n",
    "    mets_puppi = []\n",
    "    mets_puppi_wcut = []\n",
    "    \n",
    "    performances_jet_pred = OrderedDict()\n",
    "    mets_pred = OrderedDict()\n",
    "    for modelname in models.keys():\n",
    "        performances_jet_pred[modelname] = []\n",
    "        mets_pred[modelname] = []\n",
    "    \n",
    "    ievt = 0\n",
    "    for ifile in filelists:\n",
    "        print(\"ifile: \", ifile)\n",
    "        fp = open(ifile, \"rb\")\n",
    "        dataset = joblib.load(fp)\n",
    "        generate_neu_mask(dataset)\n",
    "        generate_mask(dataset)\n",
    "        data = DataLoader(dataset, batch_size=1)\n",
    "        loader = data\n",
    "        \n",
    "        for data in loader:\n",
    "            ievt += 1\n",
    "            #if ievt > 10:\n",
    "            #    break\n",
    "            \n",
    "            if ievt%10 == 0:\n",
    "                print(\"processed {} events\".format(ievt))\n",
    "            with torch.no_grad():\n",
    "                data = data.to(device)\n",
    "                # max(dim=1) returns values, indices tuple; only need indices\n",
    "                \n",
    "                # loop over model in models and run the inference\n",
    "                preds = []\n",
    "\n",
    "                for model in models.values():\n",
    "                    model.to('cuda:0')\n",
    "                    model.eval()\n",
    "                    \n",
    "                    pred = model.forward(data)\n",
    "                    #print(\"pred here: \", pred)\n",
    "                    preds.append(pred)\n",
    "            \n",
    "                met_truth, perfs_jet_puppi, met_puppi, perfs_jet_puppi_wcut, met_puppi_wcut, perfs_jet_pred, mets_fromF_pred = postProcessing(data, preds)\n",
    "                #perfs_jet_puppi, perfs_jet_puppi_wcut, perfs_jet_pred, perfs_jet_pred2, met_truth, met_puppi, met_puppi_wcut, met_pred, met_pred2 = postProcessing(data, preds)\n",
    "            \n",
    "                performances_jet_puppi += perfs_jet_puppi\n",
    "                performances_jet_puppi_wcut += perfs_jet_puppi_wcut\n",
    "                #performances_jet_pred += perfs_jet_pred\n",
    "                #performances_jet_pred2 += perfs_jet_pred2\n",
    "                \n",
    "                mets_truth.append(met_truth)\n",
    "                mets_puppi.append(met_puppi)\n",
    "                mets_puppi_wcut.append(met_puppi_wcut)\n",
    "                \n",
    "                imodel = 0\n",
    "                for modelname in models.keys():\n",
    "                    #print(\"modelname \", perfs_jet_pred[imodel])\n",
    "                    #print(\"performances_jet_pred modelname\", performances_jet_pred[modelname] )\n",
    "                    performances_jet_pred[modelname] += perfs_jet_pred[imodel]\n",
    "                    mets_pred[modelname].append(mets_fromF_pred[imodel])\n",
    "                    imodel += 1\n",
    "                \n",
    "        fp.close()\n",
    "\n",
    "\n",
    "    return mets_truth, performances_jet_puppi, mets_puppi, performances_jet_puppi_wcut, mets_puppi_wcut, performances_jet_pred, mets_pred\n",
    "\n"
   ]
  },
  {
   "cell_type": "code",
   "execution_count": 13,
   "id": "135c6ec6",
   "metadata": {},
   "outputs": [],
   "source": [
    "filelists = [\"/home/gpaspala/new_Pileup_GNN/Pileup_GNN/datasets/dataset_graph_puppi_100\"]"
   ]
  },
  {
   "cell_type": "code",
   "execution_count": 14,
   "id": "4389ebca",
   "metadata": {},
   "outputs": [],
   "source": [
    "ifile = \"/home/gpaspala/new_Pileup_GNN/Pileup_GNN/datasets/dataset_graph_puppi_100\"\n",
    "fp = open(ifile, \"rb\")\n",
    "dataset = joblib.load(fp)\n",
    "generate_neu_mask(dataset)\n",
    "generate_mask(dataset)"
   ]
  },
  {
   "cell_type": "code",
   "execution_count": 15,
   "id": "7645e655",
   "metadata": {},
   "outputs": [
    {
     "data": {
      "text/plain": [
       "10"
      ]
     },
     "execution_count": 15,
     "metadata": {},
     "output_type": "execute_result"
    }
   ],
   "source": [
    "dataset[0].num_feature_actual"
   ]
  },
  {
   "cell_type": "code",
   "execution_count": 16,
   "id": "657e17f8",
   "metadata": {},
   "outputs": [
    {
     "data": {
      "text/plain": [
       "<All keys matched successfully>"
      ]
     },
     "execution_count": 16,
     "metadata": {},
     "output_type": "execute_result"
    }
   ],
   "source": [
    "model_gated_boost = models.GNNStack(10, args.hidden_dim, 1, args)\n",
    "#model_load.load_state_dict(torch.load('best_valid_model_semi.pt'))\n",
    "model_gated_boost.load_state_dict(torch.load('/home/gpaspala/new_Pileup_GNN/Pileup_GNN/fast_simulation/test/best_valid_model.pt'))\n"
   ]
  },
  {
   "cell_type": "code",
   "execution_count": 17,
   "id": "5df49dfc",
   "metadata": {},
   "outputs": [],
   "source": [
    "modelcolls = OrderedDict()\n",
    "modelcolls['gated_boost'] = model_gated_boost"
   ]
  },
  {
   "cell_type": "code",
   "execution_count": 18,
   "id": "b98c1cc2",
   "metadata": {},
   "outputs": [
    {
     "name": "stdout",
     "output_type": "stream",
     "text": [
      "ifile:  /home/gpaspala/new_Pileup_GNN/Pileup_GNN/datasets/dataset_graph_puppi_100\n"
     ]
    },
    {
     "name": "stderr",
     "output_type": "stream",
     "text": [
      "/depot/cms/private/users/gpaspala/miniconda3/envs/DeepPuppi/lib/python3.8/site-packages/torch_geometric/deprecation.py:13: UserWarning: 'data.DataLoader' is deprecated, use 'loader.DataLoader' instead\n",
      "  warnings.warn(out)\n"
     ]
    },
    {
     "name": "stdout",
     "output_type": "stream",
     "text": [
      "[]\n",
      "[PseudoJet(pt=49.660, eta=-1.782, phi=-0.030, mass=6.406)]\n",
      "[]\n",
      "[PseudoJet(pt=32.973, eta=-0.288, phi=-0.336, mass=8.280)]\n",
      "[]\n",
      "[]\n",
      "[]\n",
      "[]\n",
      "[]\n",
      "processed 10 events\n",
      "[PseudoJet(pt=168.981, eta=0.746, phi=-1.788, mass=33.143), PseudoJet(pt=119.322, eta=1.410, phi=1.291, mass=24.145)]\n",
      "[]\n",
      "[]\n",
      "[PseudoJet(pt=105.187, eta=1.027, phi=-1.867, mass=19.727), PseudoJet(pt=97.033, eta=-0.795, phi=1.837, mass=21.857)]\n",
      "[PseudoJet(pt=493.105, eta=1.065, phi=-0.592, mass=41.641), PseudoJet(pt=434.640, eta=0.408, phi=2.609, mass=26.444)]\n",
      "[]\n",
      "[PseudoJet(pt=30.044, eta=-0.164, phi=2.754, mass=7.464)]\n",
      "[PseudoJet(pt=43.656, eta=-0.203, phi=-2.600, mass=7.973), PseudoJet(pt=39.319, eta=1.073, phi=-0.701, mass=9.653), PseudoJet(pt=31.053, eta=2.052, phi=1.629, mass=1.970)]\n",
      "[PseudoJet(pt=33.731, eta=1.968, phi=-0.924, mass=5.525)]\n",
      "[PseudoJet(pt=868.014, eta=0.178, phi=2.264, mass=104.160), PseudoJet(pt=834.555, eta=-0.191, phi=-0.985, mass=84.493)]\n",
      "processed 20 events\n",
      "[PseudoJet(pt=147.061, eta=-1.811, phi=-2.926, mass=15.740), PseudoJet(pt=101.979, eta=-2.347, phi=-0.192, mass=8.976)]\n",
      "[]\n",
      "[PseudoJet(pt=152.434, eta=-1.638, phi=0.086, mass=8.633), PseudoJet(pt=134.219, eta=1.896, phi=-3.128, mass=11.642)]\n",
      "[PseudoJet(pt=297.279, eta=-0.847, phi=0.189, mass=17.168), PseudoJet(pt=230.180, eta=0.496, phi=-3.060, mass=16.506), PseudoJet(pt=65.678, eta=-0.597, phi=-2.624, mass=6.181), PseudoJet(pt=53.614, eta=0.019, phi=-1.777, mass=9.523)]\n",
      "[PseudoJet(pt=850.182, eta=-0.789, phi=1.942, mass=54.224), PseudoJet(pt=733.091, eta=-1.258, phi=-1.195, mass=52.668)]\n",
      "[PseudoJet(pt=536.046, eta=-0.793, phi=2.333, mass=26.930), PseudoJet(pt=362.119, eta=-0.722, phi=-1.031, mass=51.334), PseudoJet(pt=39.431, eta=-1.927, phi=0.058, mass=12.758)]\n",
      "[PseudoJet(pt=50.701, eta=-0.999, phi=-1.983, mass=15.058)]\n",
      "[]\n",
      "[PseudoJet(pt=166.506, eta=1.192, phi=-1.527, mass=15.860), PseudoJet(pt=134.415, eta=0.343, phi=1.689, mass=36.030), PseudoJet(pt=30.756, eta=0.865, phi=1.205, mass=2.201)]\n",
      "[PseudoJet(pt=142.862, eta=0.150, phi=0.647, mass=12.742), PseudoJet(pt=43.736, eta=1.877, phi=2.875, mass=14.767)]\n",
      "processed 30 events\n",
      "[PseudoJet(pt=467.229, eta=0.740, phi=2.885, mass=47.676), PseudoJet(pt=454.015, eta=-0.554, phi=-1.313, mass=18.597), PseudoJet(pt=415.340, eta=0.724, phi=1.028, mass=29.365), PseudoJet(pt=135.656, eta=1.483, phi=-0.121, mass=17.959)]\n",
      "[]\n",
      "[]\n",
      "[PseudoJet(pt=562.684, eta=0.177, phi=-0.881, mass=40.747), PseudoJet(pt=306.180, eta=-1.401, phi=2.406, mass=18.111), PseudoJet(pt=34.727, eta=-0.608, phi=0.701, mass=8.554)]\n",
      "[PseudoJet(pt=2255.688, eta=-0.427, phi=-2.309, mass=312.031), PseudoJet(pt=2220.662, eta=-0.877, phi=0.829, mass=82.641), PseudoJet(pt=47.326, eta=0.319, phi=-2.567, mass=5.010)]\n",
      "[]\n",
      "[]\n",
      "[PseudoJet(pt=64.112, eta=1.942, phi=0.162, mass=11.294)]\n",
      "[PseudoJet(pt=551.026, eta=-1.739, phi=-3.009, mass=40.020), PseudoJet(pt=518.839, eta=-0.947, phi=0.125, mass=40.211)]\n",
      "[PseudoJet(pt=2690.384, eta=-0.517, phi=2.417, mass=127.456), PseudoJet(pt=2519.507, eta=0.914, phi=-0.726, mass=266.228)]\n",
      "processed 40 events\n",
      "[PseudoJet(pt=2294.694, eta=-0.252, phi=-2.169, mass=119.776), PseudoJet(pt=1758.915, eta=-0.290, phi=0.903, mass=285.113), PseudoJet(pt=443.706, eta=0.570, phi=1.256, mass=33.867)]\n",
      "[PseudoJet(pt=2489.324, eta=-0.543, phi=0.096, mass=394.547), PseudoJet(pt=2045.418, eta=-0.497, phi=-3.062, mass=93.527)]\n",
      "[]\n",
      "[]\n",
      "[PseudoJet(pt=774.867, eta=0.079, phi=-0.689, mass=37.809), PseudoJet(pt=774.813, eta=0.847, phi=2.446, mass=114.833)]\n",
      "[]\n",
      "[]\n",
      "[PseudoJet(pt=84.473, eta=-1.196, phi=1.344, mass=7.611), PseudoJet(pt=31.844, eta=2.437, phi=-1.723, mass=6.200)]\n",
      "[]\n",
      "[]\n",
      "processed 50 events\n",
      "[PseudoJet(pt=2425.552, eta=-0.550, phi=2.629, mass=115.879), PseudoJet(pt=2302.510, eta=0.296, phi=-0.513, mass=150.962), PseudoJet(pt=78.421, eta=0.888, phi=1.322, mass=13.011)]\n",
      "[]\n",
      "[PseudoJet(pt=30.021, eta=-2.111, phi=3.021, mass=4.839)]\n",
      "[PseudoJet(pt=3034.153, eta=-0.020, phi=1.211, mass=186.602), PseudoJet(pt=3033.778, eta=0.252, phi=-1.932, mass=65.654)]\n",
      "[]\n",
      "[PseudoJet(pt=133.992, eta=0.095, phi=0.621, mass=18.236), PseudoJet(pt=110.548, eta=2.018, phi=-2.757, mass=3.558)]\n",
      "[PseudoJet(pt=3290.567, eta=0.720, phi=-0.682, mass=137.577), PseudoJet(pt=3156.787, eta=0.058, phi=2.454, mass=269.837), PseudoJet(pt=87.231, eta=-2.232, phi=1.743, mass=7.884)]\n",
      "[PseudoJet(pt=1492.696, eta=-0.614, phi=2.842, mass=66.472), PseudoJet(pt=1334.309, eta=-0.036, phi=-0.317, mass=198.781)]\n",
      "[PseudoJet(pt=302.430, eta=-0.955, phi=1.770, mass=42.446), PseudoJet(pt=216.420, eta=0.821, phi=-1.318, mass=60.920)]\n",
      "[PseudoJet(pt=32.657, eta=-1.318, phi=1.881, mass=7.942)]\n",
      "processed 60 events\n",
      "[PseudoJet(pt=139.100, eta=2.267, phi=-1.395, mass=12.495)]\n",
      "[PseudoJet(pt=2106.809, eta=0.482, phi=-0.749, mass=66.260), PseudoJet(pt=2042.513, eta=-0.211, phi=2.305, mass=325.698), PseudoJet(pt=101.134, eta=-0.463, phi=-2.695, mass=15.769), PseudoJet(pt=44.421, eta=-0.608, phi=1.628, mass=6.786)]\n",
      "[PseudoJet(pt=43.865, eta=-0.419, phi=-1.403, mass=11.247), PseudoJet(pt=41.245, eta=1.088, phi=1.717, mass=8.024)]\n",
      "[PseudoJet(pt=103.928, eta=1.652, phi=1.218, mass=17.836), PseudoJet(pt=91.378, eta=0.291, phi=-1.912, mass=19.053)]\n",
      "[PseudoJet(pt=366.653, eta=-0.778, phi=3.064, mass=53.885), PseudoJet(pt=232.053, eta=-0.344, phi=0.025, mass=26.364), PseudoJet(pt=90.376, eta=0.994, phi=-0.494, mass=12.664)]\n",
      "[PseudoJet(pt=3174.147, eta=-0.034, phi=1.560, mass=238.457), PseudoJet(pt=2819.228, eta=-0.059, phi=-1.610, mass=157.608)]\n",
      "[]\n",
      "[PseudoJet(pt=1642.923, eta=-0.275, phi=1.960, mass=105.446), PseudoJet(pt=1460.711, eta=-0.320, phi=-1.097, mass=87.347), PseudoJet(pt=144.899, eta=0.149, phi=-1.864, mass=12.783)]\n",
      "[PseudoJet(pt=84.278, eta=-0.797, phi=0.766, mass=20.074)]\n",
      "[PseudoJet(pt=61.001, eta=0.609, phi=-1.827, mass=9.749), PseudoJet(pt=33.327, eta=1.608, phi=1.895, mass=3.632)]\n",
      "processed 70 events\n",
      "[PseudoJet(pt=35.415, eta=-0.331, phi=-2.196, mass=4.273)]\n",
      "[]\n",
      "[]\n",
      "[PseudoJet(pt=134.069, eta=-1.567, phi=-2.375, mass=11.966), PseudoJet(pt=106.429, eta=-2.285, phi=0.755, mass=15.605)]\n",
      "[PseudoJet(pt=528.345, eta=1.815, phi=-1.232, mass=45.821), PseudoJet(pt=303.488, eta=0.879, phi=1.740, mass=22.448), PseudoJet(pt=275.209, eta=-0.030, phi=1.867, mass=23.889), PseudoJet(pt=48.107, eta=2.336, phi=-1.873, mass=3.570)]\n",
      "[]\n",
      "[PseudoJet(pt=51.998, eta=-1.368, phi=-2.946, mass=6.316)]\n",
      "[PseudoJet(pt=262.443, eta=-0.543, phi=2.521, mass=20.705), PseudoJet(pt=254.159, eta=-1.564, phi=-0.660, mass=30.290)]\n",
      "[]\n",
      "[PseudoJet(pt=43.619, eta=-1.413, phi=2.698, mass=9.876)]\n",
      "processed 80 events\n",
      "[PseudoJet(pt=426.047, eta=-0.351, phi=-2.606, mass=39.164), PseudoJet(pt=354.629, eta=1.073, phi=1.195, mass=52.561), PseudoJet(pt=60.236, eta=0.839, phi=-0.220, mass=11.696), PseudoJet(pt=52.951, eta=-0.475, phi=-1.318, mass=6.748), PseudoJet(pt=39.590, eta=-1.168, phi=0.282, mass=8.277)]\n",
      "[PseudoJet(pt=698.018, eta=0.532, phi=2.199, mass=95.337), PseudoJet(pt=468.732, eta=-0.735, phi=-1.553, mass=41.316), PseudoJet(pt=267.741, eta=-0.336, phi=-0.796, mass=26.282), PseudoJet(pt=196.433, eta=1.628, phi=0.462, mass=24.120)]\n",
      "[PseudoJet(pt=39.645, eta=1.594, phi=-1.734, mass=6.383)]\n",
      "[]\n",
      "[PseudoJet(pt=5143.698, eta=0.216, phi=2.107, mass=604.019), PseudoJet(pt=5134.478, eta=-0.048, phi=-1.014, mass=102.312)]\n",
      "[PseudoJet(pt=473.702, eta=-1.275, phi=2.076, mass=82.990), PseudoJet(pt=470.996, eta=1.207, phi=-0.925, mass=65.577), PseudoJet(pt=73.297, eta=0.923, phi=-1.980, mass=7.713)]\n",
      "[PseudoJet(pt=1783.226, eta=-0.881, phi=-2.700, mass=84.618), PseudoJet(pt=1699.642, eta=1.038, phi=0.432, mass=98.331)]\n",
      "[PseudoJet(pt=1840.168, eta=-0.924, phi=0.957, mass=162.971), PseudoJet(pt=1825.038, eta=0.162, phi=-2.164, mass=119.419)]\n",
      "[PseudoJet(pt=70.831, eta=2.187, phi=2.768, mass=13.245)]\n",
      "[PseudoJet(pt=407.096, eta=-0.379, phi=-1.565, mass=61.711), PseudoJet(pt=390.906, eta=0.814, phi=1.543, mass=37.926)]\n",
      "processed 90 events\n",
      "[PseudoJet(pt=1624.753, eta=-0.041, phi=0.159, mass=90.331), PseudoJet(pt=1574.378, eta=-0.746, phi=-2.941, mass=91.576), PseudoJet(pt=68.207, eta=0.840, phi=2.696, mass=9.761)]\n",
      "[PseudoJet(pt=2167.439, eta=0.711, phi=-0.470, mass=79.352), PseudoJet(pt=2007.627, eta=-0.411, phi=2.665, mass=113.993), PseudoJet(pt=51.504, eta=0.619, phi=2.948, mass=8.520)]\n",
      "[PseudoJet(pt=2946.213, eta=-0.121, phi=0.189, mass=169.649), PseudoJet(pt=2750.489, eta=0.098, phi=-2.883, mass=214.160), PseudoJet(pt=154.750, eta=1.195, phi=2.879, mass=27.914), PseudoJet(pt=151.347, eta=-1.627, phi=2.298, mass=23.648), PseudoJet(pt=86.760, eta=0.282, phi=1.632, mass=15.999), PseudoJet(pt=46.165, eta=-0.725, phi=-2.291, mass=12.063), PseudoJet(pt=36.236, eta=-0.389, phi=2.692, mass=8.688)]\n",
      "[]\n"
     ]
    },
    {
     "name": "stdout",
     "output_type": "stream",
     "text": [
      "[PseudoJet(pt=2300.005, eta=0.359, phi=0.641, mass=117.817), PseudoJet(pt=2101.352, eta=0.800, phi=-2.421, mass=93.973), PseudoJet(pt=137.231, eta=1.163, phi=2.612, mass=14.495)]\n",
      "[PseudoJet(pt=1298.438, eta=-0.715, phi=-1.184, mass=74.999), PseudoJet(pt=1251.677, eta=0.704, phi=1.964, mass=57.969)]\n",
      "[PseudoJet(pt=92.770, eta=0.711, phi=-2.980, mass=25.360), PseudoJet(pt=61.596, eta=-1.798, phi=0.197, mass=10.208)]\n",
      "[PseudoJet(pt=963.375, eta=0.308, phi=-1.751, mass=40.974), PseudoJet(pt=895.105, eta=0.877, phi=1.273, mass=55.201), PseudoJet(pt=80.100, eta=0.884, phi=2.815, mass=15.228)]\n",
      "[PseudoJet(pt=1077.485, eta=0.160, phi=-2.675, mass=32.197), PseudoJet(pt=902.060, eta=-0.342, phi=0.323, mass=62.012), PseudoJet(pt=60.077, eta=-1.205, phi=2.233, mass=7.533)]\n"
     ]
    }
   ],
   "source": [
    " mets_truth, performances_jet_puppi, mets_puppi, performances_jet_puppi_wcut, mets_puppi_wcut, performances_jet_pred, mets_pred = test(filelists, modelcolls)\n",
    "\n"
   ]
  },
  {
   "cell_type": "code",
   "execution_count": 19,
   "id": "5a48ca57",
   "metadata": {},
   "outputs": [
    {
     "name": "stdout",
     "output_type": "stream",
     "text": [
      "[0.3574916936579706, 0.10626950401035606, 0.030133122093084472, 0.16508785566530018, 0.5303357049852904, 0.4560095516280313, 0.25821831262843986, 0.009924770181014396, 0.3789938099768083, 0.8772346479897326, 1.0042372105522912, 0.6770769514966771, 0.0, 0.04169319778423839, 0.058367097195208516, 0.09533716422296781, 0.1404394558401698, 0.07059360018378216, 0.08781083333449957, 0.09798718198057191, 0.04394695713023768, 0.4312552307118725, 0.36781310209038676, 0.01277517724880192, 0.010540494259154931, 0.0105616132072691, 0.042123712426080345, 0.29890227570184014, 0.15235392279357454, 0.06160602922770328, 0.46665970022304804, 0.006618086115608416, 0.010547090029867512, 0.013527906236046713, 0.05561788123921508, 0.03489065581148519, 0.037183561510271065, 1.2038615423776475, 0.005073695740146994, 0.004910374669934579, 0.06819304429838909, 0.2129217074772743, 0.020876239315504135, 0.010320890485371952, 0.002470234017187424, 0.004064710906775464, 0.0013237738385325174, 0.006165395887015012, 0.010342401475901947, 0.0067453688524644435, 0.0005243367703943932, 0.006387878779276817, 0.0023377853138565104, 0.15227642703828564, 0.696142322986918, 0.0022200571500993124, 0.005217246765355488, 0.05850390383705206, 0.005915511752534741, 0.0025652264767886193, 0.7814039415121845, 0.2998660724474655, 0.002097473867527936, 0.0012697943076421935, 0.0469188093560181, 0.006195845127107337, 0.015795899676905447, 0.025965568108340508, 0.11381236429631966, 0.1666426593037326, 0.07948497364935121, 0.05177426884225847, 0.013798211087144211, 0.19528036345346259, 0.24868659113646807, 0.2877559542963135, 0.11027455331106567, 0.11922948748817033, 0.22015634093923084, 0.026010255352825876, 0.10126026829320671, 0.11511497039979698, 0.007628924733153147, 0.014823338005859851, 0.0008273134918325951, 0.002218815660117149, 0.008880162010042582, 0.12246719840739832, 0.2350800310239838, 0.2738114791170117, 0.8178011571821122, 0.5926116346167485, 0.1905147164665507, 0.017796773178713098, 0.009731062339730296, 0.0023624725457079177, 0.0, 0.019762565919248992, 0.015202072321428076, 0.021519384468243016, 0.07100545336954409, 0.2027608409008241, 0.14014994174815257, 1.8113053931404663, 1.3848721856879382, 0.276635101283056, 0.011197776969205243, 0.039457904097104105, 0.07819317645144719, 0.08501898062058236, 0.8728740616299818, 0.004930330252757378, 0.00410957731127998, 0.025543679955110803, 0.016795256232672848, 0.14964073835932293, 0.006035454078935149, 0.002828313879272251, 0.0060255036103318855, 0.0008736633573673791, 0.11084451519065962, 0.01864115842073142, 0.01129133927825747, 0.0009981003315910882, 0.0027033037277044043, 0.4416998305787463, 0.007538329463711192, 0.0159631571435135, 0.24851788210428058, 0.003238072800574984, 0.004906455434709355, 0.08035345592588727, 0.06180856554704134, 0.09728539856672365, 0.4503550601140145, 0.16026830654368343, 0.002886364092145267, 0.003082387355664418, 0.1388457178088993, 0.05180796794875258, 0.008245817058074008, 0.15782345956517235, 0.44120524362245933, 0.006031833124828166, 0.0075417338877229725, 0.2783214658823673, 0.0348183557324326, 0.1404717374359462, 0.8492172174998442]\n",
      "149\n"
     ]
    }
   ],
   "source": [
    "print([getattr(perf, \"pt_diff\") for perf in performances_jet_puppi])\n",
    "print(len([getattr(perf, \"pt_diff\") for perf in performances_jet_puppi_wcut]))"
   ]
  },
  {
   "cell_type": "code",
   "execution_count": 20,
   "id": "cd08f4e8",
   "metadata": {},
   "outputs": [
    {
     "data": {
      "image/png": "[encoded data removed]",
      "text/plain": [
       "<Figure size 720x576 with 1 Axes>"
      ]
     },
     "metadata": {
      "needs_background": "light"
     },
     "output_type": "display_data"
    },
    {
     "data": {
      "image/png": "[encoded data removed]",
      "text/plain": [
       "<Figure size 720x576 with 1 Axes>"
      ]
     },
     "metadata": {
      "needs_background": "light"
     },
     "output_type": "display_data"
    },
    {
     "data": {
      "text/plain": [
       "<Figure size 720x720 with 0 Axes>"
      ]
     },
     "metadata": {},
     "output_type": "display_data"
    },
    {
     "data": {
      "image/png": "[encoded data removed]",
      "text/plain": [
       "<Figure size 720x576 with 1 Axes>"
      ]
     },
     "metadata": {
      "needs_background": "light"
     },
     "output_type": "display_data"
    },
    {
     "data": {
      "text/plain": [
       "<Figure size 720x720 with 0 Axes>"
      ]
     },
     "metadata": {},
     "output_type": "display_data"
    }
   ],
   "source": [
    "def getResol(input):\n",
    "    return (np.quantile(input, 0.84) - np.quantile(input, 0.16))/2\n",
    "\n",
    "def getStat(input):\n",
    "    return float(np.median(input)), float(getResol(input))\n",
    "\n",
    "performances_jet_pred0 = performances_jet_pred['gated_boost']\n",
    "#performances_jet_pred1 = performances_jet_pred['gated_noboost']\n",
    "#performances_jet_pred2 = performances_jet_pred['graphsage_boost']\n",
    "#performances_jet_pred3 = performances_jet_pred['graphsage_noboost']\n",
    "#performances_jet_pred4 = performances_jet_pred['gated_boost_sp']\n",
    "\n",
    "\n",
    "mets_pred0 = mets_pred['gated_boost']\n",
    "#mets_pred1 = mets_pred['gated_noboost']\n",
    "#mets_pred2 = mets_pred['graphsage_boost']\n",
    "#mets_pred3 = mets_pred['graphsage_noboost']\n",
    "#mets_pred4 = mets_pred['gated_boost_sp']\n",
    "\n",
    "linewidth=1.5\n",
    "\n",
    "\n",
    "%matplotlib inline\n",
    "plt.style.use(hep.style.ROOT)\n",
    "fig = plt.figure(figsize=(10,8))\n",
    "mass_diff = np.array([getattr(perf, \"mass_diff\") for perf in performances_jet_pred0])\n",
    "plt.hist(mass_diff, bins=40, range=(-1,1), histtype='step', color='blue', linewidth=linewidth, density=False, label=r'Semi-supervised, $\\mu={:10.2f}$, $\\sigma={:10.2f}$'.format(*(getStat(mass_diff))))\n",
    "#mass_diff = np.array([getattr(perf, \"mass_diff\") for perf in performances_jet_pred4])\n",
    "#plt.hist(mass_diff, bins=40, range=(-1,1), histtype='step', color='green', linewidth=linewidth, density=False, label=r'Fully-supervised, $\\mu={:10.2f}$, $\\sigma={:10.2f}$'.format(*(getStat(mass_diff))))\n",
    "mass_diff = np.array([getattr(perf, \"mass_diff\") for perf in performances_jet_puppi_wcut])\n",
    "plt.hist(mass_diff, bins=40, range=(-1,1), histtype='step', color='red', linewidth=linewidth, density=False, label=r'PUPPI, $\\mu={:10.2f}$, $\\sigma={:10.2f}$'.format(*(getStat(mass_diff))))\n",
    "#plt.xlim(-1.0,1.3)\n",
    "plt.xlabel(r\"Jet Mass $(m_{reco} - m_{truth})/m_{truth}$\")\n",
    "plt.ylabel('A.U.')\n",
    "plt.ylim(0, 50)\n",
    "plt.legend()\n",
    "plt.savefig(\"Jet_mass_diff.pdf\")\n",
    "plt.show()\n",
    "\n",
    "\n",
    "#%matplotlib inline\n",
    "fig = plt.figure(figsize=(10,8))\n",
    "\n",
    "pt_diff = np.array([getattr(perf, \"pt_diff\") for perf in performances_jet_pred0])\n",
    "plt.hist(pt_diff, bins=40, range=(-0.3,0.3), histtype='step', color='blue', linewidth=linewidth, density=False, label=r'Semi-supevised, $\\mu={:10.3f}$, $\\sigma={:10.3f}$'.format(*(getStat(pt_diff))))\n",
    "#pt_diff = np.array([getattr(perf, \"pt_diff\") for perf in performances_jet_pred4])\n",
    "#plt.hist(pt_diff, bins=40, range=(-0.3,0.3), histtype='step', color='green', linewidth=linewidth, density=False, label=r'Fully-supervised, $\\mu={:10.3f}$, $\\sigma={:10.3f}$'.format(*(getStat(pt_diff))))\n",
    "pt_diff = np.array([getattr(perf, \"pt_diff\") for perf in performances_jet_puppi_wcut])\n",
    "plt.hist(pt_diff, bins=40, range=(-0.3,0.3), histtype='step', color='red', linewidth=linewidth, density=False, label=r'PUPPI, $\\mu={:10.3f}$, $\\sigma={:10.3f}$'.format(*(getStat(pt_diff))))\n",
    "#plt.xlim(0,40)\n",
    "plt.ylim(0, 80)\n",
    "plt.xlabel(r\"Jet $p_{T}$ $(p^{reco}_{T} - p^{truth}_{T})/p^{truth}_{T}$\")\n",
    "plt.ylabel('A.U.')\n",
    "plt.legend()\n",
    "plt.show()\n",
    "plt.savefig(\"Jet_pT_diff.pdf\")\n",
    "\n",
    "\n",
    "# MET resolution\n",
    "#%matplotlib inline\n",
    "\n",
    "fig = plt.figure(figsize=(10,8))\n",
    "mets_diff = (np.array(mets_pred0) - np.array(mets_truth))\n",
    "plt.hist(mets_diff, bins=30, range=(-30,30), histtype='step', color='blue', linewidth=linewidth, density=False, label=r'Semi-supervised, $\\mu={:10.2f}$, $\\sigma={:10.2f}$'.format(*(getStat(mets_diff))))\n",
    "#mets_diff = (np.array(mets_pred4) - np.array(mets_truth))\n",
    "#plt.hist(mets_diff, bins=30, range=(-30,30), histtype='step', color='green', linewidth=linewidth, density=False, label=r'Fully-supervised, $\\mu={:10.2f}$, $\\sigma={:10.2f}$'.format(*(getStat(mets_diff))))\n",
    "mets_diff = (np.array(mets_puppi_wcut) - np.array(mets_truth))\n",
    "plt.hist(mets_diff, bins=30, range=(-30,30), histtype='step', color='red', linewidth=linewidth, density=False, label=r'PUPPI, $\\mu={:10.2f}$, $\\sigma={:10.2f}$'.format(*(getStat(mets_diff))))\n",
    "\n",
    "plt.xlabel(r\"$p^{miss, reco}_{T} - p^{miss, truth}_{T}$ [GeV]\")\n",
    "plt.ylabel('A.U.')\n",
    "plt.ylim(0,60)\n",
    "plt.legend()\n",
    "plt.show()\n",
    "plt.savefig(\"MET_diff.pdf\")\n"
   ]
  },
  {
   "cell_type": "code",
   "execution_count": null,
   "id": "a880a5a2",
   "metadata": {},
   "outputs": [],
   "source": []
  },
  {
   "cell_type": "code",
   "execution_count": null,
   "id": "e7d70fd0",
   "metadata": {},
   "outputs": [],
   "source": []
  },
  {
   "cell_type": "code",
   "execution_count": null,
   "id": "e1c673df",
   "metadata": {},
   "outputs": [],
   "source": []
  },
  {
   "cell_type": "code",
   "execution_count": null,
   "id": "b69cbad1",
   "metadata": {},
   "outputs": [],
   "source": []
  }
 ],
 "metadata": {
  "kernelspec": {
   "display_name": "Python 3 (ipykernel)",
   "language": "python",
   "name": "python3"
  },
  "language_info": {
   "codemirror_mode": {
    "name": "ipython",
    "version": 3
   },
   "file_extension": ".py",
   "mimetype": "text/x-python",
   "name": "python",
   "nbconvert_exporter": "python",
   "pygments_lexer": "ipython3",
   "version": "3.8.12"
  }
 },
 "nbformat": 4,
 "nbformat_minor": 5
}
