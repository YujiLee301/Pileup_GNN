{
 "cells": [
  {
   "cell_type": "markdown",
   "id": "2f02d474",
   "metadata": {},
   "source": [
    "## Physics Performance Notebook \n",
    "Notebook to evaluate the perfomance of full sim training. <br>\n",
    "Need as imput: the training model (best_valid_model.pt) and the input graph (stored PF properties) <br>\n",
    "uses pyjet to recluster the jets after we apply puppi and GNN weights\n"
   ]
  },
  {
   "cell_type": "markdown",
   "id": "47529c4d",
   "metadata": {},
   "source": [
    "Load all needed environments"
   ]
  },
  {
   "cell_type": "code",
   "execution_count": 1,
   "id": "aac307fe",
   "metadata": {},
   "outputs": [
    {
     "name": "stdout",
     "output_type": "stream",
     "text": [
      "True\n"
     ]
    },
    {
     "name": "stderr",
     "output_type": "stream",
     "text": [
      "/depot/cms/private/users/gpaspala/miniconda3/envs/DeepPuppi/lib/python3.8/site-packages/xgboost/compat.py:36: FutureWarning: pandas.Int64Index is deprecated and will be removed from pandas in a future version. Use pandas.Index with the appropriate dtype instead.\n",
      "  from pandas import MultiIndex, Int64Index\n",
      "/tmp/ipykernel_3676602/3901455568.py:30: FutureWarning: ``set_style`` is deprecated: Naming convention is changing to match mpl. Use ``mplhep.style.use()``.\n",
      "  hep.set_style(hep.style.CMS)\n"
     ]
    }
   ],
   "source": [
    "import argparse\n",
    "import torch\n",
    "from torch_geometric.data import DataLoader\n",
    "#import models_ggnn_oldpipe as models\n",
    "import models_fastsim as models\n",
    "import utils\n",
    "import matplotlib\n",
    "from copy import deepcopy\n",
    "import os\n",
    "import copy\n",
    "import uproot\n",
    "import awkward as ak\n",
    "import xgboost as xgb\n",
    "\n",
    "#matplotlib.use(\"pdf\")\n",
    "import numpy as np\n",
    "import random\n",
    "import pickle\n",
    "import joblib\n",
    "from timeit import default_timer as timer\n",
    "from tqdm import tqdm\n",
    "\n",
    "import matplotlib as mpl\n",
    "import imageio\n",
    "\n",
    "#mpl.use(\"pdf\")\n",
    "import matplotlib.pyplot as plt\n",
    "import mplhep as hep\n",
    "\n",
    "hep.set_style(hep.style.CMS)\n",
    "\n",
    "device = torch.device('cuda' if torch.cuda.is_available() else 'cpu')\n",
    "print(torch.cuda.is_available())\n",
    "\n",
    "from pyjet import cluster, DTYPE_PTEPM\n",
    "from collections import OrderedDict\n",
    "import scipy.stats"
   ]
  },
  {
   "cell_type": "code",
   "execution_count": 2,
   "id": "bc5bebd9",
   "metadata": {},
   "outputs": [],
   "source": [
    "#open with uproot to get the gen info:\n",
    "# read the ttree\n",
    "tree = uproot.open(\"/depot/cms/private/users/gpaspala/output_1.root\")[\"Events\"]\n",
    "# read the pf candidates and gen particle information into akward arrays\n",
    "pfcands = tree.arrays(tree.keys('PF_*') + ['nPF'], entry_start=0, entry_stop=2000)\n",
    "genparts = tree.arrays(tree.keys('packedGenPart_*') + ['npackedGenPart'], entry_start=0, entry_stop=2000)\n"
   ]
  },
  {
   "cell_type": "code",
   "execution_count": 3,
   "id": "5c0d47c3",
   "metadata": {},
   "outputs": [],
   "source": [
    "isGenChg = genparts['packedGenPart_charge']!=0"
   ]
  },
  {
   "cell_type": "markdown",
   "id": "91a88a9a",
   "metadata": {},
   "source": [
    "define the deltaPhi and deltaR functions"
   ]
  },
  {
   "cell_type": "code",
   "execution_count": 4,
   "id": "82383178",
   "metadata": {},
   "outputs": [],
   "source": [
    "def deltaPhiNew(dphis):\n",
    "    dphis = np.where(dphis > np.pi, dphis - 2*np.pi, dphis)\n",
    "    dphis = np.where(dphis <-np.pi, dphis + 2*np.pi, dphis)\n",
    "    return dphis\n",
    "\n",
    "def deltaRNew(detas, dphis):\n",
    "    \"\"\"\n",
    "    calculate the deltaR based on the input deta and phi\n",
    "    \"\"\"\n",
    "    dphis = deltaPhiNew(dphis)\n",
    "    dR = np.sqrt(detas**2 + dphis**2)\n",
    "    return dR"
   ]
  },
  {
   "cell_type": "markdown",
   "id": "12287ed7",
   "metadata": {},
   "source": [
    "Do some preprocessings of data, needed for the model <br>\n",
    "@YB: Why do we need to add the masking ??"
   ]
  },
  {
   "cell_type": "code",
   "execution_count": 5,
   "id": "3ce79741",
   "metadata": {},
   "outputs": [],
   "source": [
    "def generate_mask(dataset):\n",
    "    # how many LV and PU to sample\n",
    "    # dataset = deepcopy(dataset_org)\n",
    "    for graph in dataset:\n",
    "        LV_index = graph.LV_index\n",
    "        PU_index = graph.PU_index\n",
    "        original_feature = graph.x[:, 0:graph.num_feature_actual]\n",
    "\n",
    "        num_select_LV = 10\n",
    "        num_select_PU = 160\n",
    "\n",
    "        if LV_index.shape[0] < num_select_LV or PU_index.shape[0] < num_select_PU:\n",
    "            num_select_LV = min(LV_index.shape[0], num_select_LV)\n",
    "            num_select_PU = min(PU_index.shape[0], num_select_PU)\n",
    "\n",
    "        # generate the index for LV and PU samples for training mask\n",
    "        gen_index_LV = random.sample(range(LV_index.shape[0]), num_select_LV)\n",
    "        selected_LV_train = LV_index[gen_index_LV]\n",
    "\n",
    "        gen_index_PU = random.sample(range(PU_index.shape[0]), num_select_PU)\n",
    "        selected_PU_train = PU_index[gen_index_PU]\n",
    "\n",
    "        training_mask = np.concatenate((selected_LV_train, selected_PU_train), axis=None)\n",
    "        #print(training_mask)\n",
    "\n",
    "        # construct mask vector for training and testing\n",
    "        mask_training = torch.zeros(graph.num_nodes, 1)\n",
    "        mask_training[[training_mask.tolist()]] = 1\n",
    "\n",
    "        x_concat = torch.cat((original_feature, mask_training), 1)\n",
    "        graph.x = x_concat\n",
    "\n",
    "        \n",
    "        # mask the puppiWeight as default Neutral(here puppiweight is actually fromLV in ggnn dataset)\n",
    "        puppiWeight_default_one_hot_training = torch.cat((torch.zeros(graph.num_nodes, 1),\n",
    "                                                          torch.zeros(graph.num_nodes, 1),\n",
    "                                                          torch.ones(graph.num_nodes, 1)), 1)\n",
    "        puppiWeight_default_one_hot_training = puppiWeight_default_one_hot_training.type(torch.float32)\n",
    "        \n",
    "        #mask the pdgID for charge particles\n",
    "        pdgId_one_hot_training = torch.cat((torch.zeros(graph.num_nodes, 1),\n",
    "                                                          torch.zeros(graph.num_nodes, 1),\n",
    "                                                          torch.ones(graph.num_nodes, 1)), 1)       \n",
    "        pdgId_one_hot_training = pdgId_one_hot_training.type(torch.float32)\n",
    "\n",
    "        pf_dz_training_test=torch.clone(original_feature[:,6:7])\n",
    "        pf_dz_training_test = torch.zeros(graph.num_nodes, 1)    \n",
    "        \n",
    "\n",
    "        # -4 is for one hot encoding of fromLV and one mask; -1 is for final puppiweight\n",
    "        #default_data_training = torch.cat(\n",
    "         #   (original_feature[:, 0:(graph.num_features - 4 - 1)], puppiWeight_default_one_hot_training,\n",
    "         #    original_feature[:, -1].view(-1, 1)), 1)\n",
    "        default_data_training = torch.cat(\n",
    "             (original_feature[:, 0:(graph.num_feature_actual - 7)],pdgId_one_hot_training, pf_dz_training_test ,puppiWeight_default_one_hot_training), 1)\n",
    "        \n",
    "\n",
    "        concat_default = torch.cat((graph.x, default_data_training), 1)\n",
    "        graph.x = concat_default"
   ]
  },
  {
   "cell_type": "code",
   "execution_count": 6,
   "id": "96c0881f",
   "metadata": {},
   "outputs": [],
   "source": [
    "def generate_neu_mask(dataset):\n",
    "    # all neutrals with pt cuts are masked for evaluation\n",
    "    for graph in dataset:\n",
    "        nparticles = graph.num_nodes\n",
    "        graph.num_feature_actual = graph.num_features\n",
    "        Neutral_index = graph.Neutral_index\n",
    "        Neutral_feature = graph.x[Neutral_index]\n",
    "        Neutral_index = Neutral_index[torch.where(Neutral_feature[:, 2] > 0.5)[0]]\n",
    "\n",
    "        mask_neu = torch.zeros(nparticles, 1)\n",
    "        mask_neu[Neutral_index, 0] = 1\n",
    "        graph.mask_neu = mask_neu\n",
    "\n",
    "    return dataset"
   ]
  },
  {
   "cell_type": "markdown",
   "id": "47a27abe",
   "metadata": {},
   "source": [
    "Load the model"
   ]
  },
  {
   "cell_type": "code",
   "execution_count": 7,
   "id": "08ad25f2",
   "metadata": {},
   "outputs": [],
   "source": [
    "class Args(object):\n",
    "    def __init__(self, model_type = 'Gated', do_boost=False, extralayers=False):\n",
    "        self.model_type = model_type\n",
    "        self.num_layers = 2\n",
    "        self.batch_size = 1\n",
    "        self.hidden_dim = 20\n",
    "        self.dropout = 0\n",
    "        self.opt = 'adam'\n",
    "        self.weight_decay = 0\n",
    "        self.lr = 0.01\n",
    "        self.do_boost = do_boost\n",
    "        self.extralayers = extralayers"
   ]
  },
  {
   "cell_type": "code",
   "execution_count": 8,
   "id": "93f59825",
   "metadata": {},
   "outputs": [],
   "source": [
    "args = Args()"
   ]
  },
  {
   "cell_type": "code",
   "execution_count": 9,
   "id": "df19919b",
   "metadata": {},
   "outputs": [],
   "source": [
    "class PerformanceMetrics(object):\n",
    "    def __init__(self):\n",
    "        pt = 0.\n",
    "        pt_diff = 0.\n",
    "        mass_diff = 0.\n",
    "        dR_diff = 0."
   ]
  },
  {
   "cell_type": "markdown",
   "id": "95289f3e",
   "metadata": {},
   "source": [
    "cluster the jets based on the array of pt, eta, phi,\n",
    "of all particles (masses are assumed to be zero),\n",
    " with pyjet clustering algo"
   ]
  },
  {
   "cell_type": "code",
   "execution_count": 10,
   "id": "28ccbe32",
   "metadata": {},
   "outputs": [],
   "source": [
    "def clusterJets(pt, eta, phi, ptcut=0., deltaR=0.7):\n",
    "    \"\"\"\n",
    "    cluster the jets based on the array of pt, eta, phi,\n",
    "    of all particles (masses are assumed to be zero),\n",
    "    with pyjet clustering algo\n",
    "    \"\"\"\n",
    "    # cleaning zero pt-ed objects\n",
    "    pt_wptcut   = pt[pt > ptcut]\n",
    "    eta_wptcut  = eta[pt > ptcut]\n",
    "    phi_wptcut  = phi[pt > ptcut]\n",
    "    mass_wptcut = np.zeros(pt_wptcut.shape[0])\n",
    "    \n",
    "    event = np.column_stack((pt_wptcut, eta_wptcut, phi_wptcut, mass_wptcut))\n",
    "    event.dtype = DTYPE_PTEPM\n",
    "    sequence = cluster(event, R=deltaR, p=-1)\n",
    "    jets = sequence.inclusive_jets(ptmin=30)\n",
    "    \n",
    "    return jets\n",
    "\n",
    "def deltaPhi(phi1, phi2):\n",
    "    dphi = phi1 - phi2\n",
    "    while dphi > np.pi:\n",
    "        dphi -= 2 * np.pi\n",
    "    while dphi < -np.pi:\n",
    "        dphi += 2 * np.pi\n",
    "    return dphi\n",
    "\n",
    "def deltaR(eta1, phi1, eta2, phi2):\n",
    "    \"\"\"\n",
    "    calculate the deltaR between two jets/particles\n",
    "    \"\"\"\n",
    "    deta = eta1 - eta2\n",
    "    dphi = phi1 - phi2\n",
    "    while dphi > np.pi:\n",
    "        dphi -= 2 * np.pi\n",
    "    while dphi < -np.pi:\n",
    "        dphi += 2 * np.pi\n",
    "    return np.hypot(deta, dphi)\n",
    "\n",
    "def deltaRJet(jet1, jet2):\n",
    "    \"\"\"\n",
    "    calculate the deltaR of the two PseudoJet\n",
    "    \"\"\"\n",
    "    return deltaR(jet1.eta, jet1.phi, jet2.eta, jet2.phi)\n",
    "\n",
    "def matchJets(jets_truth, jets_reco, dRcut=0.1):\n",
    "    \"\"\"\n",
    "    match the jets in jets_reco to jets_truth,\n",
    "    based on the deltaR\n",
    "    \"\"\"\n",
    "    matched_indices = []\n",
    "    \n",
    "    jets_truth_indices = list(range(len(jets_truth)))\n",
    "    jets_reco_indices  = list(range(len(jets_reco)))\n",
    "    \n",
    "    for ijet_reco in jets_reco_indices:\n",
    "        for ijet_truth in jets_truth_indices:\n",
    "            #print(\"deltR between {} and {} is {}\".format(ijet_truth, ijet_reco, deltaRJet(jets_truth[ijet_truth], jets_reco[ijet_reco])))\n",
    "            if deltaRJet(jets_truth[ijet_truth], jets_reco[ijet_reco]) < dRcut:\n",
    "                matched_indices.append((ijet_truth, ijet_reco))\n",
    "                jets_truth_indices.remove(ijet_truth)\n",
    "                break\n",
    "    \n",
    "    return matched_indices\n",
    "\n",
    "def compareJets(jets_truth, jets_reco, dRcut=0.1):\n",
    "    \"\"\"\n",
    "    match jets between truth and reco using matchJets,\n",
    "    and then compared the matched deltaR, pt, and mass\n",
    "    \"\"\"\n",
    "    performances = []\n",
    "    \n",
    "    matched_indices = matchJets(jets_truth, jets_reco, dRcut=dRcut)\n",
    "    for ijet_truth, ijet_reco in matched_indices:\n",
    "        perf = PerformanceMetrics()\n",
    "        perf.pt_truth = jets_truth[ijet_truth].pt\n",
    "        perf.mass_diff =  (jets_reco[ijet_reco].mass - jets_truth[ijet_truth].mass)/(jets_truth[ijet_truth].mass+1e-6)\n",
    "        perf.pt_diff   =  (jets_reco[ijet_reco].pt   - jets_truth[ijet_truth].pt)/(jets_truth[ijet_truth].pt+1e-6)\n",
    "        perf.dR_diff   =  deltaRJet(jets_truth[ijet_truth], jets_reco[ijet_reco])\n",
    "        performances.append(perf)\n",
    "    return performances\n",
    "\n",
    "def calculateMET(pt, phi):\n",
    "    \"\"\"\n",
    "    calculate the MET based on all particles pt and phi\n",
    "    \"\"\"\n",
    "    met_x = np.sum(pt * np.cos(phi), axis=0)\n",
    "    met_y = np.sum(pt * np.sin(phi), axis=0)\n",
    "    return np.hypot(met_x, met_y)\n",
    "        "
   ]
  },
  {
   "cell_type": "code",
   "execution_count": 11,
   "id": "94bd7726",
   "metadata": {},
   "outputs": [],
   "source": [
    "def postProcessing(data, preds):\n",
    "    \"\"\"\n",
    "    reconstruct jet and MET,\n",
    "    compare the reco-ed jet and MET with truth ones,\n",
    "    using the input data and ML weights (pred)\n",
    "    \"\"\"\n",
    "    pt  = np.array(data.x[:,2].cpu().detach())\n",
    "    eta = np.array(data.x[:,0].cpu().detach())\n",
    "    phi = np.array(data.x[:,1].cpu().detach())\n",
    "    puppi = np.array(data.x[:,data.num_feature_actual[0].item()-1].cpu().detach())\n",
    "    truth = np.array(data.y.cpu().detach())\n",
    "    \n",
    "    #print (pt)\n",
    "       \n",
    "    #print(truth)\n",
    "    #pred = np.array(pred[:,0].cpu().detach())\n",
    "    #pred2 = np.array(pred2[:, 0].cpu().detach())\n",
    "    # set all particle masses to zero\n",
    "    mass = np.zeros(pt.shape[0])\n",
    "    \n",
    "    # remove pt < 0.5 particles\n",
    "    pt[pt<0.5]=0\n",
    "        \n",
    "    # apply CHS to puppi weights\n",
    "    charge_index = data.Charge_index[0]\n",
    "    puppi[charge_index] = truth[charge_index]\n",
    "    # apply CHS to predicted weights\n",
    "    #pred[charge_index] = truth[charge_index]\n",
    "    #pred2[charge_index] = truth[charge_index]\n",
    "    \n",
    "    # truth information\n",
    "    pt_truth   = pt * truth\n",
    "     \n",
    "    \n",
    "    # puppi information\n",
    "    pt_puppi = pt * puppi\n",
    "    # apply some weight cuts on puppi\n",
    "    #cut = 0.41 #GeV\n",
    "    wcut = 0.17\n",
    "    cut = 0.99 #GeV\n",
    "    #cut = 0.99 #GeV\n",
    "    #wcut = 0.15\n",
    "    #cut = 1.242 #GeV\n",
    "    #wcut = 0.115\n",
    "    pt_puppi_wcut = np.array(pt_puppi, copy=True)\n",
    "    pt_puppi_wcut[(puppi<wcut) | (pt_puppi<cut)] = 0.\n",
    "    \n",
    "    # prediction information\n",
    "    #pt_pred = pt * pred\n",
    "    #pt_pred2 = pt * pred2\n",
    "\n",
    "    # cluster jets with truth particles\n",
    "    jets_truth = clusterJets(pt_truth, eta, phi)\n",
    "    #print (jets_truth)\n",
    "    #jets_truth = clusterJets(pt_truth, eta_truth, phi_truth)\n",
    "    \n",
    "    jets_puppi = clusterJets(pt_puppi, eta, phi)\n",
    "    performances_jet_puppi = compareJets(jets_truth, jets_puppi)\n",
    "    \n",
    "    jets_puppi_wcut = clusterJets(pt_puppi_wcut, eta, phi)\n",
    "    performances_jet_puppi_wcut = compareJets(jets_truth, jets_puppi_wcut)\n",
    "    \n",
    "    #jets_pred  = clusterJets(pt_pred,  eta, phi)\n",
    "    #print(\"pt_pred: \", jets_pred)\n",
    "    #performances_jet_pred = compareJets(jets_truth, jets_pred)\n",
    "    \n",
    "    #jets_pred2 = clusterJets(pt_pred2, eta, phi)\n",
    "    #print(\"pt_pred2\", jets_pred2)\n",
    "    #performances_jet_pred2 = compareJets(jets_truth, jets_pred2)\n",
    "    \n",
    "    # calculate MET and compare\n",
    "    met_truth = calculateMET(pt_truth, phi)\n",
    "    met_puppi = calculateMET(pt_puppi, phi)\n",
    "    met_puppi_wcut = calculateMET(pt_puppi_wcut, phi)\n",
    "    #met_pred  = calculateMET(pt_pred,  phi)\n",
    "    #met_pred2 = calculateMET(pt_pred2, phi)\n",
    "    #print(\"***** one event ********\")\n",
    "    #print(\"met truth\", met_truth)\n",
    "    #print(\"met puppi\", met_puppi)\n",
    "    #print(\"met puppi wcut\", met_puppi_wcut)\n",
    "    #print(\"met pred\", met_pred)\n",
    "   \n",
    "    \n",
    "    # evaluate the performances for the predictions\n",
    "    performances_jet_pred = []\n",
    "    mets_pred = []\n",
    "    \n",
    "    for pred in preds:\n",
    "        #print(\"preds: \", pred)\n",
    "        pred = np.array(pred[0][:,0].cpu().detach())\n",
    "        \n",
    "        # apply CHS to predictions\n",
    "        charge_index = data.Charge_index[0]\n",
    "        pred[charge_index] = truth[charge_index]\n",
    "        pt_pred = pt * pred\n",
    "        jets_pred  = clusterJets(pt_pred,  eta, phi)\n",
    "        performance_jet_pred = compareJets(jets_truth, jets_pred)\n",
    "        \n",
    "        # MET\n",
    "        met_pred  = calculateMET(pt_pred,  phi)\n",
    "        \n",
    "        performances_jet_pred.append( performance_jet_pred )\n",
    "        mets_pred.append( met_pred )\n",
    "\n",
    "    return met_truth, performances_jet_puppi, met_puppi, performances_jet_puppi_wcut, met_puppi_wcut, performances_jet_pred, mets_pred \n",
    "    "
   ]
  },
  {
   "cell_type": "code",
   "execution_count": 12,
   "id": "6d7e6774",
   "metadata": {},
   "outputs": [],
   "source": [
    "def test(filelists, models={}):\n",
    "    \n",
    "    for model in models.values():\n",
    "        model.to('cuda:0')\n",
    "        model.eval()\n",
    "    \n",
    "    performances_jet_puppi = []\n",
    "    performances_jet_puppi_wcut = []\n",
    "    \n",
    "    mets_truth = []\n",
    "    mets_puppi = []\n",
    "    mets_puppi_wcut = []\n",
    "    \n",
    "    performances_jet_pred = OrderedDict()\n",
    "    mets_pred = OrderedDict()\n",
    "    for modelname in models.keys():\n",
    "        performances_jet_pred[modelname] = []\n",
    "        mets_pred[modelname] = []\n",
    "    \n",
    "    ievt = 0\n",
    "    for ifile in filelists:\n",
    "        print(\"ifile: \", ifile)\n",
    "        fp = open(ifile, \"rb\")\n",
    "        dataset = joblib.load(fp)\n",
    "        generate_neu_mask(dataset)\n",
    "        generate_mask(dataset)\n",
    "        data = DataLoader(dataset, batch_size=1)\n",
    "        loader = data\n",
    "        \n",
    "        for data in loader:\n",
    "            ievt += 1\n",
    "            #if ievt > 10:\n",
    "            #    break\n",
    "            \n",
    "            if ievt%10 == 0:\n",
    "                print(\"processed {} events\".format(ievt))\n",
    "            with torch.no_grad():\n",
    "                data = data.to(device)\n",
    "                # max(dim=1) returns values, indices tuple; only need indices\n",
    "                \n",
    "                # loop over model in models and run the inference\n",
    "                preds = []\n",
    "\n",
    "                for model in models.values():\n",
    "                    model.to('cuda:0')\n",
    "                    model.eval()\n",
    "                    \n",
    "                    pred = model.forward(data)\n",
    "                    #print(\"pred here: \", pred)\n",
    "                    preds.append(pred)\n",
    "            \n",
    "                met_truth, perfs_jet_puppi, met_puppi, perfs_jet_puppi_wcut, met_puppi_wcut, perfs_jet_pred, mets_fromF_pred = postProcessing(data, preds)\n",
    "                #perfs_jet_puppi, perfs_jet_puppi_wcut, perfs_jet_pred, perfs_jet_pred2, met_truth, met_puppi, met_puppi_wcut, met_pred, met_pred2 = postProcessing(data, preds)\n",
    "            \n",
    "                performances_jet_puppi += perfs_jet_puppi\n",
    "                performances_jet_puppi_wcut += perfs_jet_puppi_wcut\n",
    "                #performances_jet_pred += perfs_jet_pred\n",
    "                #performances_jet_pred2 += perfs_jet_pred2\n",
    "                \n",
    "                mets_truth.append(met_truth)\n",
    "                mets_puppi.append(met_puppi)\n",
    "                mets_puppi_wcut.append(met_puppi_wcut)\n",
    "                \n",
    "                imodel = 0\n",
    "                for modelname in models.keys():\n",
    "                    #print(\"modelname \", perfs_jet_pred[imodel])\n",
    "                    #print(\"performances_jet_pred modelname\", performances_jet_pred[modelname] )\n",
    "                    performances_jet_pred[modelname] += perfs_jet_pred[imodel]\n",
    "                    mets_pred[modelname].append(mets_fromF_pred[imodel])\n",
    "                    imodel += 1\n",
    "                \n",
    "        fp.close()\n",
    "\n",
    "\n",
    "    return mets_truth, performances_jet_puppi, mets_puppi, performances_jet_puppi_wcut, mets_puppi_wcut, performances_jet_pred, mets_pred\n",
    "\n"
   ]
  },
  {
   "cell_type": "code",
   "execution_count": 13,
   "id": "135c6ec6",
   "metadata": {},
   "outputs": [],
   "source": [
    "filelists = [\"/home/gpaspala/new_Pileup_GNN/Pileup_GNN/datasets/dataset_graph_puppi_1000\"]"
   ]
  },
  {
   "cell_type": "code",
   "execution_count": 14,
   "id": "4389ebca",
   "metadata": {},
   "outputs": [],
   "source": [
    "ifile = \"/home/gpaspala/new_Pileup_GNN/Pileup_GNN/datasets/dataset_graph_puppi_1000\"\n",
    "fp = open(ifile, \"rb\")\n",
    "dataset = joblib.load(fp)\n",
    "generate_neu_mask(dataset)\n",
    "generate_mask(dataset)"
   ]
  },
  {
   "cell_type": "code",
   "execution_count": 15,
   "id": "7645e655",
   "metadata": {},
   "outputs": [
    {
     "data": {
      "text/plain": [
       "10"
      ]
     },
     "execution_count": 15,
     "metadata": {},
     "output_type": "execute_result"
    }
   ],
   "source": [
    "dataset[0].num_feature_actual"
   ]
  },
  {
   "cell_type": "code",
   "execution_count": 16,
   "id": "657e17f8",
   "metadata": {},
   "outputs": [
    {
     "data": {
      "text/plain": [
       "<All keys matched successfully>"
      ]
     },
     "execution_count": 16,
     "metadata": {},
     "output_type": "execute_result"
    }
   ],
   "source": [
    "model_gated_boost = models.GNNStack(10, args.hidden_dim, 1, args)\n",
    "#model_load.load_state_dict(torch.load('best_valid_model_semi.pt'))\n",
    "model_gated_boost.load_state_dict(torch.load('/home/gpaspala/new_Pileup_GNN/Pileup_GNN/fast_simulation/test/best_valid_model.pt'))\n"
   ]
  },
  {
   "cell_type": "code",
   "execution_count": 17,
   "id": "5df49dfc",
   "metadata": {},
   "outputs": [],
   "source": [
    "modelcolls = OrderedDict()\n",
    "modelcolls['gated_boost'] = model_gated_boost"
   ]
  },
  {
   "cell_type": "code",
   "execution_count": 18,
   "id": "b98c1cc2",
   "metadata": {},
   "outputs": [
    {
     "name": "stdout",
     "output_type": "stream",
     "text": [
      "ifile:  /home/gpaspala/new_Pileup_GNN/Pileup_GNN/datasets/dataset_graph_puppi_1000\n"
     ]
    },
    {
     "name": "stderr",
     "output_type": "stream",
     "text": [
      "/depot/cms/private/users/gpaspala/miniconda3/envs/DeepPuppi/lib/python3.8/site-packages/torch_geometric/deprecation.py:13: UserWarning: 'data.DataLoader' is deprecated, use 'loader.DataLoader' instead\n",
      "  warnings.warn(out)\n"
     ]
    },
    {
     "name": "stdout",
     "output_type": "stream",
     "text": [
      "processed 10 events\n",
      "processed 20 events\n",
      "processed 30 events\n",
      "processed 40 events\n",
      "processed 50 events\n",
      "processed 60 events\n",
      "processed 70 events\n",
      "processed 80 events\n",
      "processed 90 events\n",
      "processed 100 events\n",
      "processed 110 events\n",
      "processed 120 events\n",
      "processed 130 events\n",
      "processed 140 events\n",
      "processed 150 events\n",
      "processed 160 events\n",
      "processed 170 events\n",
      "processed 180 events\n",
      "processed 190 events\n",
      "processed 200 events\n",
      "processed 210 events\n",
      "processed 220 events\n",
      "processed 230 events\n",
      "processed 240 events\n",
      "processed 250 events\n",
      "processed 260 events\n",
      "processed 270 events\n",
      "processed 280 events\n",
      "processed 290 events\n",
      "processed 300 events\n",
      "processed 310 events\n",
      "processed 320 events\n",
      "processed 330 events\n",
      "processed 340 events\n",
      "processed 350 events\n",
      "processed 360 events\n",
      "processed 370 events\n",
      "processed 380 events\n",
      "processed 390 events\n",
      "processed 400 events\n",
      "processed 410 events\n",
      "processed 420 events\n",
      "processed 430 events\n",
      "processed 440 events\n",
      "processed 450 events\n",
      "processed 460 events\n",
      "processed 470 events\n",
      "processed 480 events\n",
      "processed 490 events\n",
      "processed 500 events\n",
      "processed 510 events\n",
      "processed 520 events\n",
      "processed 530 events\n",
      "processed 540 events\n",
      "processed 550 events\n",
      "processed 560 events\n",
      "processed 570 events\n",
      "processed 580 events\n",
      "processed 590 events\n",
      "processed 600 events\n",
      "processed 610 events\n",
      "processed 620 events\n",
      "processed 630 events\n",
      "processed 640 events\n",
      "processed 650 events\n",
      "processed 660 events\n",
      "processed 670 events\n",
      "processed 680 events\n",
      "processed 690 events\n",
      "processed 700 events\n",
      "processed 710 events\n",
      "processed 720 events\n",
      "processed 730 events\n",
      "processed 740 events\n",
      "processed 750 events\n",
      "processed 760 events\n",
      "processed 770 events\n",
      "processed 780 events\n",
      "processed 790 events\n",
      "processed 800 events\n",
      "processed 810 events\n",
      "processed 820 events\n",
      "processed 830 events\n",
      "processed 840 events\n",
      "processed 850 events\n",
      "processed 860 events\n",
      "processed 870 events\n",
      "processed 880 events\n",
      "processed 890 events\n",
      "processed 900 events\n",
      "processed 910 events\n",
      "processed 920 events\n",
      "processed 930 events\n",
      "processed 940 events\n",
      "processed 950 events\n",
      "processed 960 events\n",
      "processed 970 events\n"
     ]
    }
   ],
   "source": [
    " mets_truth, performances_jet_puppi, mets_puppi, performances_jet_puppi_wcut, mets_puppi_wcut, performances_jet_pred, mets_pred = test(filelists, modelcolls)\n",
    "\n"
   ]
  },
  {
   "cell_type": "code",
   "execution_count": 19,
   "id": "5a48ca57",
   "metadata": {},
   "outputs": [
    {
     "name": "stdout",
     "output_type": "stream",
     "text": [
      "[0.04054831640633658, 0.04717248887471489, 1.0109914491262448, 0.013592756970922274, 0.03642109534259016, 0.7582328451091341, 0.08565719990143678, 0.05945355815253345, 0.5244410063216004, 0.024827839455105756, 0.029784148790579668, 0.06375975966194648, 0.005490554879323998, 0.003119957756482916, 0.5115073335484323, 0.002670551522209948, 0.040919602875077885, 0.005548573110962726, 0.004160976210106585, 0.006400170812525483, 0.32086919468151753, 0.010083687192362639, 0.023279999502635845, 0.11974707050181416, 0.014208070738783354, 0.5480716989042115, 0.2735248568487288, 0.23031728577704902, 0.0857410049283304, 0.08592014000503818, 0.1632657249177738, 2.142419262706558, 0.001343756268987508, 0.0022628583673850963, 0.025256504984892306, 0.02652853785307547, 0.1793339144105614, 0.37071193142407793, 0.0019748527425328937, 0.0, 0.023053113423653147, 0.012331988076254323, 0.004798621974322495, 0.31223032134812084, 0.05324976668316302, 0.10420982062197529, 0.3152564724591563, 0.015161102604369456, 0.014715837792405385, 0.07459115262058788, 0.07255505378747933, 0.06400733086557164, 0.008696733324165788, 0.04406176809883911, 0.7237851947600977, 0.03533550874038748, 0.03999868636910503, 0.0035517861266559313, 0.011812057017648968, 0.0027539686329912756, 0.0016482198906896674, 0.4506511170805803, 0.3845666685814898, 0.003154896353199645, 0.0016363206182173717, 0.0007625481983431072, 0.0004088999294570574, 0.4474358429869235, 0.6794553975521078, 0.005024740089255614, 0.006269080172550604, 0.0, 0.5787662273052945, 0.05497457791853209, 0.02711735184768855, 0.031328022052472225, 0.010064486732105415, 0.0, 0.049258740466116786, 0.04648603488727706, 0.09551261258076843, 0.00640845995199395, 0.0327847387597631, 0.05598418286524839, 0.17298484603623976, 0.2894272675527149, 0.6551314895740041, 0.004034362077045981, 0.027042628650503588, 0.03999977027481883, 0.03172269419919467, 0.0015836437322847097, 0.004328083654346051, 0.022060488740288743, 0.01970969436280379, 0.013821721166059562, 0.04458669126621138, 0.12013789945752083, 0.008240070076542637, 0.009167492898317073, 0.07344183473731744, 0.2314261905374004, 0.03683228670943376, 0.4382315953409664, 0.006426288921715863, 0.04545043712824855, 0.00693606423664362, 0.002247711215287723, 0.006515499460230847, 0.0025878919731572594, 0.016181963401590102, 0.18228521137766937, 0.36013912757414224, 0.20461357580337874, 0.6504515732957031, 0.005019432081786565, 0.0014313714614840928, 0.0095099075829056, 0.01514527201742253, 0.31142133414574213, 0.004097787470134013, 0.006588731474526521, 0.21961605942711268, 0.0016869593814040327, 0.002888823969628734, 0.03822950576483424, 0.07050149410655408, 0.4556844464077302, 0.20595342935124847, 1.1587765080073298, 0.43906355219075605, 0.00831921581832053, 0.0053238524361363055, 0.017651155592968523, 0.008007361152304158, 0.10444462846556819, 0.00840154183122561, 0.002907161424786328, 0.0035893693867592403, 0.006561562168698799, 0.27895904361263185, 0.7525885504636526, 0.34699979112003043, 0.009783056428884497, 0.08830139880642689, 0.05977711236043033, 0.01947701697856786, 0.11330717034530159, 0.0773072200085923, 0.009655039705589766, 0.2776501591210751, 0.004159001916747759, 0.015209880838383849, 0.0017841034961140914, 0.0047037591150395595, 0.003152911858428279, 0.007070020671698476, 0.0013935762015125364, 0.0007991570842933599, 0.5427122935426429, 0.6906016896961892, 0.15898222162561662, 0.13236508050407322, 0.5260273034879139, 0.008279942965986647, 0.014416203143982224, 0.16050165837678534, 0.05919136744665609, 0.7965752157574798, 0.012131274047181353, 0.022520157674317004, 0.004721954447210841, 0.05891769664521504, 0.03801929332619771, 0.024471005018430792, 0.04567667204311418, 0.08667678606054767, 0.020341651144597468, 0.03051878559323006, 0.011926120549169862, 0.001866135800974764, 0.0021772784407052236, 0.0669175311555587, 0.03926481976563547, 0.42036638971133516, 0.024884024648384805, 0.04662257497285842, 0.04403925374523629, 0.006880903897426362, 0.013002343857224888, 0.004119746437681388, 0.003530413584370912, 0.08931590473304128, 0.1031696121504948, 1.139082122150311, 0.9636764906869839, 0.5228688213763791, 0.20964199145927684, 0.02286933901837197, 0.06034385177988738, 0.05908301251010319, 0.05169983003895595, 0.009257602272691883, 0.002289151800925998, 0.04565173653082843, 0.07897750006462687, 0.0709922222075123, 0.026205405448360006, 0.009932134163195539, 0.019841685882146062, 0.10742210895227108, 0.0, 0.020537152552127947, 0.20203822759427528, 0.2783582839437593, 0.048094140349864006, 0.084011558293654, 0.00256709137253092, 0.0020850835911854675, 0.14429744687439783, 0.9276181522768123, 0.7046828990166184, 0.10867653315861978, 0.11421888355455533, 0.0272986858112812, 0.18116443401499516, 0.0642481231634676, 0.07631822459847794, 0.0012896584011471584, 0.0020634884380922756, 0.016301061497695238, 0.013403149874877677, 0.00454844100567757, 0.0010995051937111836, 0.1612581548284813, 0.21257888719090243, 0.416313268513413, 0.012100125230611719, 0.0022110000058610272, 0.005982171233870313, 0.059012582292532305, 0.5380902499244671, 0.021690766350822715, 0.04927568325526248, 0.02135403696923773, 0.028094485295224455, 0.020542892602697933, 0.31987715356014096, 0.10953493178131855, 0.01647818893720423, 0.04666184243051552, 0.09505297870490291, 0.09618117157622226, 0.6127330348983628, 0.21953725227318305, 0.22708362748661534, 0.33967499611327684, 0.002310338769663101, 0.01266159843524315, 0.003436862784503661, 0.0015050636483288035, 0.13270184797820506, 0.43967857530954335, 0.04752380702116967, 0.18066051784658113, 0.059373749559690395, 0.2207946546591874, 0.12096308202248361, 0.43120653375916385, 0.026474528684556686, 0.05290216654186483, 0.508212736569758, 1.7580535305532725, 0.0012268478027004281, 0.0019241351765046145, 0.009707545721352673, 0.026962443507602678, 0.5366057157082772, 0.7432205019833076, 0.026746091279769478, 0.054671514634122675, 0.0020890849197628294, 0.008238566404092504, 0.4524936487005114, 0.5736499267810784, 0.02018180229117684, 0.0019189772489698015, 0.026360997595172513, 0.0065529148985668025, 0.026325720704284496, 0.013201106922877657, 0.2987188300823924, 0.10725776974055887, 0.014029046890573283, 0.5211511232564576, 1.3391160259648116, 0.5601050853820928, 0.44172204624835865, 0.18826840589291421, 0.03531394194164282, 0.04296058484138044, 0.020502089293842486, 0.0025743414715844524, 0.0008841310503284887, 0.004512373290207623, 0.003114898589762082, 0.018591982086149084, 0.1797387344066547, 0.11392867036123974, 0.0017912260287840994, 0.0059577775825033295, 0.00201807267401241, 0.006274352747864897, 0.037025999090585106, 0.061647139121152265, 0.003080203986138173, 0.007453161301927313, 0.3638035171117616, 0.0036148890539945554, 0.012130875841035069, 0.01952610078266861, 0.02160718167979915, 0.04562699520909504, 0.05033203639575699, 0.02081043853577989, 0.028385340205784787, 0.3459998631832821, 0.21974759544485514, 0.03273308476534395, 0.11499117498003401, 0.3926177601240578, 0.015302081774211985, 0.45892284026156294, 0.6975846844373197, 0.8515699944460776, 0.03147837440884866, 0.034376540832631745, 0.03813990849182656, 0.010484319514773641, 0.04403348208554661, 0.12873263739896287, 1.4063563286445262, 0.28151230293990326, 0.0020172096056280202, 0.005503931026248309, 0.007878225316837434, 0.17403244616017705, 0.008164002735241099, 0.028889598004437876, 0.016405130502339955, 0.06698252878672369, 0.003978005578532713, 0.00570498480553945, 0.27293069056391217, 0.3814050030147887, 0.008351213518451823, 0.007894804924237926, 0.13602157631562062, 0.0205407866293297, 0.021663130189567503, 0.08209525334245484, 0.17568206171713552, 0.05881220339085485, 0.24058120726412757, 0.04231016837229826, 0.020402987477170377, 0.01990736130904705, 0.5180610517359743, 0.08895029936142823, 0.0014718360406654858, 0.030649778602051876, 0.23788836136711847, 0.07083222541389413, 0.12700824083472295, 0.4803621198172904, 0.9418335960224667, 0.015937006344870105, 0.05072741454578012, 0.002594096588257968, 0.0007074976166588576, 0.016397878177855298, 0.01913566651893966, 0.3279522695026047, 0.0564223742955531, 1.005755183247057, 1.109508531227015, 0.36229199083555935, 0.3775011041166788, 0.13064011208965615, 0.11851386164663721, 0.009643318748401025, 0.008678255157024401, 0.8961255725038823, 0.06083094318055428, 0.03002511725225515, 0.06815144718170868, 0.07121717332442702, 0.027669327367929743, 0.008708536623566384, 0.20873301783015458, 0.10311931198207511, 0.17713032453087946, 0.18230593903229678, 0.013979277117884218, 0.005087660005392345, 0.010129063245876934, 0.07165848322913608, 0.05075937144839016, 0.053375697861440224, 0.025601912083653137, 0.00236721988175889, 0.44302480786008247, 0.5812588123823215, 0.03602112168111712, 0.24518058326366707, 0.002301644722566068, 0.0017674551234054237, 0.007798453580439491, 0.016527218077314866, 0.010255037720635397, 0.0269233440883137, 0.06381733928385386, 0.023563399146508412, 0.09407134931900717, 0.15319055178494995, 0.3271461880062152, 0.11659078941771817, 0.0682455948350354, 0.12227109352252569, 0.7549741654841599, 1.6456849127030186, 0.12462262165480262, 0.11313108817291387, 0.24380529830567854, 0.5483472194561445, 0.01278818756921906, 0.1307001626200664, 0.30557015117471875, 0.0625176328843329, 0.09445346239454484, 0.04333875092726352, 0.03166687333474259, 0.10950201317257484, 0.21893590210461128, 0.0017008329110180106, 0.004252150559094665, 0.011572949518033702, 0.008241840988042507, 0.4554627143958706, 0.0885910688603309, 0.004846554092762343, 0.09976378020527583, 0.0008526697191123202, 0.010045858701755636, 0.08014380344881841, 0.013443939856836442, 0.011137221716226785, 0.8197999280884483, 0.6109432764636331, 0.15677188925351565, 0.0026388385397627698, 0.007983144974166138, 0.11549955908548168, 0.03080555513871607, 0.22523945962145442, 0.035296289561475534, 0.5443256976385297, 0.0639365123197248, 0.6829848345104997, 0.008373952384763671, 0.004894737362881928, 0.07456296309656878, 0.13101136820865278, 0.1988522855863193, 0.00327997163677874, 0.0012310941986525114, 0.03286637219937663, 0.01253765892131744, 0.19969915605106925, 0.00825507780565814, 0.016738357510944338, 0.1545099831417764, 0.007553448446624122, 0.025359790550031628, 0.005324980392415368, 0.01884890544009324, 0.008751497706793383, 0.01281330711848607, 0.31825048968882286, 0.6933584580510527, 0.001348713481011723, 0.0015608929988729042, 0.0004167190736264454, 0.0016263147296487043, 0.020298085998890183, 0.0063982857488474, 0.0012645762124381783, 0.0018477273098698938, 0.0024422370532992048, 0.010495704819076163, 0.08543078006499262, 0.03658588340529338, 0.03042851940843735, 0.3819164605274751, 0.0015207570747571436, 0.00972818390070131, 0.016452354784361224, 0.0012189930701823751, 0.0014442328149721414, 0.16266017876023475, 0.06562464430821673, 0.1368663986181817, 0.02537466048450406, 0.0930421267953012, 0.0008171555184668475, 0.003064668993237865, 0.35034264043750507, 0.29774702492156563, 0.005911170113560883, 0.021499649722029654, 0.33829107503057176, 0.009735692887830586, 0.010302124244688102, 0.6116840346561834, 0.0005194754547038825, 0.0029289652308664127, 0.19248091116325253, 0.0029584125813616495, 0.052631000438414066, 0.012095601726844322, 0.020929460686811303, 0.011682031546876612, 0.4491070995089718, 0.0333946626074962, 0.047450720147463085, 0.6072630598807047, 0.002652318236708908, 0.004261864689744233, 0.07430025693112212, 0.5718955265695289, 0.1819343353291998, 0.16232169882827926, 0.17432252212204868, 0.5295591676979282, 0.033557503546251026, 0.017513281593920325, 0.07283033499191134, 0.033858806076114176, 0.4525820651737136, 0.06409751703754372, 0.0029721668507588445, 0.008359212342676997, 0.02182876190234649, 0.005445026810516705, 0.5856725901881451, 2.5205552397850384, 0.4702764135318002, 0.034923395755942395, 0.022970041726793112, 0.09538969487223509, 0.10705640852835334, 0.864364811355937, 0.07419090264242614, 0.042635659931164485, 0.062385823239412865, 0.015419321503888075, 0.02021229329183473, 0.0011246009027557839, 0.0066778418821740685, 0.18338525622300203, 0.002910019930856183, 0.006051747993256749, 0.04848215312749232, 0.01149320188501746, 0.006715576753374958, 0.11260086958879381, 0.05873995420050448, 0.050366881722253266, 0.2521830322448863, 1.7238545291325473, 0.004666247687749009, 0.026950937482929038, 0.17229162829467465, 0.6656526201601973, 0.05877219951588915, 0.12936285359105434, 0.0, 0.5435427333220366, 0.12177119077960048, 0.02335791199907402, 0.015826945398454258, 1.6004490189618306, 0.46035160725404917, 0.1663316419641459, 0.027290517923298587, 0.25813147521374097, 0.00588331057824632, 0.19969492823312923, 0.06644651832771978, 0.0076679199777774055, 0.006147670438316927, 0.029425775380394502, 0.45164124470446687, 0.10620882923364391, 0.36291643051477146, 1.5136421799722657, 0.02950777963406255, 0.061459710495508434, 0.04517567261413502, 0.012457904336362775, 0.020367077717942356, 0.002544033136972774, 0.008646203069752254, 0.03740762187476099, 0.4431030848963299, 0.052688097267002, 0.052017121932899514, 0.012174723986228665, 0.0, 0.02900251399347728, 0.07025034916142188, 0.31586043290642235, 0.002614617594924083, 0.00598351281421816, 0.0921768532323634, 0.2617244449841298, 0.03803317765117066, 0.9010466814257849, 0.2251115673817832, 0.0008178686444340496, 0.0025492051672651797, 0.03719670076353002, 0.09755086267578861, 0.1277757093210515, 1.169957060864895, 0.4363939797343573, 0.48089267175452205, 0.16483506797667913, 0.1387089277172691, 0.000759953708753986, 0.08181882984528965, 0.2130969010102974, 0.017823737524042257, 0.01259275318643209, 0.03770049932552127, 0.9151058006754403, 0.037310482969031604, 0.05246055743814333, 0.5993589620784081, 0.1555426501593286, 3.2320270091680308, 0.34098077794664794, 0.6144493169025016, 0.23665388662874767, 0.5322806854352243, 0.9678417955697746, 0.05883818436891731, 0.8608678638689566, 0.005595569802084967, 0.0, 0.000684151503087787, 0.0017674502867693444, 0.015658603657709574, 0.005130420220401636, 0.29661037407471036, 0.6705648526811085, 0.016115757063698218, 0.05277369357165315, 0.14635504162704466, 0.20281528661694856, 0.012201290677574092, 0.005881903436635711, 0.01973456469101529, 0.8007975523853139, 0.0715752921666209, 0.26890941260996293, 0.014637013790182273, 0.0068681920080059305, 0.43607733017491257, 0.004217238896992539, 0.002018825547932918, 0.012610394592680634, 0.03305231486342082, 0.9313641419465388, 0.19401510123222068, 0.005470340187447782, 0.0024531559390512684, 0.00608914446697326, 0.04325563973398009, 0.07062590635380865, 0.03366241662777535, 0.0698281436079669, 0.024052405113265233, 0.8126394047255235, 0.007749077805706503, 0.003654805062407462, 0.0571231192947426, 0.6462662636288017, 0.1584837604370305, 0.008644164429538703, 0.4331186874693865, 0.23323476125895537, 0.46462198232059315, 0.0036157801590884203, 0.010258452959208238, 0.1313243866122009, 0.3315292990626173, 0.014315908541206337, 0.005854131356007485, 0.003343369008740777, 0.0049760706860972875, 1.0560453168236048, 0.07867587310036371, 0.0017190073653699728, 0.031241058424784047, 0.01325296787041947, 0.6353059843292561, 0.3748967610641963, 0.0019685979960215407, 0.0008489136908207929, 0.021475236031999634, 0.3270119107609781, 0.019043586749651443, 0.10765516702543916, 0.10506571002742594, 0.14664602739023352, 0.08709530574008391, 0.06393360409348688, 0.041555707408734585, 0.028096821702215148, 0.026885743685704525, 0.2789566792960678, 0.03167853070809431, 0.06708152772874636, 0.017799510410901945, 0.027294679268565658, 0.29854024097751886, 0.025430883370562225, 0.04666854518075657, 0.5022449599428224, 0.1725438941197308, 0.023438443065723933, 0.07763076377654733, 0.050647082818173164, 0.415084596375536, 0.39564129060393455, 0.5861225290666457, 0.19550756858155116, 3.196307218769118, 1.0475164463104085, 0.1963709682181762, 0.030908496007886657, 0.0983288605121612, 0.01613987859917623, 0.00475989880835859, 0.21292902099787295, 0.0007696987744600986, 0.004944922315688333, 0.4127829906252043, 0.0, 0.0022222160933382876, 0.3737154049412106, 0.01748975739079113, 0.008809418725495559, 0.003091971485519211, 0.008752580267704205, 0.27176800055709727, 0.5512698283839663, 0.04890581787343734, 0.0072122375223767285, 0.055822182131200805, 0.19411560960905036, 0.09191526863654328, 0.20010712164007877, 0.5371367092425873, 0.1846629740257263, 0.9003159294287587, 0.00528885679043343, 0.008656436642912694, 0.27963628281887953, 0.0534180072601634, 0.008204696574280811, 0.0013673780879160323, 0.0038360870533812176, 0.002576102379210707, 0.003131093714783461, 0.0025745273441717966, 0.29642164335753424, 0.07583208430017337, 0.00859616498515004, 0.0923742613454372, 0.27724949919383973, 0.5124480456055763, 0.38350812342554363, 0.042204700514163564, 0.03653245364464071, 0.006509288527822902, 0.021622794773723798, 0.12891972450308165, 0.006416054474614754, 0.025772747824287068, 0.019227465585410768, 0.025504745468443227, 0.01979953512351113, 1.590470208375834, 0.007511620451057085, 0.24664894423455536, 0.14379339471950303, 0.000779375298423495, 0.016093522014742193, 0.08559139639859353, 0.6598117221930493, 0.6614296804697839, 0.866236664200996, 0.06843030090831037, 0.024292416718622544, 4.001180783354175, 1.708402284720473, 0.22868430915434337, 0.15055603207677737, 0.7955873451305737, 0.0015609009932739375, 0.009649250264800147, 0.0017113187834469803, 0.0027580248181423546, 0.013112686534352914, 0.025203399629757893, 0.01813441773048371, 0.6236080468151711, 0.11466310658684162, 0.10830944157681581, 0.0881346596404782, 0.07784441804886878, 0.03891388594634035, 0.03988797664503764, 0.0193734578912958, 0.3094054490182389, 0.37570501978472265, 0.019419912997751934, 0.30256078676538256, 0.007276368661600915, 0.035383333006713855, 0.0018152370513662914, 0.003162466248788463, 0.049555567283034174, 0.3598739978439615, 0.06452151984078842, 0.05881808640656269, 0.03706915650803575, 0.9071469392848043, 0.000790485468935852, 0.004676876613638759, 0.0043930437944565935, 0.06160972091571014, 0.024473260897824575, 0.04865592937174085, 0.06175306042678294, 0.012863787510133146, 0.006853061091524795, 0.02175306107349628, 0.39503185702152566, 0.040107407433836555, 1.941454404443438, 0.01314750609263546, 0.013553401648987332, 0.026278708416651895, 0.004722622697868734, 0.7683866636051102, 0.8994854897612659, 0.987941555638532, 0.11746924302404249, 0.07227480601542698, 0.010375948891627107, 0.024395340857931606, 0.49936316701646716, 0.010640045883617697, 0.18982549074628727, 0.10602722744630041, 0.09500982474337734, 0.5984003921017995, 0.635630836843345, 0.00560353027036854, 0.01835262284051219, 0.0020068928323460113, 0.015279732043333447, 0.022518466993429423, 0.06122606224236455, 0.02956776093439653, 0.5431454202290787, 0.005487930805119175, 0.002137196503511984, 0.014648478272587143, 0.022698933311701776, 0.3864683555341038, 0.051697211924327253, 0.12188912254560941, 0.05706555671856562, 0.41199927340980197, 0.020400363542809215, 0.09392658127138769, 0.000970274563010151, 0.0020779502895410164, 0.002209188372581097, 0.008004291391065173, 0.12656836707787084, 0.0659927220427465, 0.44136191626048993, 0.17167809543451962, 0.5502897630441395, 2.1306594986235265, 0.001568990674522644, 0.019625020082738802, 0.2008529779895958, 0.3264219815985145, 0.8713815315332152, 0.7301862079927844, 1.0353008358587403, 0.012671051737247988, 0.009856949644819098, 0.08564262190039737, 0.6270529828684782, 0.006734988339331856, 0.007968408664091955, 0.05443041079318197, 0.002766665410064036, 0.017697199727441305, 0.014099858161563969, 0.021216156253768492, 0.06949238158088387, 0.020923953036423592, 0.006630670833513481, 0.04683544957036757, 0.05094901126951659, 0.015235590084433547, 0.06939714644084811, 0.006703691243814133, 0.01843495265985708, 0.04381712058918883, 0.15702496966244753, 0.015229669285869751, 0.27560451505801853, 0.053160501091224895, 0.06930448894421512, 0.0620267285222472, 0.005453434899075667, 0.013509272734184235, 0.004252598727161229, 0.003189476574606158, 0.012063394196438707, 0.02247095588094349, 0.004443704788934507, 0.001872011850785472, 0.06418151003697099, 0.042286867606416305, 0.31872379189029504, 0.04438087672091375, 0.021292945403613896, 0.09222824499758399, 0.005683763753037509, 0.018826617721060288, 0.3081665539100938, 0.0006830101573469879, 0.011933242283129225, 0.34699625483557023, 0.006960503301547075, 0.013860942109204993, 0.34845396365436565, 1.3475397668206384, 0.03289452758062577, 0.021166808660465698, 0.006619276703899317, 0.00651397539565753, 0.9621521523727752, 0.19648239828171885, 0.0011597992306110073, 0.006809520091372791, 0.01206353049746272, 0.16806717050223138, 0.81950958646077, 1.2103384766143346, 0.08922602158045137, 0.593562447161485, 0.029153522272930693, 0.18763555520805655, 0.7878146876271662, 0.5342710159489511, 0.015246116551211058, 0.028269103839247155, 0.7885964703033089, 0.006865635575470292, 0.016011396430811346, 0.049407456241197495, 0.7374578546628107, 0.41420260819438154, 0.701937334354606, 0.38585465218521514, 0.060353653522855, 0.912559420312823, 0.10835083255496751, 0.1265720238348238, 0.0025619744443716413, 0.008549093835087743, 0.0037107997773949343, 0.0031504511679751324, 0.028256399742617948, 0.00634876856265991, 0.004637274654625424, 0.7211942590688347, 0.8693684707617494, 0.3536058272077223, 0.06661450985298323, 0.06519824743715164, 0.08829736646597254, 0.008097097647141246, 0.04840026666054699, 0.0055471673253413255, 0.004456378991619208, 0.06337713887104492, 0.021078087102392267, 0.5508641012902152, 0.008489538280836399, 0.007544334988666311, 0.2330709057649522, 0.6136689251828893, 0.41444587191951465, 0.3659592469971405, 0.27350499280975593, 0.2158300983315909, 0.36012872301333615, 0.18993160321779415, 0.07292233699461516, 0.12061297288760617, 0.08455612893919756, 0.577472309706853, 0.1500065708235242, 0.0045346840388451205, 0.006503448561128552, 0.08057964057948959, 0.04309263164391486, 0.10797803137779241, 1.56170954710517, 0.2752569408765878, 0.0013219729364842736, 0.0021345740234688542, 0.08001002958248865, 0.0030691014972234914, 0.011564534227594896, 0.23241907286809696, 0.03745139714594853, 0.36608673587779245, 0.38388626941173404, 0.14701058274066728, 0.24384830131353508, 0.043074841515916874, 0.0004408204673001946, 0.0016217089607418625, 0.12775241712847155, 0.0022232115954619954, 0.00039942039787996383, 0.0856079672897316, 0.14150058514914582, 0.31299518716887276, 0.6856600993137028, 1.0543187725363183, 0.17973497730155424, 0.3371118257456927, 0.05865802736900202, 0.2868254225035083, 0.0032205571158211168, 0.002483027632233392, 0.0027107752377893138, 0.06485913744643916, 0.05528823511036377, 0.21462859587376168, 0.17752645233785647, 0.02043695706544002, 0.13411203375687064, 0.018400645334320773, 0.04317290700000701, 0.10314955596462688, 0.6044490447164341, 0.003353326469943156, 0.0012883205135080585, 0.07766381550370843, 0.5492177361456118, 0.010750040946532098, 0.005453690456414489, 0.5210351306964064, 0.032400426571945175, 0.1925238603042276, 0.3587095340681842, 0.07962644489494554, 0.14636602655287914, 0.049602843437904394, 0.14958656222909786, 0.018634803781374335, 0.02783029687707494, 0.0015879909895887324, 0.006031655680981251, 0.00593807174712494, 0.019201590597004325, 0.032062671938265994, 0.07066784490656351, 0.04124053309969774, 0.014363052571873623, 0.012536940253428752, 0.32523653648461087, 0.46098631110973765, 0.9422576208226711, 0.0068289581810930455, 0.017038397403863675, 0.31129800593034324, 0.03798497193860298, 0.16847976674330536, 0.24227803414054325, 0.0015159350686467566, 0.001174186651280571, 0.0422911114688056, 0.33219825635825856, 0.04222092267166408, 0.019935398512261043, 0.37444750971049584, 0.023095144368740873, 0.010472363528146456, 0.5821697982736713, 1.0231498125762948, 0.007509837198225381, 0.024000429812979958, 0.043536364527409006, 0.0, 0.006282710592418387, 0.0008810665723346972, 0.004182665108595688, 0.25207436655859555, 0.7265503734587623, 0.005207366489653973, 0.0019025176804557608, 0.004892908877038675, 0.017807358022906325, 0.29644857416381726, 0.13269206940112355, 0.06889042681444042, 0.5519914637921743, 0.007147124598061747, 0.003616604018993424, 0.6205986204243773, 0.039642589268743214, 0.02146371838197287, 0.09509524195402096, 0.012997287241117561, 0.0509182552539436, 0.9696920266648095, 0.08128733214951184, 0.09466048429079268, 0.016423921476589595, 0.01456154809171812, 0.07524155128856894, 0.11858729938688072, 0.11431699335481312, 0.3622607037585293, 0.2194250866242145, 0.0004951936039233052, 0.0025133576504953055, 0.7537188840213596, 0.013563637904547574, 0.0056307783436744165, 0.10779478325002996, 0.06379457367152468, 0.030824713760189366, 0.014783033585532178, 0.004223871011351583, 0.008594244967705006, 0.0454057089924284, 0.03980914842558769, 1.2269566456204055, 0.8859961482424529, 0.022925412217908513, 0.31970543066737994, 0.03068755820183443, 0.0981784252608196, 0.7882088791870412, 0.05558068058288424, 0.1909054494219545, 0.0008343379581442742, 0.0013365444113191136, 0.5832078192177561, 0.07461137247823481, 0.07477604689320587, 0.8505044910725629, 0.0012005351312248493, 0.006703093575809737, 0.006997435012154406, 0.12468592335038345, 0.0544410357185264, 0.0067654682674053055, 0.06512447905080992, 0.03302733455190356, 0.13329739500720275, 0.3427914767178356, 0.026287962115045384, 0.03287347218683595, 0.08867491120427583, 0.08963154599778075, 0.7236847291181718, 0.0012735002669347583, 0.020463644669356906, 0.0635061311395281, 0.032163844040856246, 0.09875291933819372, 0.09939554395849717, 0.040803016560995414, 0.8667556112018568, 0.2840069301919988, 0.031837840376256296, 0.1546583303007218, 0.0018035389525483138, 0.001501275645090114, 0.007620194142787756, 0.025362829266211234, 0.00044795469314464474, 0.039193259131323994, 0.022954148797148882, 0.09356303272970702, 0.06563347496422489, 0.012731262530224934, 0.025173345262129585, 0.03862970280579986, 0.007220718755835847, 0.10879922496046684, 0.8746108441071846, 0.22322876422614654, 0.015304225617937707, 0.014443324586320689, 0.0042837807073162724, 0.0004580515291014858, 0.005667154688109287, 0.0009411492954639989, 0.0018559398699171592, 0.008892532864405594, 0.09869741294266142, 0.020630109888579103, 0.013391090193021187, 0.19621628693690443, 0.16427868982182178, 0.17852470402780307, 0.6529947179851184, 0.5853642487427738, 0.2727608030642278, 0.0035306084045414084, 0.0007473874868363119, 0.6273355604916927, 0.0051525238225798705, 0.010643956044763007, 0.10160981848746213, 0.2131322834074225, 0.2636220751466607, 0.030663985441459384, 0.007490767947832131, 0.004215309474009624, 0.0007529160586040415, 0.0026341322276191184, 0.3004157589897004, 0.03693674543900685, 0.22704158689003356, 0.017042363430588854, 0.011679286781042809, 0.3722133655035775, 0.18375849580304257, 0.23323341913321025, 0.3300704283703464, 0.057546032512687806, 0.020610810859038948, 0.01682525519972273, 0.21331214480963054, 0.042551939073268576, 0.042354665493533665, 0.04992141872035557, 0.11173523244358294, 0.05842447027837856, 0.27529595140477736, 0.0014175994842667062, 0.0038236325043371454, 0.1543544379998774, 0.8992184777949771, 0.8316716930525468, 0.03717012573355213, 0.0, 0.007933774036058905, 0.004775582380544836, 0.4850342408016526, 0.0032028446748294166, 0.03803163710718313, 0.0007252432431286796, 0.0016697468537944155, 0.00020440724650185588, 0.0016982735079284202, 0.0045209822185190785, 0.0, 0.0, 0.016404887833842596, 0.005411283039420316, 0.0065280259605647924, 0.021179119376176135, 0.07891239263881868, 0.5412827733639585, 0.008962215271433897, 0.006916530362143735, 0.06414614566704892, 0.1518835779050621, 0.002178364375460584, 0.007040177494880646, 0.0, 0.05664646908383654, 0.0, 0.012567522567414061, 1.048875750662072, 0.06394599291503548, 0.02095220052814376, 0.2631910133436406, 0.040556703754751275, 0.0007489263975275852, 0.00047197720985230323, 0.15769342310349113, 0.05547483167163124, 0.01907358435489591, 0.3717593859054435, 0.003430348943166605, 0.004102994589483143, 0.003939610293955254, 0.0050871528667287965, 0.25859742535607416, 0.05390213879972965, 0.1302366073485459, 0.008516524744819592, 0.1078187631463218, 0.003745466007863547, 0.044810333979432716, 1.1335545567839906, 0.028097047090782406, 0.11196576520038569, 1.791606758051185, 0.3595113233050428, 0.25053909571078564, 0.007451088317763419, 0.0027320131382468876, 0.012056419446728821, 0.10309551996365668, 0.04024675737759421, 0.01182844098740285, 0.0473103850302592, 0.6458411208120145, 1.4831879569810253, 0.0, 0.03437137333166088, 0.1291579119492634, 0.11352784642029151, 0.17576099626828928, 0.019995034218035168, 0.22402826872388237, 0.16921981599448332, 0.20280405832771403, 0.16938726304595728, 0.002374561485862147, 0.006270794917146857, 0.066749840145098, 0.33850990030418165, 0.03228774857010389, 0.012325546031947741, 0.9405163167656253, 0.9635067735340793, 0.28565700857634935, 0.0040088517511520354, 0.0049990796236854965, 0.005870545233626782, 0.03173360149251006, 0.004417881629318994, 0.002738235912446448, 0.3756292646507826, 0.00419623820724227, 0.0005703864681010687, 0.022441544318601105, 0.053440105871467865, 0.038832414898558015, 0.04674434596317054, 0.10900081274272509, 1.9602890648789826, 0.0289508139109141, 0.016674717568245657, 0.032881776066520374, 0.4833871650404913, 0.00592086305778142, 0.016852078204027447, 0.019403056970005533, 0.11785769789040577, 0.004504075158719141, 0.0019434635431486733, 0.19933933786094488, 0.20003768338528286, 0.30271849614957375, 0.20179554850424983, 0.6846896267935475, 0.00864178454412501, 0.025088580947788437, 0.04950153337814292, 0.2116412351722223, 0.13221228437204643, 1.1176982226673606, 0.5988819419882412, 0.2343186926309392, 0.6969006627583432, 0.04996159484944036, 0.00741174872571619, 0.10167931676847096, 0.21168449453855273, 0.05868151139747307, 0.018501094409122475, 0.016864320426961295, 0.12842706696815348, 0.6032372495800805, 0.21992128702654518, 0.2882402269708361, 0.0, 0.008962143863565928, 0.020977186694990196, 0.006290694562268516, 0.011258969760063202, 0.0024598575730960604, 0.0024484957904823976, 0.282492485491805, 0.0, 0.11171922238586551, 0.015614009228411859, 0.6538426446203673, 0.050715122514346254, 0.03799777581611499, 0.44640928351359127, 1.1787984183543923, 0.010486549628289014, 0.004436140354605447, 0.14594211201362017, 0.088340989987944, 0.19090766600855905, 0.11159912230170299, 0.01323448720301082, 0.009684001125978779, 0.03845943861881043, 0.010204612449622966, 0.016505122370103237, 0.10790231471579087, 0.1265879527658809, 0.08733100067773224, 0.2516489430230265, 0.28578909589047957, 0.04874149476025844, 0.8882698206436663, 0.10500378160192715, 0.010442876502278955, 0.021100566335339986, 0.06651395035408678, 0.05436466006786134, 0.05424853880530423, 0.25798902360224074, 0.007132235181841512, 0.014864289300883881, 0.048506838277867295, 0.10674020348863233, 0.051184189381022635, 0.06628116983457563, 0.08473123823903711, 0.26170675210428485, 0.0038586952255428206, 0.0016006538158651108, 0.3560591067904732, 0.002379486103726025, 0.004678918692050219, 0.15155342236095898, 0.002176888398072219, 0.005646484205551192, 0.394098206668564, 0.19548048608246396, 0.25848400138021865, 0.007868245544579688, 0.007906851837691839, 0.02391156842867896, 0.011095072566739556, 0.026715751972586077, 0.013031445276240108, 0.008836171884637936, 0.01078842647899947, 0.009054209532316762, 0.22946968019983427, 0.42005658783701527, 0.43784382423664603, 0.0027144093898151278, 0.10430005023805869, 0.03109907290500708, 0.2026110243455993, 0.0020782692754056664, 0.0008317036739235375, 0.25781153757453207, 0.00450205493167393, 0.005034373947808763, 0.12665583215982182, 0.20234590946591516, 0.6181928990167969, 0.477385464792526, 0.2709642818423734, 0.10589752249311292, 0.022681243762903012, 0.014124492535434192, 0.010395741199656975, 0.3930096026312517, 0.004583900141274358, 0.0026732548045298055, 0.006901868714145294, 0.011531962564459325, 0.03200826762748684, 0.17400865347859995, 0.1753840394469124, 0.011772073033834072, 0.020594972066201873, 0.03591516041486131, 0.0031673999661502297, 0.0036102014450326092, 0.003494656613732485, 0.07477910593976163, 0.0013796265002598434, 0.004468821650930738, 0.010419766536538892, 0.07064946889773263, 0.031707267943534206, 0.002586326214649716, 0.003562291022897867, 0.0785031574308451, 0.004722741171352775, 0.011579149146088432, 0.0005717293741066714, 0.008531333918390645, 0.001629402455018508, 0.3184171283626023, 0.2710195672971743, 0.25097429535107785, 0.004656054743168305, 0.01227969433118535, 0.08688524586769814, 0.16232358620945306, 0.338412606732518, 0.7045355223735816, 0.792197308362924, 0.9588482211478433, 1.552967453147173, 0.006738522229008531, 0.04737606752316906, 0.02488420443115773, 0.2143599010165998, 0.4176902495669474, 0.270274779760236, 0.0036609532740548597, 0.0013092749294948197, 0.002717485057208661, 0.05266674690767245, 0.18332503263719963, 0.47840092108429233, 0.04319562439021101, 0.4070696215515903, 0.27414435669273485, 0.28605002306475374, 0.024979725213678795, 0.009085139277618809, 0.04292072865451681, 0.178598988562584, 0.7185060943640059, 0.0020025456352566304, 0.0023257759604318074, 0.020839935630058516, 0.022945786213084053, 0.050488553536012414, 0.12702828148458628, 0.0013719455628150377, 0.004861820086391526, 0.0724444474650255, 0.05609273110218105, 0.006648909732858255, 0.5534813493385566, 0.09472909621207541, 0.033329802202142864, 0.7050707425260246, 0.003902626989305295, 0.0047745104107984855, 0.04354915230946787, 0.0, 0.010440448582185931, 0.016517810489865458, 0.0329810484720123, 0.24881306394723893, 0.6528515878192221, 0.0039257974252728, 0.00043801141136331443, 0.008285908264212152, 0.007541671542708321, 0.21307910825565088, 0.2978728258890428, 0.26669121624780173, 0.0014199596977061881, 0.0011983919547953893, 0.19112803160763417, 0.2363244088770293, 0.0008537386431066596, 0.0030644341790664947, 0.06555980964490718, 0.028225917150577724, 0.032528926182919714, 0.03143331783073401, 0.08574706325748097, 0.012662785778231477, 0.008308356233106738, 0.006116926282735019, 0.0045810076254148395, 0.07153541808729628, 0.39960705460435647, 0.6340592633414103, 0.5416055194564383, 0.0029416630753391947, 0.00840349804905199, 0.03245343041965445, 0.06590383884561915, 0.010603830622951062, 0.028963686127348506, 0.09033911323284712, 0.0633703820428026, 0.032738363294949155, 0.8893021508557304, 0.010626459231287492, 0.015246849108065981, 0.4099442686508244, 0.04704785696410161, 0.00320447998294909, 0.01710858589994731, 0.17555726642251138, 0.0847816315088938, 0.07541061462592312, 0.007501698574310053, 0.003346269668722833, 0.006362761035485803, 0.06518994393310575, 0.006047238548683473, 0.013751308567246288, 0.030449132529462394, 0.030790822903050866, 0.7364709769707157, 0.1681368454372422, 0.01204806817533991, 0.0562970891824704, 0.0020505446501082538, 0.0018080899046518041, 0.12568804271872203, 0.36574513964367916, 0.22938963263021508, 0.19000675677340284, 0.1025577161109952, 0.015290608013749285, 0.2684426295071908, 0.2185017024726371, 0.17689252582272177, 0.24554486585820376, 0.1038580850175899, 0.36984115750848984, 0.0394132679608156, 0.003854736382551251, 0.009678961853775531, 0.004951814735213291, 0.05280434248675288, 0.16312784096734467, 0.014530705422880836, 0.022308200096393293, 0.13211855589870364, 0.17484638555496393, 0.27880635980786234, 0.19385160650428937, 0.06097717124687426, 0.021608519319578422, 0.016074366949995426, 0.18868634900198689, 0.25666495694580255, 0.011518472687771744, 0.15112323782912182, 0.04980349028618532, 0.022800208286016553, 0.01993782248870853, 0.006242713717397279, 0.0, 0.07919320016131673, 0.04451081372500905, 0.6900546783429244, 0.13577124865501106, 0.007194660230116522, 0.03210023426174795, 0.06737201378286223, 0.37245332481239934, 0.784763343888027, 0.4500332131220551, 0.01884928540692174, 0.014138159246435049, 0.11078690368712527, 0.05478978573859791, 0.12486612604033401, 0.26221359576432474, 0.44484744572043056, 0.005857769602725808, 0.004781104897137026, 0.2725288787704271, 1.1518027820132473, 0.5424150671315219, 0.06634532587473874, 0.2513490663189226, 0.005681723153401387, 0.0017648866656394021, 0.09300049009668838, 0.135680479017246, 0.0007279612844112168, 0.0020840118979164437, 0.07668090677892347, 0.14857304597367185, 1.3335076249086157, 0.44370899331898633, 0.04530526812134499, 0.049089658323455986, 0.07087921268021427, 0.015435178631254362, 0.0637820073981403, 0.8797286307039608, 0.004101938574244032, 0.005859861222854047, 1.8016068388330233, 0.005720320606764888, 0.0022546061316696627, 0.46476582175110615, 0.0012264194485696064, 0.004869925366158875, 0.045355631249026834, 0.1282409640579877, 0.013514693182434317, 0.07186792759784463, 0.00274906838530068, 0.001265180520625631, 0.03299159317446703, 0.03214570011852036, 0.5503427247212356, 0.055909429930961235, 0.07471387786043027, 0.5572824988315888, 0.002679951335269002, 0.002723448966629232, 0.25156671242223655, 0.5827069867407155, 0.35876856369521076, 0.7112426364109766, 0.3319280841534145, 0.3067916084352976, 0.7977553809021782, 0.01145709598002082, 0.004568848689822124, 0.2676895196555022, 0.1703619661915419, 0.0242475190797038, 0.019975936444150355, 0.08803213209250686, 0.002365380931066879, 0.01764098072197205, 0.035961297721952695, 0.09407849556918703, 0.09753016749659703, 0.00929480474291338, 0.07408290067212943, 0.29981013843114984, 0.011373795230089204, 0.024873744312501264, 0.0025073226923454936, 0.00675268731329744, 0.003879057564200332, 0.035417890942215806, 0.07828518005272131, 0.08281718894099753, 0.003416656231896861, 0.01397547246540454, 0.0, 0.0015323811665510216, 0.005150352924068527, 0.03287856586599362, 0.014055204521710588, 0.04185813491811265, 0.05801644296291861, 0.019443214202654168, 0.06417718192351177]\n",
      "1786\n"
     ]
    }
   ],
   "source": [
    "print([getattr(perf, \"pt_diff\") for perf in performances_jet_puppi])\n",
    "print(len([getattr(perf, \"pt_diff\") for perf in performances_jet_puppi_wcut]))"
   ]
  },
  {
   "cell_type": "code",
   "execution_count": 20,
   "id": "cd08f4e8",
   "metadata": {},
   "outputs": [
    {
     "data": {
      "image/png": "[encoded data removed]",
      "text/plain": [
       "<Figure size 720x576 with 1 Axes>"
      ]
     },
     "metadata": {
      "needs_background": "light"
     },
     "output_type": "display_data"
    },
    {
     "data": {
      "image/png": "[encoded data removed]",
      "text/plain": [
       "<Figure size 720x576 with 1 Axes>"
      ]
     },
     "metadata": {
      "needs_background": "light"
     },
     "output_type": "display_data"
    },
    {
     "data": {
      "text/plain": [
       "<Figure size 720x720 with 0 Axes>"
      ]
     },
     "metadata": {},
     "output_type": "display_data"
    },
    {
     "data": {
      "image/png": "[encoded data removed]",
      "text/plain": [
       "<Figure size 720x576 with 1 Axes>"
      ]
     },
     "metadata": {
      "needs_background": "light"
     },
     "output_type": "display_data"
    },
    {
     "data": {
      "text/plain": [
       "<Figure size 720x720 with 0 Axes>"
      ]
     },
     "metadata": {},
     "output_type": "display_data"
    }
   ],
   "source": [
    "def getResol(input):\n",
    "    return (np.quantile(input, 0.84) - np.quantile(input, 0.16))/2\n",
    "\n",
    "def getStat(input):\n",
    "    return float(np.median(input)), float(getResol(input))\n",
    "\n",
    "performances_jet_pred0 = performances_jet_pred['gated_boost']\n",
    "#performances_jet_pred1 = performances_jet_pred['gated_noboost']\n",
    "#performances_jet_pred2 = performances_jet_pred['graphsage_boost']\n",
    "#performances_jet_pred3 = performances_jet_pred['graphsage_noboost']\n",
    "#performances_jet_pred4 = performances_jet_pred['gated_boost_sp']\n",
    "\n",
    "\n",
    "mets_pred0 = mets_pred['gated_boost']\n",
    "#mets_pred1 = mets_pred['gated_noboost']\n",
    "#mets_pred2 = mets_pred['graphsage_boost']\n",
    "#mets_pred3 = mets_pred['graphsage_noboost']\n",
    "#mets_pred4 = mets_pred['gated_boost_sp']\n",
    "\n",
    "linewidth=1.5\n",
    "\n",
    "\n",
    "%matplotlib inline\n",
    "plt.style.use(hep.style.ROOT)\n",
    "fig = plt.figure(figsize=(10,8))\n",
    "mass_diff = np.array([getattr(perf, \"mass_diff\") for perf in performances_jet_pred0])\n",
    "plt.hist(mass_diff, bins=40, range=(-1,1), histtype='step', color='blue', linewidth=linewidth, density=False, label=r'Semi-supervised, $\\mu={:10.2f}$, $\\sigma={:10.2f}$'.format(*(getStat(mass_diff))))\n",
    "#mass_diff = np.array([getattr(perf, \"mass_diff\") for perf in performances_jet_pred4])\n",
    "#plt.hist(mass_diff, bins=40, range=(-1,1), histtype='step', color='green', linewidth=linewidth, density=False, label=r'Fully-supervised, $\\mu={:10.2f}$, $\\sigma={:10.2f}$'.format(*(getStat(mass_diff))))\n",
    "mass_diff = np.array([getattr(perf, \"mass_diff\") for perf in performances_jet_puppi_wcut])\n",
    "plt.hist(mass_diff, bins=40, range=(-1,1), histtype='step', color='red', linewidth=linewidth, density=False, label=r'PUPPI, $\\mu={:10.2f}$, $\\sigma={:10.2f}$'.format(*(getStat(mass_diff))))\n",
    "#plt.xlim(-1.0,1.3)\n",
    "plt.xlabel(r\"Jet Mass $(m_{reco} - m_{truth})/m_{truth}$\")\n",
    "plt.ylabel('A.U.')\n",
    "plt.ylim(0, 450)\n",
    "plt.legend()\n",
    "plt.savefig(\"Jet_mass_diff.pdf\")\n",
    "plt.show()\n",
    "\n",
    "\n",
    "#%matplotlib inline\n",
    "fig = plt.figure(figsize=(10,8))\n",
    "\n",
    "pt_diff = np.array([getattr(perf, \"pt_diff\") for perf in performances_jet_pred0])\n",
    "plt.hist(pt_diff, bins=40, range=(-0.3,0.3), histtype='step', color='blue', linewidth=linewidth, density=False, label=r'Semi-supevised, $\\mu={:10.3f}$, $\\sigma={:10.3f}$'.format(*(getStat(pt_diff))))\n",
    "#pt_diff = np.array([getattr(perf, \"pt_diff\") for perf in performances_jet_pred4])\n",
    "#plt.hist(pt_diff, bins=40, range=(-0.3,0.3), histtype='step', color='green', linewidth=linewidth, density=False, label=r'Fully-supervised, $\\mu={:10.3f}$, $\\sigma={:10.3f}$'.format(*(getStat(pt_diff))))\n",
    "pt_diff = np.array([getattr(perf, \"pt_diff\") for perf in performances_jet_puppi_wcut])\n",
    "plt.hist(pt_diff, bins=40, range=(-0.3,0.3), histtype='step', color='red', linewidth=linewidth, density=False, label=r'PUPPI, $\\mu={:10.3f}$, $\\sigma={:10.3f}$'.format(*(getStat(pt_diff))))\n",
    "#plt.xlim(0,40)\n",
    "plt.ylim(0, 600)\n",
    "plt.xlabel(r\"Jet $p_{T}$ $(p^{reco}_{T} - p^{truth}_{T})/p^{truth}_{T}$\")\n",
    "plt.ylabel('A.U.')\n",
    "plt.legend()\n",
    "plt.show()\n",
    "plt.savefig(\"Jet_pT_diff.pdf\")\n",
    "\n",
    "\n",
    "# MET resolution\n",
    "#%matplotlib inline\n",
    "\n",
    "fig = plt.figure(figsize=(10,8))\n",
    "mets_diff = (np.array(mets_pred0) - np.array(mets_truth))\n",
    "plt.hist(mets_diff, bins=30, range=(-30,30), histtype='step', color='blue', linewidth=linewidth, density=False, label=r'Semi-supervised, $\\mu={:10.2f}$, $\\sigma={:10.2f}$'.format(*(getStat(mets_diff))))\n",
    "#mets_diff = (np.array(mets_pred4) - np.array(mets_truth))\n",
    "#plt.hist(mets_diff, bins=30, range=(-30,30), histtype='step', color='green', linewidth=linewidth, density=False, label=r'Fully-supervised, $\\mu={:10.2f}$, $\\sigma={:10.2f}$'.format(*(getStat(mets_diff))))\n",
    "mets_diff = (np.array(mets_puppi_wcut) - np.array(mets_truth))\n",
    "plt.hist(mets_diff, bins=30, range=(-30,30), histtype='step', color='red', linewidth=linewidth, density=False, label=r'PUPPI, $\\mu={:10.2f}$, $\\sigma={:10.2f}$'.format(*(getStat(mets_diff))))\n",
    "\n",
    "plt.xlabel(r\"$p^{miss, reco}_{T} - p^{miss, truth}_{T}$ [GeV]\")\n",
    "plt.ylabel('A.U.')\n",
    "plt.ylim(0,200)\n",
    "plt.legend()\n",
    "plt.show()\n",
    "plt.savefig(\"MET_diff.pdf\")\n"
   ]
  },
  {
   "cell_type": "code",
   "execution_count": null,
   "id": "a880a5a2",
   "metadata": {},
   "outputs": [],
   "source": []
  },
  {
   "cell_type": "code",
   "execution_count": null,
   "id": "e7d70fd0",
   "metadata": {},
   "outputs": [],
   "source": []
  },
  {
   "cell_type": "code",
   "execution_count": null,
   "id": "e1c673df",
   "metadata": {},
   "outputs": [],
   "source": []
  },
  {
   "cell_type": "code",
   "execution_count": null,
   "id": "b69cbad1",
   "metadata": {},
   "outputs": [],
   "source": []
  }
 ],
 "metadata": {
  "kernelspec": {
   "display_name": "Python 3 (ipykernel)",
   "language": "python",
   "name": "python3"
  },
  "language_info": {
   "codemirror_mode": {
    "name": "ipython",
    "version": 3
   },
   "file_extension": ".py",
   "mimetype": "text/x-python",
   "name": "python",
   "nbconvert_exporter": "python",
   "pygments_lexer": "ipython3",
   "version": "3.8.12"
  }
 },
 "nbformat": 4,
 "nbformat_minor": 5
}
