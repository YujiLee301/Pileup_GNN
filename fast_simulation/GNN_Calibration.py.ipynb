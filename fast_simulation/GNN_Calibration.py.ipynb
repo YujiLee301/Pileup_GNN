{
 "cells": [
  {
   "cell_type": "code",
   "execution_count": 1,
   "id": "15912df5",
   "metadata": {},
   "outputs": [
    {
     "name": "stdout",
     "output_type": "stream",
     "text": [
      "True\n"
     ]
    },
    {
     "name": "stderr",
     "output_type": "stream",
     "text": [
      "/depot/cms/private/users/gpaspala/miniconda3/envs/DeepPuppi/lib/python3.8/site-packages/xgboost/compat.py:36: FutureWarning: pandas.Int64Index is deprecated and will be removed from pandas in a future version. Use pandas.Index with the appropriate dtype instead.\n",
      "  from pandas import MultiIndex, Int64Index\n",
      "/tmp/ipykernel_3534780/3555834389.py:31: FutureWarning: ``set_style`` is deprecated: Naming convention is changing to match mpl. Use ``mplhep.style.use()``.\n",
      "  hep.set_style(hep.style.CMS)\n"
     ]
    }
   ],
   "source": [
    "import argparse\n",
    "import torch\n",
    "from torch_geometric.data import DataLoader\n",
    "#import models_ggnn_oldpipe as models\n",
    "import models_fastsim as models\n",
    "import utils\n",
    "import matplotlib\n",
    "from copy import deepcopy\n",
    "import os\n",
    "import copy\n",
    "import uproot\n",
    "import awkward as ak\n",
    "import xgboost as xgb\n",
    "\n",
    "#matplotlib.use(\"pdf\")\n",
    "import numpy as np\n",
    "import random\n",
    "import pickle\n",
    "import joblib\n",
    "from timeit import default_timer as timer\n",
    "from tqdm import tqdm\n",
    "\n",
    "import matplotlib as mpl\n",
    "import imageio\n",
    "\n",
    "from scipy import integrate as integrate\n",
    "#mpl.use(\"pdf\")\n",
    "import matplotlib.pyplot as plt\n",
    "import mplhep as hep\n",
    "\n",
    "hep.set_style(hep.style.CMS)\n",
    "\n",
    "device = torch.device('cuda' if torch.cuda.is_available() else 'cpu')\n",
    "print(torch.cuda.is_available())\n",
    "\n",
    "from pyjet import cluster, DTYPE_PTEPM\n",
    "from collections import OrderedDict\n",
    "import scipy.stats\n",
    "from scipy.stats import norm\n",
    "from scipy.stats import rv_histogram\n",
    "from scipy import stats"
   ]
  },
  {
   "cell_type": "code",
   "execution_count": 2,
   "id": "a90f092d",
   "metadata": {},
   "outputs": [],
   "source": [
    "def deltaPhiNew(dphis):\n",
    "    dphis = np.where(dphis > np.pi, dphis - 2*np.pi, dphis)\n",
    "    dphis = np.where(dphis <-np.pi, dphis + 2*np.pi, dphis)\n",
    "    return dphis\n",
    "\n",
    "def deltaRNew(detas, dphis):\n",
    "    \"\"\"\n",
    "    calculate the deltaR based on the input deta and phi\n",
    "    \"\"\"\n",
    "    dphis = deltaPhiNew(dphis)\n",
    "    dR = np.sqrt(detas**2 + dphis**2)\n",
    "    return dR"
   ]
  },
  {
   "cell_type": "code",
   "execution_count": 3,
   "id": "9746093b",
   "metadata": {},
   "outputs": [],
   "source": [
    "class Args(object):\n",
    "    def __init__(self, model_type = 'Gated', do_boost=False, extralayers=False):\n",
    "        self.model_type = model_type\n",
    "        self.num_layers = 2\n",
    "        self.batch_size = 1\n",
    "        self.hidden_dim = 20\n",
    "        self.dropout = 0\n",
    "        self.opt = 'adam'\n",
    "        self.weight_decay = 0\n",
    "        self.lr = 0.01\n",
    "        self.do_boost = do_boost\n",
    "        self.extralayers = extralayers"
   ]
  },
  {
   "cell_type": "code",
   "execution_count": 4,
   "id": "e7fa321a",
   "metadata": {},
   "outputs": [],
   "source": [
    "args = Args()"
   ]
  },
  {
   "cell_type": "code",
   "execution_count": 5,
   "id": "3e1b6ec7",
   "metadata": {},
   "outputs": [],
   "source": [
    "class PerformanceMetrics(object):\n",
    "    def __init__(self):\n",
    "        pt = 0.\n",
    "        pt_diff = 0.\n",
    "        mass_diff = 0.\n",
    "        dR_diff = 0.\n",
    "        mass_reco =0.\n",
    "        mass_gen =0.\n",
    "        pt_reco =0.\n",
    "        pt_gen =0.\n",
    "        eta_reco = 0.\n",
    "        phi_reco = 0."
   ]
  },
  {
   "cell_type": "code",
   "execution_count": 6,
   "id": "e291410f",
   "metadata": {},
   "outputs": [],
   "source": [
    "def generate_mask(dataset):\n",
    "    # how many LV and PU to sample\n",
    "    # dataset = deepcopy(dataset_org)\n",
    "    for graph in dataset:\n",
    "        LV_index = graph.LV_index\n",
    "        PU_index = graph.PU_index\n",
    "        original_feature = graph.x[:, 0:graph.num_feature_actual]\n",
    "\n",
    "        num_select_LV = 10\n",
    "        num_select_PU = 160\n",
    "\n",
    "        if LV_index.shape[0] < num_select_LV or PU_index.shape[0] < num_select_PU:\n",
    "            num_select_LV = min(LV_index.shape[0], num_select_LV)\n",
    "            num_select_PU = min(PU_index.shape[0], num_select_PU)\n",
    "\n",
    "        # generate the index for LV and PU samples for training mask\n",
    "        gen_index_LV = random.sample(range(LV_index.shape[0]), num_select_LV)\n",
    "        selected_LV_train = LV_index[gen_index_LV]\n",
    "\n",
    "        gen_index_PU = random.sample(range(PU_index.shape[0]), num_select_PU)\n",
    "        selected_PU_train = PU_index[gen_index_PU]\n",
    "\n",
    "        training_mask = np.concatenate((selected_LV_train, selected_PU_train), axis=None)\n",
    "        #print(training_mask)\n",
    "\n",
    "        # construct mask vector for training and testing\n",
    "        mask_training = torch.zeros(graph.num_nodes, 1)\n",
    "        mask_training[[training_mask.tolist()]] = 1\n",
    "\n",
    "        x_concat = torch.cat((original_feature, mask_training), 1)\n",
    "        graph.x = x_concat\n",
    "\n",
    "        \n",
    "        # mask the puppiWeight as default Neutral(here puppiweight is actually fromLV in ggnn dataset)\n",
    "        puppiWeight_default_one_hot_training = torch.cat((torch.zeros(graph.num_nodes, 1),\n",
    "                                                          torch.zeros(graph.num_nodes, 1),\n",
    "                                                          torch.ones(graph.num_nodes, 1)), 1)\n",
    "        puppiWeight_default_one_hot_training = puppiWeight_default_one_hot_training.type(torch.float32)\n",
    "        \n",
    "        #mask the pdgID for charge particles\n",
    "        pdgId_one_hot_training = torch.cat((torch.zeros(graph.num_nodes, 1),\n",
    "                                                          torch.zeros(graph.num_nodes, 1),\n",
    "                                                          torch.ones(graph.num_nodes, 1)), 1)       \n",
    "        pdgId_one_hot_training = pdgId_one_hot_training.type(torch.float32)\n",
    "\n",
    "        pf_dz_training_test=torch.clone(original_feature[:,6:7])\n",
    "        pf_dz_training_test = torch.zeros(graph.num_nodes, 1)    \n",
    "        \n",
    "\n",
    "        # -4 is for one hot encoding of fromLV and one mask; -1 is for final puppiweight\n",
    "        #default_data_training = torch.cat(\n",
    "         #   (original_feature[:, 0:(graph.num_features - 4 - 1)], puppiWeight_default_one_hot_training,\n",
    "         #    original_feature[:, -1].view(-1, 1)), 1)\n",
    "        default_data_training = torch.cat(\n",
    "             (original_feature[:, 0:(graph.num_feature_actual - 7)],pdgId_one_hot_training, pf_dz_training_test ,puppiWeight_default_one_hot_training), 1)\n",
    "        \n",
    "\n",
    "        concat_default = torch.cat((graph.x, default_data_training), 1)\n",
    "        graph.x = concat_default"
   ]
  },
  {
   "cell_type": "code",
   "execution_count": 7,
   "id": "5431ac93",
   "metadata": {},
   "outputs": [],
   "source": [
    "def test(filelists, models={}):\n",
    "    \n",
    "    for model in models.values():\n",
    "        model.to('cuda:0')\n",
    "        model.eval()\n",
    "    \n",
    "    performances_jet_puppi = []\n",
    "    performances_jet_puppi_wcut = []\n",
    "    performances_jet_pf = []\n",
    "    \n",
    "    mets_truth = []\n",
    "    mets_puppi = []\n",
    "    mets_puppi_wcut = []\n",
    "      \n",
    "    \n",
    "    performances_jet_pred = OrderedDict()\n",
    "    mets_pred = OrderedDict()\n",
    "    \n",
    "    for modelname in models.keys():\n",
    "        performances_jet_pred[modelname] = []\n",
    "        mets_pred[modelname] = []\n",
    "       \n",
    "    \n",
    "    ievt = 0\n",
    "    for ifile in filelists:\n",
    "        print(\"ifile: \", ifile)\n",
    "        fp = open(ifile, \"rb\")\n",
    "        dataset = joblib.load(fp)\n",
    "        generate_neu_mask(dataset)\n",
    "        generate_mask(dataset)\n",
    "        data = DataLoader(dataset, batch_size=1)\n",
    "        loader = data\n",
    "        \n",
    "        for data in loader:\n",
    "            ievt += 1\n",
    "            #if ievt > 10:\n",
    "            #    break\n",
    "            \n",
    "            if ievt%10 == 0:\n",
    "                print(\"processed {} events\".format(ievt))\n",
    "            with torch.no_grad():\n",
    "                data = data.to(device)\n",
    "                # max(dim=1) returns values, indices tuple; only need indices\n",
    "                \n",
    "                # loop over model in models and run the inference\n",
    "                preds = []\n",
    "\n",
    "                for model in models.values():\n",
    "                    model.to('cuda:0')\n",
    "                    model.eval()\n",
    "                    \n",
    "                    pred = model.forward(data)\n",
    "                    #print(\"pred here: \", pred)\n",
    "                    preds.append(pred)\n",
    "            \n",
    "                #met_truth, perfs_jet_puppi, met_puppi, perfs_jet_puppi_wcut, met_puppi_wcut, perfs_jet_pred, mets_fromF_pred = postProcessing(data, preds)\n",
    "                #met_truth,perfs_jet_puppi,perfs_jet_pf,perfs_jet_puppi_wcut,perfs_jet_pred, mets_fromF_pred, perfs_jet_gen = postProcessing(data, preds)\n",
    "                met_truth, perfs_jet_puppi, met_puppi, perfs_jet_puppi_wcut, met_puppi_wcut, perfs_jet_pred, mets_fromF_pred,  perfs_jet_gen, met_pf = postProcessing(data, preds)\n",
    "                \n",
    "                \n",
    "                \n",
    "                \n",
    "                imodel = 0\n",
    "                for modelname in models.keys():\n",
    "                    #print(\"modelname \", perfs_jet_pred[imodel])\n",
    "                    #print(\"performances_jet_pred modelname\", performances_jet_pred[modelname] )\n",
    "                    performances_jet_pred[modelname] += perfs_jet_pred[imodel]\n",
    "                    mets_pred[modelname].append(mets_fromF_pred[imodel])\n",
    "                    imodel += 1\n",
    "                \n",
    "        fp.close()\n",
    "\n",
    "\n",
    "    #return mets_truth,performances_jet_puppi,performances_jet_pf,perfs_jet_puppi_wcut ,performances_jet_pred, mets_pred, performances_jet_gen\n",
    "    return mets_truth, performances_jet_puppi, mets_puppi, performances_jet_puppi_wcut, mets_puppi_wcut, performances_jet_pred, mets_pred,performances_jet_gen, mets_pf"
   ]
  },
  {
   "cell_type": "code",
   "execution_count": 8,
   "id": "83b9a4bd",
   "metadata": {},
   "outputs": [],
   "source": [
    "def generate_neu_mask(dataset):\n",
    "    # all neutrals with pt cuts are masked for evaluation\n",
    "    for graph in dataset:\n",
    "        nparticles = graph.num_nodes\n",
    "        graph.num_feature_actual = graph.num_features\n",
    "        Neutral_index = graph.Neutral_index\n",
    "        Neutral_feature = graph.x[Neutral_index]\n",
    "        Neutral_index = Neutral_index[torch.where(Neutral_feature[:, 2] > 0.5)[0]]\n",
    "        \n",
    "        \n",
    "\n",
    "        mask_neu = torch.zeros(nparticles, 1)\n",
    "        mask_neu[Neutral_index, 0] = 1\n",
    "        graph.mask_neu = mask_neu\n",
    "\n",
    "    return dataset"
   ]
  },
  {
   "cell_type": "code",
   "execution_count": 9,
   "id": "0c91616b",
   "metadata": {},
   "outputs": [],
   "source": [
    "def clusterJets(pt, eta, phi, ptcut=0., deltaR=0.4):\n",
    "    \"\"\"\n",
    "    cluster the jets based on the array of pt, eta, phi,\n",
    "    of all particles (masses are assumed to be zero),\n",
    "    with pyjet clustering algo\n",
    "    \"\"\"\n",
    "    # cleaning zero pt-ed objects\n",
    "    pt_wptcut   = pt[pt > ptcut]\n",
    "    eta_wptcut  = eta[pt > ptcut]\n",
    "    phi_wptcut  = phi[pt > ptcut]\n",
    "    mass_wptcut = np.zeros(pt_wptcut.shape[0])\n",
    "    \n",
    "    event = np.column_stack((pt_wptcut, eta_wptcut, phi_wptcut, mass_wptcut))\n",
    "    event.dtype = DTYPE_PTEPM\n",
    "    sequence = cluster(event, R=deltaR, p=-1)\n",
    "    jets = sequence.inclusive_jets(ptmin=30)\n",
    "    \n",
    "    #print (\"done\")\n",
    "    \n",
    "    return jets\n",
    "\n",
    "def deltaPhi(phi1, phi2):\n",
    "    dphi = phi1 - phi2\n",
    "    while dphi > np.pi:\n",
    "        dphi -= 2 * np.pi\n",
    "    while dphi < -np.pi:\n",
    "        dphi += 2 * np.pi\n",
    "    return dphi\n",
    "\n",
    "def deltaR(eta1, phi1, eta2, phi2):\n",
    "    \"\"\"\n",
    "    calculate the deltaR between two jets/particles\n",
    "    \"\"\"\n",
    "    deta = eta1 - eta2\n",
    "    dphi = phi1 - phi2\n",
    "    while dphi > np.pi:\n",
    "        dphi -= 2 * np.pi\n",
    "    while dphi < -np.pi:\n",
    "        dphi += 2 * np.pi\n",
    "    return np.hypot(deta, dphi)\n",
    "\n",
    "def deltaRJet(jet1, jet2):\n",
    "    \"\"\"\n",
    "    calculate the deltaR of the two PseudoJet\n",
    "    \"\"\"\n",
    "    return deltaR(jet1.eta, jet1.phi, jet2.eta, jet2.phi)\n",
    "\n",
    "def matchJets(jets_truth, jets_reco, dRcut=0.1):\n",
    "    \"\"\"\n",
    "    match the jets in jets_reco to jets_truth,\n",
    "    based on the deltaR\n",
    "    \"\"\"\n",
    "    matched_indices = []\n",
    "    \n",
    "    jets_truth_indices = list(range(len(jets_truth)))\n",
    "    jets_reco_indices  = list(range(len(jets_reco)))\n",
    "    \n",
    "    for ijet_reco in jets_reco_indices:\n",
    "        for ijet_truth in jets_truth_indices:\n",
    "            #print(\"deltR between {} and {} is {}\".format(ijet_truth, ijet_reco, deltaRJet(jets_truth[ijet_truth], jets_reco[ijet_reco])))\n",
    "            if deltaRJet(jets_truth[ijet_truth], jets_reco[ijet_reco]) < dRcut:\n",
    "                matched_indices.append((ijet_truth, ijet_reco))\n",
    "                jets_truth_indices.remove(ijet_truth)\n",
    "                break\n",
    "    \n",
    "    return matched_indices\n",
    "\n",
    "def compareJets(jets_truth, jets_reco, dRcut=0.1):\n",
    "    \"\"\"\n",
    "    match jets between truth and reco using matchJets,\n",
    "    and then compared the matched deltaR, pt, and mass\n",
    "    \"\"\"\n",
    "    performances = []\n",
    "    \n",
    "    matched_indices = matchJets(jets_truth, jets_reco, dRcut=dRcut)\n",
    "    #print (\"matched_indices:\", matched_indices)\n",
    "    for ijet_truth, ijet_reco in matched_indices:\n",
    "        perf = PerformanceMetrics()\n",
    "        perf.pt_truth = jets_truth[ijet_truth].pt\n",
    "        perf.mass_diff =  (jets_reco[ijet_reco].mass - jets_truth[ijet_truth].mass)/(jets_truth[ijet_truth].mass+1e-6)\n",
    "        perf.pt_diff   =  (jets_reco[ijet_reco].pt   - jets_truth[ijet_truth].pt)/(jets_truth[ijet_truth].pt+1e-6)\n",
    "        perf.dR_diff   =  deltaRJet(jets_truth[ijet_truth], jets_reco[ijet_reco])\n",
    "        perf.mass_reco =  jets_reco[ijet_reco].mass\n",
    "        perf.mass_gen  =  jets_truth[ijet_truth].mass\n",
    "        perf.pt_reco   =  jets_reco[ijet_reco].pt\n",
    "        perf.pt_gen    =  jets_truth[ijet_truth].pt\n",
    "        perf.eta_reco  =  jets_reco[ijet_reco].eta\n",
    "        perf.phi_reco  =  jets_reco[ijet_reco].phi\n",
    "        performances.append(perf)\n",
    "    return performances\n",
    "\n",
    "def calculateMET(pt, phi):\n",
    "    \"\"\"\n",
    "    calculate the MET based on all particles pt and phi\n",
    "    \"\"\"\n",
    "    met_x = np.sum(pt * np.cos(phi), axis=0)\n",
    "    met_y = np.sum(pt * np.sin(phi), axis=0)\n",
    "    return np.hypot(met_x, met_y)\n"
   ]
  },
  {
   "cell_type": "code",
   "execution_count": 10,
   "id": "2f631217",
   "metadata": {},
   "outputs": [],
   "source": [
    "def postProcessing(data, preds):\n",
    "    pt_gen = np.array(data.GenPart_nump[ :,2].cpu().detach())\n",
    "    eta_gen = np.array(data.GenPart_nump[ :,0].cpu().detach())\n",
    "    phi_gen = np.array(data.GenPart_nump[ :,1].cpu().detach())\n",
    "    mass_gen =  np.zeros(pt_gen.shape[0])\n",
    "    \n",
    "    pt_gen[pt_gen<0.5]=0\n",
    "    jets_gen = clusterJets(pt_gen,eta_gen,phi_gen, mass_gen)\n",
    "    \n",
    "    ##pf from graph\n",
    "    pt      = np.array(data.x[:,2].cpu().detach())\n",
    "    eta     = np.array(data.x[:,0].cpu().detach())\n",
    "    phi     = np.array(data.x[:,1].cpu().detach())\n",
    "    puppi = np.array(data.x[:,data.num_feature_actual[0].item()-1].cpu().detach())\n",
    "    truth = np.array(data.y.cpu().detach())\n",
    "    mass  = np.zeros(pt.shape[0])\n",
    "    \n",
    "    #puppi_raw = np.array(data.PFPartraw_nump[ :,5].cpu().detach())\n",
    "    puppi_raw = np.array(data.PFPartraw_nump[ :,6].cpu().detach()) ##PuppiPF_Chg\n",
    "    \n",
    "    pt[pt<0.5]=0\n",
    "    \n",
    "    jets_pf =clusterJets(pt, eta, phi)\n",
    "    \n",
    "     # apply CHS to puppi weights\n",
    "    charge_index = data.Charge_index[0]\n",
    "    puppi[charge_index] = truth[charge_index]\n",
    "    \n",
    "    pt_truth = pt * truth\n",
    "    #print (pt_truth)\n",
    "    # puppi information\n",
    "    #print (puppi)\n",
    "    pt_puppi = pt * puppi_raw\n",
    "    \n",
    "    \n",
    "    # cluster jets with truth particles\n",
    "    jets_truth = clusterJets(pt_truth, eta, phi)\n",
    "    # apply some weight cuts on puppi\n",
    "    #cut = 0.41 #GeV\n",
    "    #wcut = 0.17 #used\n",
    "    #cut = 0.99 #GeV #used\n",
    "    cut = 0.99 #GeV\n",
    "    wcut = 0.15\n",
    "    #cut = 1.242 #GeV\n",
    "    #wcut = 0.115\n",
    "    pt_puppi_wcut = np.array(pt_puppi, copy=True)\n",
    "    pt_puppi_wcut[(puppi<wcut) | (pt_puppi<cut)] = 0.\n",
    "    \n",
    "    jets_puppi = clusterJets(pt_puppi, eta, phi)\n",
    "    performances_jet_puppi = compareJets(jets_gen, jets_puppi)\n",
    "    #performances_jet_puppi = compareJets(jets_truth, jets_puppi)\n",
    "    \n",
    "    jets_puppi_wcut = clusterJets(pt_puppi_wcut, eta, phi)\n",
    "    #performances_jet_puppi_wcut = compareJets(jets_truth, jets_puppi_wcut)\n",
    "    performances_jet_puppi_wcut = compareJets(jets_gen, jets_puppi_wcut)\n",
    "    \n",
    "    performances_jet_gen = compareJets(jets_gen, jets_pf)\n",
    "    \n",
    "     # calculate MET and compare\n",
    "    met_truth = calculateMET(pt_gen, phi_gen)\n",
    "    met_puppi = calculateMET(pt_puppi, phi)\n",
    "    met_puppi_wcut = calculateMET(pt_puppi_wcut, phi)\n",
    "    met_pf = calculateMET(pt,phi)\n",
    "    #met_pred  = calculateMET(pt_pred,  phi)\n",
    "    #met_pred2 = calculateMET(pt_pred2, phi)\n",
    "    #print(\"***** one event ********\")\n",
    "    #print(\"met truth\", met_truth)\n",
    "    #print(\"met puppi\", met_puppi)\n",
    "    #print(\"met puppi wcut\", met_puppi_wcut)\n",
    "    #print(\"met pred\", met_pred)\n",
    "   \n",
    "    \n",
    "    # evaluate the performances for the predictions\n",
    "    performances_jet_pred = []\n",
    "    mets_pred = []\n",
    "    gnn_pred =[]\n",
    "    puppi_wgt=[]\n",
    "    puppi_wgt.append(puppi_raw)\n",
    "    \n",
    "    \n",
    "    for pred in preds:\n",
    "        #print(\"preds: \", pred)\n",
    "        pred = np.array(pred[0][:,0].cpu().detach())\n",
    "        \n",
    "        #print(\"prediction: \", pred)\n",
    "        \n",
    "        # apply CHS to predictions\n",
    "        charge_index = data.Charge_index[0]\n",
    "        pred[charge_index] = truth[charge_index]\n",
    "        gnn_pred.append(pred)\n",
    "        pt_pred = pt * pred\n",
    "        #pt_pred = pt * pred * (puppi_raw/pred)\n",
    "        #print(\"corrected Pt: \", pt_pred)\n",
    "        jets_pred  = clusterJets(pt_pred,  eta, phi)\n",
    "        performance_jet_pred = compareJets(jets_gen, jets_pred)\n",
    "        \n",
    "        # MET\n",
    "        met_pred  = calculateMET(pt_pred,  phi)\n",
    "        \n",
    "        performances_jet_pred.append( performance_jet_pred )\n",
    "        mets_pred.append( met_pred )\n",
    "\n",
    "    return met_truth, performances_jet_puppi, met_puppi, performances_jet_puppi_wcut, met_puppi_wcut, performances_jet_pred, mets_pred,performances_jet_gen,met_pf,gnn_pred,puppi_wgt  \n",
    "    #return met_truth, perfs_jet_puppi, met_puppi, perfs_jet_puppi_wcut, met_puppi_wcut, perfs_jet_pred, mets_fromF_pred,  perfs_jet_gen\n",
    "    \n",
    "    \n",
    "  "
   ]
  },
  {
   "cell_type": "code",
   "execution_count": 11,
   "id": "7ec72a15",
   "metadata": {},
   "outputs": [],
   "source": [
    "def test(filelists, models={}):\n",
    "    \n",
    "    for model in models.values():\n",
    "        model.to('cuda:0')\n",
    "        model.eval()\n",
    "    \n",
    "    performances_jet_puppi = []\n",
    "    performances_jet_puppi_wcut = []\n",
    "    performances_jet_gen = []\n",
    "    \n",
    "    mets_truth = []\n",
    "    mets_puppi = []\n",
    "    mets_puppi_wcut = []\n",
    "    mets_pf = []\n",
    "    gnn_preds =[]\n",
    "    puppi_wgts = []\n",
    "    \n",
    "    \n",
    "    performances_jet_pred = OrderedDict()\n",
    "    mets_pred = OrderedDict()\n",
    "    for modelname in models.keys():\n",
    "        performances_jet_pred[modelname] = []\n",
    "        mets_pred[modelname] = []\n",
    "    \n",
    "    ievt = 0\n",
    "    for ifile in filelists:\n",
    "        print(\"ifile: \", ifile)\n",
    "        fp = open(ifile, \"rb\")\n",
    "        dataset = joblib.load(fp)\n",
    "        generate_neu_mask(dataset)\n",
    "        generate_mask(dataset)\n",
    "        data = DataLoader(dataset, batch_size=1)\n",
    "        loader = data\n",
    "        \n",
    "        for data in loader:\n",
    "            ievt += 1\n",
    "            #if ievt > 10:\n",
    "            #    break\n",
    "            \n",
    "            if ievt%10 == 0:\n",
    "                print(\"processed {} events\".format(ievt))\n",
    "            with torch.no_grad():\n",
    "                data = data.to(device)\n",
    "                # max(dim=1) returns values, indices tuple; only need indices\n",
    "                \n",
    "                # loop over model in models and run the inference\n",
    "                preds = []\n",
    "\n",
    "                for model in models.values():\n",
    "                    model.to('cuda:0')\n",
    "                    model.eval()\n",
    "                    \n",
    "                    pred = model.forward(data)\n",
    "                    #print(\"pred here: \", pred)\n",
    "                    preds.append(pred)\n",
    "            \n",
    "                met_truth, perfs_jet_puppi, met_puppi, perfs_jet_puppi_wcut, met_puppi_wcut, perfs_jet_pred, mets_fromF_pred, perfs_jet_gen, met_pf, gnn_pred,puppi_wgt = postProcessing(data, preds)\n",
    "               \n",
    "                #return met_truth, performances_jet_puppi, met_puppi, performances_jet_puppi_wcut, met_puppi_wcut, performances_jet_pred, mets_pred,performances_jet_gen \n",
    "                \n",
    "            \n",
    "                performances_jet_puppi += perfs_jet_puppi\n",
    "                performances_jet_puppi_wcut += perfs_jet_puppi_wcut\n",
    "                performances_jet_gen += perfs_jet_gen\n",
    "                #performances_jet_pred += perfs_jet_pred\n",
    "                #performances_jet_pred2 += perfs_jet_pred2\n",
    "                \n",
    "                mets_truth.append(met_truth)\n",
    "                mets_puppi.append(met_puppi)\n",
    "                mets_puppi_wcut.append(met_puppi_wcut)\n",
    "                mets_pf.append(met_pf)\n",
    "                gnn_preds.append(gnn_pred)\n",
    "                puppi_wgts.append(puppi_wgt)\n",
    "                \n",
    "                imodel = 0\n",
    "                for modelname in models.keys():\n",
    "                    #print(\"modelname \", perfs_jet_pred[imodel])\n",
    "                    #print(\"performances_jet_pred modelname\", performances_jet_pred[modelname] )\n",
    "                    performances_jet_pred[modelname] += perfs_jet_pred[imodel]\n",
    "                    mets_pred[modelname].append(mets_fromF_pred[imodel])\n",
    "                    imodel += 1\n",
    "                \n",
    "        fp.close()\n",
    "\n",
    "\n",
    "    return mets_truth, performances_jet_puppi, mets_puppi, performances_jet_puppi_wcut, mets_puppi_wcut, performances_jet_pred, mets_pred, performances_jet_gen, mets_pf, gnn_preds, puppi_wgts\n",
    "    \n"
   ]
  },
  {
   "cell_type": "code",
   "execution_count": 12,
   "id": "3b792526",
   "metadata": {},
   "outputs": [],
   "source": [
    "filelists = [\"/home/gpaspala/new_Pileup_GNN/Pileup_GNN/datasets/dataset_graph_puppi_PF_puppiWeightChg_1500\"]#,\n",
    "             #\"/home/gpaspala/new_Pileup_GNN/Pileup_GNN/datasets/dataset_graph_puppi_2000\"]"
   ]
  },
  {
   "cell_type": "code",
   "execution_count": 13,
   "id": "d4359c3e",
   "metadata": {},
   "outputs": [],
   "source": [
    "ifile = \"/home/gpaspala/new_Pileup_GNN/Pileup_GNN/datasets/dataset_graph_puppi_1500\"\n",
    "fp = open(ifile, \"rb\")\n",
    "dataset = joblib.load(fp)\n",
    "generate_neu_mask(dataset)\n",
    "generate_mask(dataset)"
   ]
  },
  {
   "cell_type": "code",
   "execution_count": 14,
   "id": "0c757d5c",
   "metadata": {},
   "outputs": [
    {
     "data": {
      "text/plain": [
       "<All keys matched successfully>"
      ]
     },
     "execution_count": 14,
     "metadata": {},
     "output_type": "execute_result"
    }
   ],
   "source": [
    "model_gated_boost = models.GNNStack(10, args.hidden_dim, 1, args)\n",
    "#model_load.load_state_dict(torch.load('best_valid_model_semi.pt'))\n",
    "#model_gated_boost.load_state_dict(torch.load('/home/gpaspala/new_Pileup_GNN/Pileup_GNN/fast_simulation/test/best_valid_model.pt'))\n",
    "model_gated_boost.load_state_dict(torch.load('/home/gpaspala/new_Pileup_GNN/Pileup_GNN/fast_simulation/test/best_valid_model_ZJ.pt'))\n"
   ]
  },
  {
   "cell_type": "code",
   "execution_count": 15,
   "id": "729a17c4",
   "metadata": {},
   "outputs": [],
   "source": [
    "modelcolls = OrderedDict()\n",
    "modelcolls['gated_boost'] = model_gated_boost"
   ]
  },
  {
   "cell_type": "code",
   "execution_count": 16,
   "id": "d61e3875",
   "metadata": {},
   "outputs": [
    {
     "name": "stdout",
     "output_type": "stream",
     "text": [
      "ifile:  /home/gpaspala/new_Pileup_GNN/Pileup_GNN/datasets/dataset_graph_puppi_PF_puppiWeightChg_1500\n"
     ]
    },
    {
     "name": "stderr",
     "output_type": "stream",
     "text": [
      "/depot/cms/private/users/gpaspala/miniconda3/envs/DeepPuppi/lib/python3.8/site-packages/torch_geometric/deprecation.py:13: UserWarning: 'data.DataLoader' is deprecated, use 'loader.DataLoader' instead\n",
      "  warnings.warn(out)\n"
     ]
    },
    {
     "name": "stdout",
     "output_type": "stream",
     "text": [
      "processed 10 events\n",
      "processed 20 events\n",
      "processed 30 events\n",
      "processed 40 events\n",
      "processed 50 events\n",
      "processed 60 events\n",
      "processed 70 events\n",
      "processed 80 events\n",
      "processed 90 events\n",
      "processed 100 events\n",
      "processed 110 events\n",
      "processed 120 events\n",
      "processed 130 events\n",
      "processed 140 events\n",
      "processed 150 events\n",
      "processed 160 events\n",
      "processed 170 events\n",
      "processed 180 events\n",
      "processed 190 events\n",
      "processed 200 events\n",
      "processed 210 events\n",
      "processed 220 events\n",
      "processed 230 events\n",
      "processed 240 events\n",
      "processed 250 events\n",
      "processed 260 events\n",
      "processed 270 events\n",
      "processed 280 events\n",
      "processed 290 events\n",
      "processed 300 events\n",
      "processed 310 events\n",
      "processed 320 events\n",
      "processed 330 events\n",
      "processed 340 events\n",
      "processed 350 events\n",
      "processed 360 events\n",
      "processed 370 events\n",
      "processed 380 events\n",
      "processed 390 events\n",
      "processed 400 events\n",
      "processed 410 events\n",
      "processed 420 events\n",
      "processed 430 events\n",
      "processed 440 events\n",
      "processed 450 events\n",
      "processed 460 events\n",
      "processed 470 events\n",
      "processed 480 events\n",
      "processed 490 events\n",
      "processed 500 events\n",
      "processed 510 events\n",
      "processed 520 events\n",
      "processed 530 events\n",
      "processed 540 events\n",
      "processed 550 events\n",
      "processed 560 events\n",
      "processed 570 events\n",
      "processed 580 events\n",
      "processed 590 events\n",
      "processed 600 events\n",
      "processed 610 events\n",
      "processed 620 events\n",
      "processed 630 events\n",
      "processed 640 events\n",
      "processed 650 events\n",
      "processed 660 events\n",
      "processed 670 events\n",
      "processed 680 events\n",
      "processed 690 events\n",
      "processed 700 events\n",
      "processed 710 events\n",
      "processed 720 events\n",
      "processed 730 events\n",
      "processed 740 events\n",
      "processed 750 events\n",
      "processed 760 events\n",
      "processed 770 events\n",
      "processed 780 events\n",
      "processed 790 events\n",
      "processed 800 events\n",
      "processed 810 events\n",
      "processed 820 events\n",
      "processed 830 events\n",
      "processed 840 events\n",
      "processed 850 events\n",
      "processed 860 events\n",
      "processed 870 events\n",
      "processed 880 events\n",
      "processed 890 events\n",
      "processed 900 events\n",
      "processed 910 events\n",
      "processed 920 events\n",
      "processed 930 events\n",
      "processed 940 events\n",
      "processed 950 events\n",
      "processed 960 events\n",
      "processed 970 events\n",
      "processed 980 events\n",
      "processed 990 events\n",
      "processed 1000 events\n",
      "processed 1010 events\n",
      "processed 1020 events\n",
      "processed 1030 events\n",
      "processed 1040 events\n",
      "processed 1050 events\n",
      "processed 1060 events\n",
      "processed 1070 events\n",
      "processed 1080 events\n",
      "processed 1090 events\n",
      "processed 1100 events\n",
      "processed 1110 events\n",
      "processed 1120 events\n",
      "processed 1130 events\n",
      "processed 1140 events\n",
      "processed 1150 events\n",
      "processed 1160 events\n",
      "processed 1170 events\n",
      "processed 1180 events\n",
      "processed 1190 events\n",
      "processed 1200 events\n",
      "processed 1210 events\n",
      "processed 1220 events\n",
      "processed 1230 events\n",
      "processed 1240 events\n",
      "processed 1250 events\n",
      "processed 1260 events\n",
      "processed 1270 events\n",
      "processed 1280 events\n",
      "processed 1290 events\n",
      "processed 1300 events\n",
      "processed 1310 events\n",
      "processed 1320 events\n",
      "processed 1330 events\n",
      "processed 1340 events\n",
      "processed 1350 events\n",
      "processed 1360 events\n",
      "processed 1370 events\n",
      "processed 1380 events\n",
      "processed 1390 events\n",
      "processed 1400 events\n",
      "processed 1410 events\n",
      "processed 1420 events\n",
      "processed 1430 events\n",
      "processed 1440 events\n",
      "processed 1450 events\n",
      "processed 1460 events\n",
      "processed 1470 events\n",
      "processed 1480 events\n"
     ]
    }
   ],
   "source": [
    "mets_truth, performances_jet_puppi, mets_puppi, performances_jet_puppi_wcut, mets_puppi_wcut, performances_jet_pred, mets_pred,performances_jet_gen,mets_pf, gnn_preds, puppi_wgts = test(filelists, modelcolls)"
   ]
  },
  {
   "cell_type": "code",
   "execution_count": 17,
   "id": "181aa9d5",
   "metadata": {},
   "outputs": [
    {
     "data": {
      "image/png": "[encoded data removed]",
      "text/plain": [
       "<Figure size 720x576 with 1 Axes>"
      ]
     },
     "metadata": {
      "needs_background": "light"
     },
     "output_type": "display_data"
    },
    {
     "data": {
      "image/png": "[encoded data removed]",
      "text/plain": [
       "<Figure size 720x576 with 1 Axes>"
      ]
     },
     "metadata": {
      "needs_background": "light"
     },
     "output_type": "display_data"
    },
    {
     "data": {
      "image/png": "[encoded data removed]",
      "text/plain": [
       "<Figure size 720x576 with 1 Axes>"
      ]
     },
     "metadata": {
      "needs_background": "light"
     },
     "output_type": "display_data"
    }
   ],
   "source": [
    "def getResol(input):\n",
    "    return (np.quantile(input, 0.84) - np.quantile(input, 0.16))/2\n",
    "\n",
    "def getStat(input):\n",
    "    return float(np.median(input)), float(getResol(input))\n",
    "\n",
    "performances_jet_pred0 = performances_jet_pred['gated_boost']\n",
    "#performances_jet_pred1 = performances_jet_pred['gated_noboost']\n",
    "#performances_jet_pred2 = performances_jet_pred['graphsage_boost']\n",
    "#performances_jet_pred3 = performances_jet_pred['graphsage_noboost']\n",
    "#performances_jet_pred4 = performances_jet_pred['gated_boost_sp']\n",
    "\n",
    "\n",
    "mets_pred0 = mets_pred['gated_boost']\n",
    "\n",
    "linewidth=1.5\n",
    "\n",
    "\n",
    "%matplotlib inline\n",
    "plt.style.use(hep.style.ROOT)\n",
    "fig = plt.figure(figsize=(10,8))\n",
    "mass_diff = np.array([getattr(perf, \"mass_diff\") for perf in performances_jet_pred0])\n",
    "plt.hist(mass_diff, bins=40, range=(-1,1), histtype='step', color='blue', linewidth=linewidth, density=False, label=r'Semi-supervised, $\\mu={:10.2f}$, $\\sigma={:10.2f}$'.format(*(getStat(mass_diff))))\n",
    "mass_diff = np.array([getattr(perf, \"mass_diff\") for perf in performances_jet_gen])\n",
    "plt.hist(mass_diff, bins=40, range=(-1,1), histtype='step', color='green', linewidth=linewidth, density=False, label=r'Particle Flow, $\\mu={:10.2f}$, $\\sigma={:10.2f}$'.format(*(getStat(mass_diff))))\n",
    "\n",
    "mass_diff = np.array([getattr(perf, \"mass_diff\") for perf in performances_jet_puppi])\n",
    "#mass_diff = np.array([getattr(perf, \"mass_diff\") for perf in performances_jet_puppi])\n",
    "plt.hist(mass_diff, bins=40, range=(-1,1), histtype='step', color='red', linewidth=linewidth, density=False, label=r'PUPPI, $\\mu={:10.2f}$, $\\sigma={:10.2f}$'.format(*(getStat(mass_diff))))\n",
    "#plt.xlim(-1.0,1.3)\n",
    "plt.xlabel(r\"Jet Mass $(m_{reco} - m_{truth})/m_{truth}$\")\n",
    "plt.ylabel('A.U.')\n",
    "plt.ylim(0, 950)\n",
    "plt.legend()\n",
    "plt.savefig(\"Jet_mass_diff.pdf\")\n",
    "plt.savefig(\"Jet_mass_diff.png\")\n",
    "plt.show()\n",
    "\n",
    "\n",
    "#%matplotlib inline\n",
    "fig = plt.figure(figsize=(10,8))\n",
    "\n",
    "pt_diff = np.array([getattr(perf, \"pt_diff\") for perf in performances_jet_pred0])\n",
    "plt.hist(pt_diff, bins=40, range=(-0.3,0.3), histtype='step', color='blue', linewidth=linewidth, density=False, label=r'Semi-supevised, $\\mu={:10.3f}$, $\\sigma={:10.3f}$'.format(*(getStat(pt_diff))))\n",
    "pt_diff = np.array([getattr(perf, \"pt_diff\") for perf in performances_jet_gen])\n",
    "plt.hist(pt_diff, bins=40, range=(-0.3,0.3), histtype='step', color='green', linewidth=linewidth, density=False, label=r'Particle Flow, $\\mu={:10.3f}$, $\\sigma={:10.3f}$'.format(*(getStat(pt_diff))))\n",
    "#plt.xlim(0,40)\n",
    "pt_diff = np.array([getattr(perf, \"pt_diff\") for perf in performances_jet_puppi])\n",
    "#plt.hist(pt_diff, bins=40, range=(-0.3,0.3), histtype='step', color='red', linewidth=linewidth, density=False, label=r'PUPPI')\n",
    "plt.hist(pt_diff, bins=40, range=(-0.3,0.3), histtype='step', color='red', linewidth=linewidth, density=False, label=r'PUPPI, $\\mu={:10.3f}$, $\\sigma={:10.3f}$'.format(*(getStat(pt_diff))))\n",
    "#plt.xlim(0,40)\n",
    "plt.ylim(0, 850)\n",
    "plt.xlabel(r\"Jet $p_{T}$ $(p^{reco}_{T} - p^{truth}_{T})/p^{truth}_{T}$\")\n",
    "plt.ylabel('A.U.')\n",
    "plt.legend()\n",
    "plt.savefig(\"Jet_pT_diff.pdf\")\n",
    "plt.savefig(\"Jet_pT_diff.png\")\n",
    "plt.show()\n",
    "\n",
    "\n",
    "# MET resolution\n",
    "#%matplotlib inline\n",
    "\n",
    "fig = plt.figure(figsize=(10,8))\n",
    "mets_diff = (np.array(mets_pred0) - np.array(mets_truth))\n",
    "plt.hist(mets_diff, bins=30, range=(-30,30), histtype='step', color='blue', linewidth=linewidth, density=False, label=r'Semi-supervised, $\\mu={:10.2f}$, $\\sigma={:10.2f}$'.format(*(getStat(mets_diff))))\n",
    "#mets_diff = (np.array(mets_pred4) - np.array(mets_truth))\n",
    "#plt.hist(mets_diff, bins=30, range=(-30,30), histtype='step', color='green', linewidth=linewidth, density=False, label=r'Fully-supervised, $\\mu={:10.2f}$, $\\sigma={:10.2f}$'.format(*(getStat(mets_diff))))\n",
    "\n",
    "mets_diff = (np.array(mets_pf) - np.array(mets_truth))\n",
    "plt.hist(mets_diff, bins=30, range=(-30,30), histtype='step', color='green', linewidth=linewidth, density=False, label=r'Particle Flow, $\\mu={:10.2f}$, $\\sigma={:10.2f}$'.format(*(getStat(mets_diff))))\n",
    "\n",
    "\n",
    "mets_diff = (np.array(mets_puppi) - np.array(mets_truth))\n",
    "plt.hist(mets_diff, bins=30, range=(-30,30), histtype='step', color='red', linewidth=linewidth, density=False, label=r'PUPPI, $\\mu={:10.2f}$, $\\sigma={:10.2f}$'.format(*(getStat(mets_diff))))\n",
    "\n",
    "plt.xlabel(r\"$p^{miss, reco}_{T} - p^{miss, truth}_{T}$ [GeV]\")\n",
    "plt.ylabel('A.U.')\n",
    "plt.ylim(0,350)\n",
    "plt.legend()\n",
    "plt.savefig(\"MET_diff.pdf\")\n",
    "plt.savefig(\"MET_diff.png\")\n",
    "plt.show()\n"
   ]
  },
  {
   "cell_type": "code",
   "execution_count": 18,
   "id": "bd218a1e",
   "metadata": {},
   "outputs": [
    {
     "name": "stderr",
     "output_type": "stream",
     "text": [
      "/tmp/ipykernel_3534780/2774062642.py:23: UserWarning: Attempted to set non-positive bottom ylim on a log-scaled axis.\n",
      "Invalid limit will be ignored.\n",
      "  plt.ylim(0, 100)\n"
     ]
    },
    {
     "data": {
      "image/png": "[encoded data removed]",
      "text/plain": [
       "<Figure size 720x576 with 1 Axes>"
      ]
     },
     "metadata": {
      "needs_background": "light"
     },
     "output_type": "display_data"
    }
   ],
   "source": [
    "fig = plt.figure(figsize=(10,8))\n",
    "#gnn = np.array(gnn_preds)\n",
    "\n",
    "#gnn = ak.to_numpy(ak.flatten(gnn_preds[4]))\n",
    "#gnn = np.vstack(gnn_preds)\n",
    "#gnn=np.stack(gnn_preds)\n",
    "gnn=ak.Array(gnn_preds)\n",
    "gnn= ak.flatten(gnn[:,0,:])\n",
    "\n",
    "puppi=ak.Array(puppi_wgts)\n",
    "puppi= ak.flatten(puppi[:,0,:])\n",
    "\n",
    "\n",
    "#print (\"pred:\" , gnn[:,0,:])\n",
    "plt.hist(gnn, bins=30, range=(0,1), histtype='step', color='blue', linewidth=linewidth, density=True, label=r'Semi-supervised')\n",
    "\n",
    "plt.hist(puppi, bins=30, range=(0,1), histtype='step', color='red', linewidth=linewidth, density=True, label=r'Puppi')\n",
    "\n",
    "\n",
    "plt.xlabel(\"weight\")\n",
    "plt.yscale(\"log\")\n",
    "plt.ylabel('A.U.')\n",
    "plt.ylim(0, 100)\n",
    "plt.legend()\n",
    "plt.savefig(\"GNN_Puppi_weights.png\")\n",
    "\n",
    "plt.show()"
   ]
  },
  {
   "cell_type": "code",
   "execution_count": 19,
   "id": "1233206e",
   "metadata": {},
   "outputs": [
    {
     "name": "stdout",
     "output_type": "stream",
     "text": [
      "norm: <scipy.stats._continuous_distns.norm_gen object at 0x2ba7a8a45c40>\n",
      "rv: ['__class__', '__delattr__', '__dict__', '__dir__', '__doc__', '__eq__', '__format__', '__ge__', '__getattribute__', '__gt__', '__hash__', '__init__', '__init_subclass__', '__le__', '__lt__', '__module__', '__ne__', '__new__', '__reduce__', '__reduce_ex__', '__repr__', '__setattr__', '__sizeof__', '__str__', '__subclasshook__', '__weakref__', 'a', 'args', 'b', 'cdf', 'dist', 'entropy', 'expect', 'interval', 'isf', 'kwds', 'logcdf', 'logpdf', 'logpmf', 'logsf', 'mean', 'median', 'moment', 'pdf', 'pmf', 'ppf', 'random_state', 'rvs', 'sf', 'stats', 'std', 'support', 'var']\n",
      "pdf_gnn [0.39894228 0.39894228 0.39894228 ... 0.39842511 0.39881097 0.39867384]\n"
     ]
    },
    {
     "name": "stderr",
     "output_type": "stream",
     "text": [
      "/tmp/ipykernel_3534780/939395631.py:16: UserWarning: Attempted to set non-positive bottom ylim on a log-scaled axis.\n",
      "Invalid limit will be ignored.\n",
      "  plt.ylim(0, 100)\n"
     ]
    },
    {
     "data": {
      "image/png": "[encoded data removed]",
      "text/plain": [
       "<Figure size 720x576 with 1 Axes>"
      ]
     },
     "metadata": {
      "needs_background": "light"
     },
     "output_type": "display_data"
    }
   ],
   "source": [
    "fig = plt.figure(figsize=(10,8))\n",
    "pdf_puppi = norm.pdf(puppi)\n",
    "pdf_gnn = norm.pdf(gnn)\n",
    "rv = norm()\n",
    "print(\"norm:\" , norm)\n",
    "dir(rv)\n",
    "print(\"rv:\" , dir(rv))\n",
    "print(\"pdf_gnn\" , pdf_gnn)\n",
    "\n",
    "plt.hist(pdf_puppi, bins=30, range=(0.2,0.5), histtype='step', color='red', linewidth=linewidth, density=True, label=r'puppi pdf')\n",
    "plt.hist(pdf_gnn, bins=30, range=(0.2,0.5), histtype='step', color='green', linewidth=linewidth, density=True, label=r'gnn pdf')\n",
    "\n",
    "plt.xlabel(\"weight\")\n",
    "plt.yscale(\"log\")\n",
    "plt.ylabel('A.U.')\n",
    "plt.ylim(0, 100)\n",
    "plt.legend()\n",
    "plt.savefig(\"GNN_Puppi_pdf.png\")\n",
    "#plt.savefig(\"GNN_Puppi_weights.png\")\n",
    "\n",
    "plt.show()"
   ]
  },
  {
   "cell_type": "code",
   "execution_count": 31,
   "id": "8c39ea06",
   "metadata": {},
   "outputs": [
    {
     "name": "stdout",
     "output_type": "stream",
     "text": [
      "pdf_gnn [0.24197072 0.24197072 0.24197072 ... 0.39894228 0.39894228 0.39894228]\n",
      "pdf_puppi [0.24197072 0.24197072 0.24197072 ... 0.39894228 0.39894228 0.39894228]\n"
     ]
    }
   ],
   "source": [
    "#for i in range(0,len(pdf_puppi)): \n",
    "    #print(array[i]) \n",
    "    #print(\"pdf_puppi\" , pdf_puppi[i])\n",
    "pdf_gnn.sort()\n",
    "print(\"pdf_gnn\" , pdf_gnn)\n",
    "pdf_puppi.sort()\n",
    "\n",
    "print(\"pdf_puppi\" , pdf_puppi)"
   ]
  },
  {
   "cell_type": "code",
   "execution_count": null,
   "id": "be6a2104",
   "metadata": {
    "scrolled": true
   },
   "outputs": [],
   "source": []
  },
  {
   "cell_type": "code",
   "execution_count": 21,
   "id": "dede76cb",
   "metadata": {},
   "outputs": [
    {
     "name": "stdout",
     "output_type": "stream",
     "text": [
      "norm: <scipy.stats._continuous_distns.norm_gen object at 0x2ba7a8a45c40>\n",
      "rv: ['__class__', '__delattr__', '__dict__', '__dir__', '__doc__', '__eq__', '__format__', '__ge__', '__getattribute__', '__gt__', '__hash__', '__init__', '__init_subclass__', '__le__', '__lt__', '__module__', '__ne__', '__new__', '__reduce__', '__reduce_ex__', '__repr__', '__setattr__', '__sizeof__', '__str__', '__subclasshook__', '__weakref__', 'a', 'args', 'b', 'cdf', 'dist', 'entropy', 'expect', 'interval', 'isf', 'kwds', 'logcdf', 'logpdf', 'logpmf', 'logsf', 'mean', 'median', 'moment', 'pdf', 'pmf', 'ppf', 'random_state', 'rvs', 'sf', 'stats', 'std', 'support', 'var']\n"
     ]
    },
    {
     "name": "stderr",
     "output_type": "stream",
     "text": [
      "/tmp/ipykernel_3534780/3953079394.py:15: UserWarning: Attempted to set non-positive bottom ylim on a log-scaled axis.\n",
      "Invalid limit will be ignored.\n",
      "  plt.ylim(0, 100)\n"
     ]
    },
    {
     "data": {
      "image/png": "[encoded data removed]",
      "text/plain": [
       "<Figure size 720x576 with 1 Axes>"
      ]
     },
     "metadata": {
      "needs_background": "light"
     },
     "output_type": "display_data"
    }
   ],
   "source": [
    "fig = plt.figure(figsize=(10,8))\n",
    "cdf_puppi = norm.cdf(puppi)\n",
    "cdf_gnn = norm.cdf(gnn)\n",
    "rv = norm()\n",
    "print(\"norm:\" , norm)\n",
    "dir(rv)\n",
    "print(\"rv:\" , dir(rv))\n",
    "\n",
    "plt.hist(cdf_puppi, bins=30, range=(0,1), histtype='step', color='red', linewidth=linewidth, density=True, label=r'puppi cdf')\n",
    "plt.hist(cdf_gnn, bins=30, range=(0,1), histtype='step', color='green', linewidth=linewidth, density=True, label=r'gnn cdf')\n",
    "\n",
    "plt.xlabel(\"weight\")\n",
    "plt.yscale(\"log\")\n",
    "plt.ylabel('A.U.')\n",
    "plt.ylim(0, 100)\n",
    "plt.legend()\n",
    "plt.savefig(\"GNN_Puppi_cdf.png\")\n",
    "\n",
    "plt.show()"
   ]
  },
  {
   "cell_type": "code",
   "execution_count": null,
   "id": "0b1b3551",
   "metadata": {},
   "outputs": [],
   "source": []
  },
  {
   "cell_type": "code",
   "execution_count": 27,
   "id": "1ddce9b0",
   "metadata": {},
   "outputs": [
    {
     "name": "stdout",
     "output_type": "stream",
     "text": [
      "S_PDF_puppi [2.41970725e-01 4.83941449e-01 7.25912174e-01 ... 4.25147095e+05\n",
      " 4.25147494e+05 4.25147893e+05]\n",
      "S_PDF_gnn [2.41970725e-01 4.83941449e-01 7.25912174e-01 ... 4.32753336e+05\n",
      " 4.32753735e+05 4.32754134e+05]\n"
     ]
    },
    {
     "data": {
      "image/png": "[encoded data removed]",
      "text/plain": [
       "<Figure size 720x576 with 1 Axes>"
      ]
     },
     "metadata": {
      "needs_background": "light"
     },
     "output_type": "display_data"
    }
   ],
   "source": [
    "fig = plt.figure(figsize=(10,8))\n",
    "S_PDF_puppi=np.cumsum(pdf_puppi,axis=0)\n",
    "S_PDF_gnn=np.cumsum(pdf_gnn,axis=0)\n",
    "\n",
    "\n",
    "#for i in range(0,len(S_PDF_puppi)): \n",
    "    #print(\"S_PDF_puppi\" , S_PDF_puppi[i])\n",
    "\n",
    "print (\"S_PDF_puppi\",S_PDF_puppi)\n",
    "print (\"S_PDF_gnn\",S_PDF_gnn)\n",
    "#plt.hist(S_PDF_puppi, bins=30, range=(0,1), histtype='step', color='red', linewidth=linewidth, density=True, label=r'Sum of pdf Puppi')\n",
    "plt.hist(S_PDF_gnn, bins=30, range=(0,1), histtype='step', color='blue', linewidth=linewidth, density=True, label=r'Sum of pdf GNN')\n",
    "\n",
    "plt.xlabel(\"weight\")\n",
    "#plt.yscale(\"log\")\n",
    "plt.ylabel('A.U.')\n",
    "plt.ylim(0.001, 20)\n",
    "plt.legend()\n",
    "#plt.savefig(\"GNN_Puppi_cdf.png\")\n",
    "\n",
    "plt.show()\n",
    "        \n"
   ]
  },
  {
   "cell_type": "code",
   "execution_count": 28,
   "id": "ce1e814f",
   "metadata": {},
   "outputs": [
    {
     "name": "stdout",
     "output_type": "stream",
     "text": [
      "425147.8931306876\n"
     ]
    },
    {
     "data": {
      "text/plain": [
       "<Figure size 720x576 with 0 Axes>"
      ]
     },
     "metadata": {},
     "output_type": "display_data"
    }
   ],
   "source": [
    "fig = plt.figure(figsize=(10,8))\n",
    "sum_PDF_puppi=np.sum(pdf_puppi)\n",
    "print (sum_PDF_puppi)\n",
    "\n",
    "\n"
   ]
  },
  {
   "cell_type": "code",
   "execution_count": 29,
   "id": "6a22fafd",
   "metadata": {},
   "outputs": [
    {
     "data": {
      "text/plain": [
       "(array([0. , 0. , 0. , 0. , 0. , 0. , 0. , 7.5, 0. , 0. , 0. , 0. , 0. ,\n",
       "        0. , 7.5, 0. , 0. , 0. , 0. , 0. , 0. , 7.5, 0. , 0. , 0. , 0. ,\n",
       "        0. , 0. , 0. , 7.5]),\n",
       " array([0.        , 0.03333333, 0.06666667, 0.1       , 0.13333333,\n",
       "        0.16666667, 0.2       , 0.23333333, 0.26666667, 0.3       ,\n",
       "        0.33333333, 0.36666667, 0.4       , 0.43333333, 0.46666667,\n",
       "        0.5       , 0.53333333, 0.56666667, 0.6       , 0.63333333,\n",
       "        0.66666667, 0.7       , 0.73333333, 0.76666667, 0.8       ,\n",
       "        0.83333333, 0.86666667, 0.9       , 0.93333333, 0.96666667,\n",
       "        1.        ]),\n",
       " [<matplotlib.patches.Polygon at 0x2ba7d0132460>])"
      ]
     },
     "execution_count": 29,
     "metadata": {},
     "output_type": "execute_result"
    },
    {
     "data": {
      "image/png": "[encoded data removed]",
      "text/plain": [
       "<Figure size 720x720 with 1 Axes>"
      ]
     },
     "metadata": {
      "needs_background": "light"
     },
     "output_type": "display_data"
    }
   ],
   "source": [
    "plt.hist(S_PDF_puppi, bins=30, range=(0,1), histtype='step', color='red', linewidth=linewidth, density=True, label=r'Sum of pdf Puppi')"
   ]
  },
  {
   "cell_type": "code",
   "execution_count": 30,
   "id": "8af1afdc",
   "metadata": {},
   "outputs": [
    {
     "name": "stdout",
     "output_type": "stream",
     "text": [
      "[1 3 7]\n",
      "[0.84134475 0.97724987 0.99996833]\n",
      "[2.41970725e-01 5.39909665e-02 1.33830226e-04]\n"
     ]
    }
   ],
   "source": [
    "a=[1,2,4]\n",
    "cumsum =np.cumsum(a)\n",
    "print(cumsum)\n",
    "print(norm.cdf(a))\n",
    "print(norm.pdf(a))\n"
   ]
  },
  {
   "cell_type": "code",
   "execution_count": null,
   "id": "190d3274",
   "metadata": {},
   "outputs": [],
   "source": []
  },
  {
   "cell_type": "code",
   "execution_count": null,
   "id": "35df72f2",
   "metadata": {},
   "outputs": [],
   "source": []
  },
  {
   "cell_type": "code",
   "execution_count": null,
   "id": "97dc7e19",
   "metadata": {},
   "outputs": [],
   "source": []
  }
 ],
 "metadata": {
  "kernelspec": {
   "display_name": "Python 3 (ipykernel)",
   "language": "python",
   "name": "python3"
  },
  "language_info": {
   "codemirror_mode": {
    "name": "ipython",
    "version": 3
   },
   "file_extension": ".py",
   "mimetype": "text/x-python",
   "name": "python",
   "nbconvert_exporter": "python",
   "pygments_lexer": "ipython3",
   "version": "3.8.12"
  }
 },
 "nbformat": 4,
 "nbformat_minor": 5
}
