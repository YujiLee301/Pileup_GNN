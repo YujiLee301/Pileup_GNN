{
 "cells": [
  {
   "cell_type": "markdown",
   "id": "65176a90",
   "metadata": {},
   "source": [
    "notebook for gen Particles.\n",
    "Open using uproot.\n",
    "Matching with gen using dR"
   ]
  },
  {
   "cell_type": "code",
   "execution_count": 1,
   "id": "5dbf1827",
   "metadata": {},
   "outputs": [],
   "source": [
    "import uproot\n",
    "import awkward as ak\n",
    "import matplotlib\n",
    "import matplotlib.pyplot as plt\n",
    "from matplotlib.collections import LineCollection\n",
    "import numpy as np\n",
    "import scipy as s\n",
    "import pickle\n",
    "from scipy.integrate import quad\n",
    "import scipy.integrate as integrate"
   ]
  },
  {
   "cell_type": "code",
   "execution_count": 2,
   "id": "f5e4123f",
   "metadata": {},
   "outputs": [],
   "source": [
    "# read the ttree\n",
    "tree = uproot.open(\"/depot/cms/private/users/gpaspala/output_1.root\")[\"Events\"]\n",
    "# read the pf candidates and gen particle information into akward arrays\n",
    "pfcands = tree.arrays(tree.keys('PF_*') + ['nPF'], entry_start=0, entry_stop=2000)\n",
    "genparts = tree.arrays(tree.keys('packedGenPart_*') + ['npackedGenPart'], entry_start=0, entry_stop=2000)\n"
   ]
  },
  {
   "cell_type": "code",
   "execution_count": 3,
   "id": "6f01ff7c",
   "metadata": {},
   "outputs": [
    {
     "name": "stdout",
     "output_type": "stream",
     "text": [
      "['packedGenPart_eta', 'packedGenPart_mass', 'packedGenPart_phi', 'packedGenPart_pt', 'packedGenPart_charge', 'packedGenPart_pdgId', 'packedGenPart_status']\n"
     ]
    }
   ],
   "source": [
    "print(tree.keys(filter_name=\"packedGenPart_*\"))"
   ]
  },
  {
   "cell_type": "code",
   "execution_count": 4,
   "id": "94ec2ac1",
   "metadata": {},
   "outputs": [
    {
     "name": "stdout",
     "output_type": "stream",
     "text": [
      "['PF_d0', 'PF_d0Error', 'PF_dz', 'PF_dzError', 'PF_eta', 'PF_hcalFraction', 'PF_mass', 'PF_phi', 'PF_pt', 'PF_puppiWeight', 'PF_puppiWeightNoLep', 'PF_rawCaloFraction', 'PF_trkChi2', 'PF_vertexChi2', 'PF_vertexNdof', 'PF_vertexNormalizedChi2', 'PF_charge', 'PF_fromPV', 'PF_lostInnerHits', 'PF_pdgId', 'PF_pvAssocQuality', 'PF_status', 'PF_trkQuality', 'PF_hasTrackDetails', 'PF_isIsolatedChargedHadron']\n"
     ]
    }
   ],
   "source": [
    "print(tree.keys(filter_name=\"PF_*\"))"
   ]
  },
  {
   "cell_type": "code",
   "execution_count": 5,
   "id": "dbef8e17",
   "metadata": {},
   "outputs": [
    {
     "name": "stdout",
     "output_type": "stream",
     "text": [
      "name                 | typename                 | interpretation                \n",
      "---------------------+--------------------------+-------------------------------\n",
      "packedGenPart_eta    | float[]                  | AsJagged(AsDtype('>f4'))\n",
      "packedGenPart_mass   | float[]                  | AsJagged(AsDtype('>f4'))\n",
      "packedGenPart_phi    | float[]                  | AsJagged(AsDtype('>f4'))\n",
      "packedGenPart_pt     | float[]                  | AsJagged(AsDtype('>f4'))\n",
      "packedGenPart_charge | int32_t[]                | AsJagged(AsDtype('>i4'))\n",
      "packedGenPart_pdgId  | int32_t[]                | AsJagged(AsDtype('>i4'))\n",
      "packedGenPart_status | int32_t[]                | AsJagged(AsDtype('>i4'))\n"
     ]
    }
   ],
   "source": [
    "tree.show(filter_name=\"packedGenPart_*\")"
   ]
  },
  {
   "cell_type": "code",
   "execution_count": 6,
   "id": "2261bae4",
   "metadata": {},
   "outputs": [
    {
     "data": {
      "image/png": "[encoded data removed]",
      "text/plain": [
       "<Figure size 432x288 with 1 Axes>"
      ]
     },
     "metadata": {
      "needs_background": "light"
     },
     "output_type": "display_data"
    }
   ],
   "source": [
    "#check puppy distribution\n",
    "# plot the number of PF candidates per event\n",
    "plt.figure()\n",
    "plt.hist( ak.to_numpy(pfcands['nPF']), bins=50, range=(0,3000), histtype='step', label= \"with PU\")\n",
    "plt.xlabel(\"nPF\")\n",
    "plt.legend()\n",
    "\n",
    "plt.show()"
   ]
  },
  {
   "cell_type": "code",
   "execution_count": 7,
   "id": "c7ad0d02",
   "metadata": {},
   "outputs": [
    {
     "name": "stdout",
     "output_type": "stream",
     "text": [
      "[[0.748, 0.712, 0.31, 0.486, 0.501, 0.2, ... 0.172, 0.00833, 0.11, 0.265, 0.146]]\n"
     ]
    },
    {
     "data": {
      "image/png": "[encoded data removed]",
      "text/plain": [
       "<Figure size 432x288 with 1 Axes>"
      ]
     },
     "metadata": {
      "needs_background": "light"
     },
     "output_type": "display_data"
    }
   ],
   "source": [
    "#Plot the Pt of generated particles\n",
    "genPt_1= genparts['packedGenPart_pt']\n",
    "print(genPt_1)\n",
    "plt.figure()\n",
    "plt.yscale(\"log\")\n",
    "plt.hist (ak.to_numpy(ak.flatten(genparts['packedGenPart_pt'])), bins=100, range=(0,4500), label='generated particles', histtype='step')\n",
    "plt.xlabel(\"genPt [GeV]\")\n",
    "plt.legend()\n",
    "plt.show()\n",
    "#get the number of entries\n",
    "#print(genparts[\"packedGenPart_pt\"])\n",
    "bin_width=45\n",
    "total=ak.to_numpy(ak.flatten(genparts['packedGenPart_pt'])).sum()\n",
    "#print(total)"
   ]
  },
  {
   "cell_type": "code",
   "execution_count": 8,
   "id": "1369f3d7",
   "metadata": {},
   "outputs": [
    {
     "data": {
      "image/png": "[encoded data removed]",
      "text/plain": [
       "<Figure size 432x288 with 1 Axes>"
      ]
     },
     "metadata": {
      "needs_background": "light"
     },
     "output_type": "display_data"
    }
   ],
   "source": [
    "#Plot the eta of generated particles\n",
    "plt.figure()\n",
    "plt.yscale(\"log\")\n",
    "plt.hist (ak.to_numpy(ak.flatten(genparts['packedGenPart_eta'])), bins=100, range=(-3,3), label='generated particles', histtype='step')\n",
    "plt.xlabel(\"gen eta\")\n",
    "plt.legend()\n",
    "plt.show()"
   ]
  },
  {
   "cell_type": "code",
   "execution_count": 9,
   "id": "5a6065c0",
   "metadata": {},
   "outputs": [
    {
     "name": "stdout",
     "output_type": "stream",
     "text": [
      "[[1, 1, 0, 1, 1, 1, 1, 1, 1, 1, 1, 1, 1, ... 0, 0, 0, 0, 0, 0, 0, 0, 0, 0, 0, 0, 0]]\n"
     ]
    }
   ],
   "source": [
    "isGenChg = genparts['packedGenPart_charge']!=0\n",
    "print (abs(genparts['packedGenPart_charge']))"
   ]
  },
  {
   "cell_type": "code",
   "execution_count": 10,
   "id": "31dcaf4e",
   "metadata": {},
   "outputs": [
    {
     "name": "stdout",
     "output_type": "stream",
     "text": [
      "[[0.748, 0.712, 0.486, 0.501, 0.2, 0.243, ... 0.239, 0.279, 0.151, 0.382, 0.409]]\n"
     ]
    },
    {
     "data": {
      "image/png": "[encoded data removed]",
      "text/plain": [
       "<Figure size 432x288 with 1 Axes>"
      ]
     },
     "metadata": {
      "needs_background": "light"
     },
     "output_type": "display_data"
    }
   ],
   "source": [
    "#plot charged generated particles pt\n",
    "genPt = genparts['packedGenPart_pt'][isGenChg]\n",
    "print(genPt)\n",
    "plt.figure()\n",
    "plt.yscale(\"log\")\n",
    "#plt.hist (genparts['packedGenPart_pt'][isGenChg][1], bins=50, range=(0,80), histtype='step')\n",
    "plt.hist (ak.to_numpy(ak.flatten(genparts['packedGenPart_pt'][isGenChg])), bins=100, range=(0,4500), histtype='step')\n",
    "plt.xlabel(\"genPt of charged particles [GeV]\")\n",
    "plt.show()"
   ]
  },
  {
   "cell_type": "code",
   "execution_count": 11,
   "id": "d7017c38",
   "metadata": {
    "scrolled": true
   },
   "outputs": [
    {
     "name": "stdout",
     "output_type": "stream",
     "text": [
      "[[-3.03, -4.32, -4.64, -2.47, -1.25, -3.94, ... -0.243, -0.133, 2.98, 1.69, 6.02]]\n"
     ]
    },
    {
     "data": {
      "image/png": "[encoded data removed]",
      "text/plain": [
       "<Figure size 432x288 with 1 Axes>"
      ]
     },
     "metadata": {
      "needs_background": "light"
     },
     "output_type": "display_data"
    }
   ],
   "source": [
    "#plot charged generated particles eta\n",
    "geneta = genparts['packedGenPart_eta'][isGenChg]\n",
    "print(geneta)\n",
    "plt.figure()\n",
    "plt.yscale(\"log\")\n",
    "#plt.hist (genparts['packedGenPart_pt'][isGenChg][1], bins=50, range=(0,80), histtype='step')\n",
    "plt.hist (ak.to_numpy(ak.flatten(genparts['packedGenPart_eta'][isGenChg])), bins=100, range=(-3,3), histtype='step')\n",
    "plt.xlabel(\"genEta of charged particles [GeV]\")\n",
    "plt.show()"
   ]
  },
  {
   "cell_type": "code",
   "execution_count": 12,
   "id": "f5827e5a",
   "metadata": {},
   "outputs": [
    {
     "name": "stdout",
     "output_type": "stream",
     "text": [
      "930809\n"
     ]
    }
   ],
   "source": [
    "total=ak.to_numpy(ak.flatten(genparts['packedGenPart_pt'])).sum()\n",
    "shape = ak.to_numpy(ak.flatten(genparts['packedGenPart_pt'])).shape[0]\n",
    "print (shape)\n"
   ]
  },
  {
   "cell_type": "code",
   "execution_count": 13,
   "id": "c1da893d",
   "metadata": {},
   "outputs": [
    {
     "name": "stdout",
     "output_type": "stream",
     "text": [
      "[[-1.68, -2.79, -0.598, -1.73, -1.26, -0.119, ... 2.92, 0.761, 0.357, -0.253, 1.84]]\n"
     ]
    },
    {
     "data": {
      "image/png": "[encoded data removed]",
      "text/plain": [
       "<Figure size 432x288 with 1 Axes>"
      ]
     },
     "metadata": {
      "needs_background": "light"
     },
     "output_type": "display_data"
    }
   ],
   "source": [
    "#plot charged generated particles phi\n",
    "genphi = genparts['packedGenPart_phi'][isGenChg]\n",
    "print (genphi)\n",
    "plt.figure()\n",
    "plt.yscale(\"log\")\n",
    "#plt.hist (genparts['packedGenPart_pt'][isGenChg][1], bins=50, range=(0,80), histtype='step')\n",
    "plt.hist (ak.to_numpy(ak.flatten(genparts['packedGenPart_phi'][isGenChg])), bins=100, range=(-3,3), histtype='step')\n",
    "plt.xlabel(\"genPhi of charged particles [GeV]\")\n",
    "plt.show()"
   ]
  },
  {
   "cell_type": "code",
   "execution_count": 14,
   "id": "872b4b4d",
   "metadata": {},
   "outputs": [],
   "source": [
    "#save them in pickel file"
   ]
  },
  {
   "cell_type": "code",
   "execution_count": null,
   "id": "d08a279b",
   "metadata": {},
   "outputs": [],
   "source": []
  }
 ],
 "metadata": {
  "kernelspec": {
   "display_name": "Python 3 (ipykernel)",
   "language": "python",
   "name": "python3"
  },
  "language_info": {
   "codemirror_mode": {
    "name": "ipython",
    "version": 3
   },
   "file_extension": ".py",
   "mimetype": "text/x-python",
   "name": "python",
   "nbconvert_exporter": "python",
   "pygments_lexer": "ipython3",
   "version": "3.8.12"
  }
 },
 "nbformat": 4,
 "nbformat_minor": 5
}
